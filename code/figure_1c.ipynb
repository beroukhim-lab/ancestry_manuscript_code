{
 "cells": [
  {
   "cell_type": "code",
   "execution_count": 3,
   "metadata": {
    "vscode": {
     "languageId": "r"
    }
   },
   "outputs": [],
   "source": [
    "#Set up the environment\n",
    "library(reshape2)\n",
    "library(tidyverse)\n",
    "library(janitor) #has the rownames_to_column function"
   ]
  },
  {
   "cell_type": "code",
   "execution_count": 4,
   "metadata": {
    "vscode": {
     "languageId": "r"
    }
   },
   "outputs": [],
   "source": [
    "#Load in the chronos data\n",
    "setwd(\"../data\")\n",
    "ccle.chronos = read.table(\"22q1_crispr_gene_effect.csv\", sep = \",\", header = T, check.names = FALSE) %>%\n",
    "setNames(word(names(.), 1)) %>%\n",
    "rename(\"sample\" = 1)\n",
    "\n",
    "#Get a vector of samples in the chronos data\n",
    "chronos.samples = ccle.chronos %>% pull(sample)"
   ]
  },
  {
   "cell_type": "code",
   "execution_count": 5,
   "metadata": {
    "vscode": {
     "languageId": "r"
    }
   },
   "outputs": [],
   "source": [
    "#Load in the gene block matrix to save a bunch of compute time if I ever need to re-make the figure\n",
    "setwd(\"../data\")\n",
    "gene.block.matrix = read.table(\"gene.block.matrix.txt\", sep = \"\\t\", header = T)\n",
    "row.names(gene.block.matrix) = NULL\n",
    "\n",
    "#Format gene.block.matrix so that it is ready for our analysis\n",
    "#Also filter it so that it only includes samples that have chronos scores\n",
    "formatted.gene.block.matrix = gene.block.matrix %>%\n",
    "column_to_rownames(var = \"gene\") %>%\n",
    "select(-block_id, -X.chm, -spos, -epos) %>%\n",
    "t() %>%\n",
    "data.frame() %>%\n",
    "rownames_to_column() %>%\n",
    "rename(\"sample\" = 1) %>%\n",
    "mutate(sample = gsub(\"ACH.000\", \"ACH-000\", sample)) %>%\n",
    "mutate(sample = gsub(\"\\\\.1\", \"\", sample)) %>%\n",
    "filter(sample %in% chronos.samples)"
   ]
  },
  {
   "cell_type": "code",
   "execution_count": 6,
   "metadata": {
    "vscode": {
     "languageId": "r"
    }
   },
   "outputs": [],
   "source": [
    "#Calculate the number of cell lines for each gene\n",
    "num.afr = formatted.gene.block.matrix %>% select(-sample) %>% summarise(across(everything(), ~sum(. == \"0\")))\n",
    "num.amr = formatted.gene.block.matrix %>% select(-sample) %>% summarise(across(everything(), ~sum(. == \"1\")))\n",
    "num.eas = formatted.gene.block.matrix %>% select(-sample) %>% summarise(across(everything(), ~sum(. == \"2\")))\n",
    "num.eur = formatted.gene.block.matrix %>% select(-sample) %>% summarise(across(everything(), ~sum(. == \"3\")))\n",
    "num.sas = formatted.gene.block.matrix %>% select(-sample) %>% summarise(across(everything(), ~sum(. == \"4\")))"
   ]
  },
  {
   "cell_type": "code",
   "execution_count": 7,
   "metadata": {
    "vscode": {
     "languageId": "r"
    }
   },
   "outputs": [
    {
     "data": {
      "text/html": [
       "611"
      ],
      "text/latex": [
       "611"
      ],
      "text/markdown": [
       "611"
      ],
      "text/plain": [
       "[1] 611"
      ]
     },
     "metadata": {},
     "output_type": "display_data"
    }
   ],
   "source": [
    "#Bind them all together into a single data frame \n",
    "lines.with.ancestry.per.gene = rbind(num.afr, num.amr, num.eas, num.eur, num.sas) %>% \n",
    "t() %>%\n",
    "data.frame() %>%\n",
    "rownames_to_column(\"gene\") %>%\n",
    "rename(\"afr\" = 2, \"amr\" = 3, \"eas\" = 4, \"eur\" = 5, \"sas\" = 6)\n",
    "\n",
    "#Calculate the average for each ancestry group\n",
    "afr.average = lines.with.ancestry.per.gene %>% pull(afr) %>% mean()\n",
    "amr.average = lines.with.ancestry.per.gene %>% pull(amr) %>% mean()\n",
    "eas.average = lines.with.ancestry.per.gene %>% pull(eas) %>% mean()\n",
    "eur.average = lines.with.ancestry.per.gene %>% pull(eur) %>% mean()\n",
    "sas.average = lines.with.ancestry.per.gene %>% pull(sas) %>% mean()\n",
    "\n",
    "#Calculate the total number of samples\n",
    "formatted.gene.block.matrix %>% nrow()"
   ]
  },
  {
   "cell_type": "code",
   "execution_count": 8,
   "metadata": {
    "vscode": {
     "languageId": "r"
    }
   },
   "outputs": [],
   "source": [
    "#Calculate the mean SD across all chronos.scores\n",
    "chronos.mean.sd = ccle.chronos %>%\n",
    "select(-sample) %>%\n",
    "apply(2, sd) %>%\n",
    "mean(na.rm = TRUE)"
   ]
  },
  {
   "cell_type": "code",
   "execution_count": 9,
   "metadata": {
    "vscode": {
     "languageId": "r"
    }
   },
   "outputs": [],
   "source": [
    "#Load in the sample annotation data\n",
    "setwd(\"../data\")\n",
    "sample.annotation = read.table('depmap_cell_lineage.csv', sep = \",\", header = T) %>%\n",
    "rename(\"sample\" = 1)"
   ]
  },
  {
   "cell_type": "code",
   "execution_count": 10,
   "metadata": {
    "vscode": {
     "languageId": "r"
    }
   },
   "outputs": [],
   "source": [
    "#Construct a vector of mean differences that we are interested in simulating p-values for\n",
    "mean.difference.vector = seq(from = 0.01, to = 1, by = 0.01)"
   ]
  },
  {
   "cell_type": "code",
   "execution_count": 11,
   "metadata": {
    "vscode": {
     "languageId": "r"
    }
   },
   "outputs": [],
   "source": [
    "#Compute simulated p-values for all of the AFR samples\n",
    "#Who cares about DRY? Copy/paste is easier.\n",
    "afr.simulated.pvalues = NULL\n",
    "\n",
    "for(i in 1:length(mean.difference.vector)){\n",
    "    \n",
    "    #get a float with the mean difference we are interested in\n",
    "    mean.difference.float = mean.difference.vector[i]\n",
    "    \n",
    "    #Get floats with the number of samples in the ancestry group and not in the ancestry group\n",
    "    in.ancestry.group.float = 26\n",
    "    not.in.ancestry.group.float = 611 - in.ancestry.group.float\n",
    "        \n",
    "    #Perform iterations of calculating the p-value\n",
    "    p.value.vector = NULL #Vector to store the p-values in\n",
    "    \n",
    "    repeat{\n",
    "    \n",
    "        #Randomly generate chronos scores\n",
    "        afr.simulated.values = rnorm(in.ancestry.group.float, mean.difference.float, chronos.mean.sd)\n",
    "        non.afr.simulated.values = rnorm(not.in.ancestry.group.float, 0, chronos.mean.sd)\n",
    "        \n",
    "        #assemble a data frame\n",
    "        simulated.value.vector = c(afr.simulated.values, non.afr.simulated.values)\n",
    "        sample.code.vector = c(rep(0, length(afr.simulated.values)), rep(1, length(non.afr.simulated.values)))\n",
    "        \n",
    "        simulated.data.df = cbind(simulated.value.vector, sample.code.vector) %>%\n",
    "        data.frame() %>%\n",
    "        rename(\"chronos_score\" = 1, \"sample_code\" = 2) %>%\n",
    "        mutate(chronos_score = as.numeric(chronos_score)) %>%\n",
    "        mutate(\"sample_id\" = formatted.gene.block.matrix$sample) %>%\n",
    "        mutate(\"sample_lineage\" = plyr::mapvalues(from = sample.annotation$sample, to = sample.annotation$primary_disease, sample_id, warn_missing = FALSE))\n",
    "        \n",
    "        \n",
    "        #Calculate the p-value\n",
    "        pval = lm(chronos_score ~ sample_code + sample_lineage, data = simulated.data.df) %>% summary() %>% .[[4]] %>% .[2,4]\n",
    "        p.value.vector = c(p.value.vector, pval)\n",
    "        \n",
    "        \n",
    "        #Break the loop, if needed\n",
    "        if(length(p.value.vector) == 1000){ \n",
    "            afr.simulated.pvalues[[i]] = p.value.vector\n",
    "            break \n",
    "        }\n",
    "        \n",
    "}\n",
    "}"
   ]
  },
  {
   "cell_type": "code",
   "execution_count": 12,
   "metadata": {
    "vscode": {
     "languageId": "r"
    }
   },
   "outputs": [],
   "source": [
    "#Compute simulated p-values for all of the AMR samples\n",
    "#Who cares about DRY? Copy/paste is easier.\n",
    "amr.simulated.pvalues = NULL\n",
    "\n",
    "for(i in 1:length(mean.difference.vector)){\n",
    "    \n",
    "    #get a float with the mean difference we are interested in\n",
    "    mean.difference.float = mean.difference.vector[i]\n",
    "    \n",
    "    #Get floats with the number of samples in the ancestry group and not in the ancestry group\n",
    "    in.ancestry.group.float = 6\n",
    "    not.in.ancestry.group.float = 611 - in.ancestry.group.float\n",
    "        \n",
    "    #Perform iterations of calculating the p-value\n",
    "    p.value.vector = NULL #Vector to store the p-values in\n",
    "    \n",
    "    repeat{\n",
    "    \n",
    "        #Randomly generate chronos scores\n",
    "        amr.simulated.values = rnorm(in.ancestry.group.float, mean.difference.float, chronos.mean.sd)\n",
    "        non.amr.simulated.values = rnorm(not.in.ancestry.group.float, 0, chronos.mean.sd)\n",
    "        \n",
    "        #assemble a data frame\n",
    "        simulated.value.vector = c(amr.simulated.values, non.amr.simulated.values)\n",
    "        sample.code.vector = c(rep(0, length(amr.simulated.values)), rep(1, length(non.amr.simulated.values)))\n",
    "        \n",
    "        simulated.data.df = cbind(simulated.value.vector, sample.code.vector) %>%\n",
    "        data.frame() %>%\n",
    "        rename(\"chronos_score\" = 1, \"sample_code\" = 2) %>%\n",
    "        mutate(chronos_score = as.numeric(chronos_score)) %>%\n",
    "        mutate(\"sample_id\" = formatted.gene.block.matrix$sample) %>%\n",
    "        mutate(\"sample_lineage\" = plyr::mapvalues(from = sample.annotation$sample, to = sample.annotation$primary_disease, sample_id, warn_missing = FALSE))\n",
    "        \n",
    "        \n",
    "        #Calculate the p-value\n",
    "        pval = lm(chronos_score ~ sample_code + sample_lineage, data = simulated.data.df) %>% summary() %>% .[[4]] %>% .[2,4]\n",
    "        p.value.vector = c(p.value.vector, pval)\n",
    "        \n",
    "        \n",
    "        #Break the loop, if needed\n",
    "        if(length(p.value.vector) == 1000){ \n",
    "            amr.simulated.pvalues[[i]] = p.value.vector\n",
    "            break \n",
    "        }\n",
    "        \n",
    "}\n",
    "}"
   ]
  },
  {
   "cell_type": "code",
   "execution_count": 13,
   "metadata": {
    "vscode": {
     "languageId": "r"
    }
   },
   "outputs": [],
   "source": [
    "#Compute simulated p-values for all of the EAS samples\n",
    "#Who cares about DRY? Copy/paste is easier.\n",
    "eas.simulated.pvalues = NULL\n",
    "\n",
    "for(i in 1:length(mean.difference.vector)){\n",
    "    \n",
    "    #get a float with the mean difference we are interested in\n",
    "    mean.difference.float = mean.difference.vector[i]\n",
    "    \n",
    "    #Get floats with the number of samples in the ancestry group and not in the ancestry group\n",
    "    in.ancestry.group.float = 203\n",
    "    not.in.ancestry.group.float = 611 - in.ancestry.group.float\n",
    "        \n",
    "    #Perform iterations of calculating the p-value\n",
    "    p.value.vector = NULL #Vector to store the p-values in\n",
    "    \n",
    "    repeat{\n",
    "    \n",
    "        #Randomly generate chronos scores\n",
    "        eas.simulated.values = rnorm(in.ancestry.group.float, mean.difference.float, chronos.mean.sd)\n",
    "        non.eas.simulated.values = rnorm(not.in.ancestry.group.float, 0, chronos.mean.sd)\n",
    "        \n",
    "        #assemble a data frame\n",
    "        simulated.value.vector = c(eas.simulated.values, non.eas.simulated.values)\n",
    "        sample.code.vector = c(rep(0, length(eas.simulated.values)), rep(1, length(non.eas.simulated.values)))\n",
    "        \n",
    "        simulated.data.df = cbind(simulated.value.vector, sample.code.vector) %>%\n",
    "        data.frame() %>%\n",
    "        rename(\"chronos_score\" = 1, \"sample_code\" = 2) %>%\n",
    "        mutate(chronos_score = as.numeric(chronos_score)) %>%\n",
    "        mutate(\"sample_id\" = formatted.gene.block.matrix$sample) %>%\n",
    "        mutate(\"sample_lineage\" = plyr::mapvalues(from = sample.annotation$sample, to = sample.annotation$primary_disease, sample_id, warn_missing = FALSE))\n",
    "        \n",
    "        \n",
    "        #Calculate the p-value\n",
    "        pval = lm(chronos_score ~ sample_code + sample_lineage, data = simulated.data.df) %>% summary() %>% .[[4]] %>% .[2,4]\n",
    "        p.value.vector = c(p.value.vector, pval)\n",
    "        \n",
    "        \n",
    "        #Break the loop, if needed\n",
    "        if(length(p.value.vector) == 1000){ \n",
    "            eas.simulated.pvalues[[i]] = p.value.vector\n",
    "            break \n",
    "        }\n",
    "        \n",
    "}\n",
    "}"
   ]
  },
  {
   "cell_type": "code",
   "execution_count": 14,
   "metadata": {
    "vscode": {
     "languageId": "r"
    }
   },
   "outputs": [],
   "source": [
    "#Compute simulated p-values for all of the EUR samples\n",
    "#Who cares about DRY? Copy/paste is easier.\n",
    "eur.simulated.pvalues = NULL\n",
    "\n",
    "for(i in 1:length(mean.difference.vector)){\n",
    "    \n",
    "    #get a float with the mean difference we are interested in\n",
    "    mean.difference.float = mean.difference.vector[i]\n",
    "    \n",
    "    #Get floats with the number of samples in the ancestry group and not in the ancestry group\n",
    "    in.ancestry.group.float = 373\n",
    "    not.in.ancestry.group.float = 611 - in.ancestry.group.float\n",
    "        \n",
    "    #Perform iterations of calculating the p-value\n",
    "    p.value.vector = NULL #Vector to store the p-values in\n",
    "    \n",
    "    repeat{\n",
    "    \n",
    "        #Randomly generate chronos scores\n",
    "        eur.simulated.values = rnorm(in.ancestry.group.float, mean.difference.float, chronos.mean.sd)\n",
    "        non.eur.simulated.values = rnorm(not.in.ancestry.group.float, 0, chronos.mean.sd)\n",
    "        \n",
    "        #assemble a data frame\n",
    "        simulated.value.vector = c(eur.simulated.values, non.eur.simulated.values)\n",
    "        sample.code.vector = c(rep(0, length(eur.simulated.values)), rep(1, length(non.eur.simulated.values)))\n",
    "        \n",
    "        simulated.data.df = cbind(simulated.value.vector, sample.code.vector) %>%\n",
    "        data.frame() %>%\n",
    "        rename(\"chronos_score\" = 1, \"sample_code\" = 2) %>%\n",
    "        mutate(chronos_score = as.numeric(chronos_score)) %>%\n",
    "        mutate(\"sample_id\" = formatted.gene.block.matrix$sample) %>%\n",
    "        mutate(\"sample_lineage\" = plyr::mapvalues(from = sample.annotation$sample, to = sample.annotation$primary_disease, sample_id, warn_missing = FALSE))\n",
    "        \n",
    "        \n",
    "        #Calculate the p-value\n",
    "        pval = lm(chronos_score ~ sample_code + sample_lineage, data = simulated.data.df) %>% summary() %>% .[[4]] %>% .[2,4]\n",
    "        p.value.vector = c(p.value.vector, pval)\n",
    "        \n",
    "        \n",
    "        #Break the loop, if needed\n",
    "        if(length(p.value.vector) == 1000){ \n",
    "            eur.simulated.pvalues[[i]] = p.value.vector\n",
    "            break \n",
    "        }\n",
    "        \n",
    "}\n",
    "}"
   ]
  },
  {
   "cell_type": "code",
   "execution_count": 15,
   "metadata": {
    "vscode": {
     "languageId": "r"
    }
   },
   "outputs": [],
   "source": [
    "#Compute simulated p-values for all of the SAS samples\n",
    "#Who cares about DRY? Copy/paste is easier.\n",
    "sas.simulated.pvalues = NULL\n",
    "\n",
    "for(i in 1:length(mean.difference.vector)){\n",
    "    \n",
    "    #get a float with the mean difference we are interested in\n",
    "    mean.difference.float = mean.difference.vector[i]\n",
    "    \n",
    "    #Get floats with the number of samples in the ancestry group and not in the ancestry group\n",
    "    in.ancestry.group.float = 4\n",
    "    not.in.ancestry.group.float = 611 - in.ancestry.group.float\n",
    "        \n",
    "    #Perform iterations of calculating the p-value\n",
    "    p.value.vector = NULL #Vector to store the p-values in\n",
    "    \n",
    "    repeat{\n",
    "    \n",
    "        #Randomly generate chronos scores\n",
    "        sas.simulated.values = rnorm(in.ancestry.group.float, mean.difference.float, chronos.mean.sd)\n",
    "        non.sas.simulated.values = rnorm(not.in.ancestry.group.float, 0, chronos.mean.sd)\n",
    "        \n",
    "        #assemble a data frame\n",
    "        simulated.value.vector = c(sas.simulated.values, non.sas.simulated.values)\n",
    "        sample.code.vector = c(rep(0, length(sas.simulated.values)), rep(1, length(non.sas.simulated.values)))\n",
    "        \n",
    "        simulated.data.df = cbind(simulated.value.vector, sample.code.vector) %>%\n",
    "        data.frame() %>%\n",
    "        rename(\"chronos_score\" = 1, \"sample_code\" = 2) %>%\n",
    "        mutate(chronos_score = as.numeric(chronos_score)) %>%\n",
    "        mutate(\"sample_id\" = formatted.gene.block.matrix$sample) %>%\n",
    "        mutate(\"sample_lineage\" = plyr::mapvalues(from = sample.annotation$sample, to = sample.annotation$primary_disease, sample_id, warn_missing = FALSE))\n",
    "        \n",
    "        \n",
    "        #Calculate the p-value\n",
    "        pval = lm(chronos_score ~ sample_code + sample_lineage, data = simulated.data.df) %>% summary() %>% .[[4]] %>% .[2,4]\n",
    "        p.value.vector = c(p.value.vector, pval)\n",
    "        \n",
    "        \n",
    "        #Break the loop, if needed\n",
    "        if(length(p.value.vector) == 1000){ \n",
    "            sas.simulated.pvalues[[i]] = p.value.vector\n",
    "            break \n",
    "        }\n",
    "        \n",
    "}\n",
    "}"
   ]
  },
  {
   "cell_type": "code",
   "execution_count": 16,
   "metadata": {
    "vscode": {
     "languageId": "r"
    }
   },
   "outputs": [],
   "source": [
    "#Load in the lineage-corrected ancestry-associated p-value data frame\n",
    "setwd(\"../data\")\n",
    "lineage.corrected.pvals = read.table(\"lm_ancestry_associated_dependency_pvals.txt\", sep = \"\\t\", header = T)"
   ]
  },
  {
   "cell_type": "code",
   "execution_count": 17,
   "metadata": {
    "vscode": {
     "languageId": "r"
    }
   },
   "outputs": [],
   "source": [
    "#Get the thresholds for the power calculation from the real data\n",
    "#Kind of reverse order from how things should be done but whatever\n",
    "afr.threshold = lineage.corrected.pvals %>% \n",
    "select(afr.lm.pval.vector, afr_fdr) %>% \n",
    "filter(afr_fdr < 0.05) %>% \n",
    "arrange(desc(afr_fdr)) %>%\n",
    "pull(afr.lm.pval.vector) %>%\n",
    ".[1]\n",
    "\n",
    "amr.threshold = lineage.corrected.pvals %>% \n",
    "select(amr.lm.pval.vector, amr_fdr) %>% \n",
    "filter(amr_fdr < 0.05) %>% \n",
    "arrange(desc(amr_fdr)) %>%\n",
    "pull(amr.lm.pval.vector) %>%\n",
    ".[1]\n",
    "\n",
    "eas.threshold = lineage.corrected.pvals %>% \n",
    "select(eas.lm.pval.vector, eas_fdr) %>% \n",
    "filter(eas_fdr < 0.05) %>% \n",
    "arrange(desc(eas_fdr)) %>%\n",
    "pull(eas.lm.pval.vector) %>%\n",
    ".[1]\n",
    "\n",
    "eur.threshold = lineage.corrected.pvals %>% \n",
    "select(eur.lm.pval.vector, eur_fdr) %>% \n",
    "filter(eur_fdr < 0.05) %>% \n",
    "arrange(desc(eur_fdr)) %>%\n",
    "pull(eur.lm.pval.vector) %>%\n",
    ".[1]\n",
    "\n",
    "sas.threshold = lineage.corrected.pvals %>% \n",
    "select(sas.lm.pval.vector, sas_fdr) %>% \n",
    "filter(sas_fdr < 0.05) %>% \n",
    "arrange(desc(sas_fdr)) %>%\n",
    "pull(sas.lm.pval.vector) %>%\n",
    ".[1]"
   ]
  },
  {
   "cell_type": "code",
   "execution_count": 18,
   "metadata": {
    "vscode": {
     "languageId": "r"
    }
   },
   "outputs": [],
   "source": [
    "#For all of the simulated data, calculate the number of values greater than the threshold\n",
    "afr.statistical.power = afr.simulated.pvalues %>% lapply(function(x){\n",
    "    num.sig = x[x < afr.threshold] %>% length()\n",
    "    return(num.sig)\n",
    "}) %>% unlist()\n",
    "\n",
    "amr.statistical.power = amr.simulated.pvalues %>% lapply(function(x){\n",
    "    num.sig = x[x < amr.threshold] %>% length()\n",
    "    return(num.sig)\n",
    "}) %>% unlist()\n",
    "\n",
    "eas.statistical.power = eas.simulated.pvalues %>% lapply(function(x){\n",
    "    num.sig = x[x < eas.threshold] %>% length()\n",
    "    return(num.sig)\n",
    "}) %>% unlist()\n",
    "\n",
    "eur.statistical.power = eur.simulated.pvalues %>% lapply(function(x){\n",
    "    num.sig = x[x < eur.threshold] %>% length()\n",
    "    return(num.sig)\n",
    "}) %>% unlist()\n",
    "\n",
    "sas.statistical.power = sas.simulated.pvalues %>% lapply(function(x){\n",
    "    num.sig = x[x < sas.threshold] %>% length()\n",
    "    return(num.sig)\n",
    "}) %>% unlist()"
   ]
  },
  {
   "cell_type": "code",
   "execution_count": 19,
   "metadata": {
    "vscode": {
     "languageId": "r"
    }
   },
   "outputs": [],
   "source": [
    "#Write the data frame\n",
    "setwd(\"../output\")\n",
    "statistical.power.df = cbind(mean.difference.vector, afr.statistical.power, amr.statistical.power, eas.statistical.power, eur.statistical.power, sas.statistical.power) %>%\n",
    "data.frame() %>%\n",
    "rename(\"mean_difference\" = 1, \"afr_pwr\" = 2, \"amr_pwr\" = 3, \"eas_pwr\" = 4, \"eur_pwr\" = 5, \"sas_pwr\" = 6)\n",
    "\n",
    "write.table(statistical.power.df, \"figure_1c_data.txt\", sep = \"\\t\", col.names = TRUE, row.names = FALSE, quote = FALSE)"
   ]
  },
  {
   "cell_type": "code",
   "execution_count": 20,
   "metadata": {
    "vscode": {
     "languageId": "r"
    }
   },
   "outputs": [
    {
     "data": {
      "image/png": "[encoded data removed]",
      "text/plain": [
       "plot without title"
      ]
     },
     "metadata": {
      "image/png": {
       "height": 420,
       "width": 420
      }
     },
     "output_type": "display_data"
    }
   ],
   "source": [
    "#Plot the plot of statistical power\n",
    "statistical.power.df %>%\n",
    "melt(id = \"mean_difference\") %>%\n",
    "mutate(value = value/1000) %>%\n",
    "ggplot(aes(x = mean_difference, y = value, color = variable)) +\n",
    "geom_line() +\n",
    "\n",
    "geom_hline(yintercept = 0.8 , linetype = 2) +\n",
    "\n",
    "theme_bw() +\n",
    "\n",
    "scale_color_manual(values = c(\"darkorange2\", \"firebrick4\", \"chartreuse4\", \"dodgerblue4\", \"darkorchid4\")) +\n",
    "\n",
    "theme(\n",
    "panel.grid.major = element_blank(),\n",
    "panel.grid.minor = element_blank(), \n",
    ") +\n",
    "\n",
    "theme(\n",
    "axis.title.x = element_text(color = \"black\", size = 12),\n",
    "axis.title.y = element_text(color = \"black\", size = 12)\n",
    ") +\n",
    "\n",
    "theme(\n",
    "axis.text = element_text(size = 12),\n",
    "axis.title = element_text(size = 12)\n",
    ") +\n",
    "\n",
    "theme(\n",
    "legend.title = element_text(size = 12),\n",
    "legend.text = element_text(size = 12)\n",
    ") +\n",
    "\n",
    "ylab(\"Statistical Power\") +\n",
    "xlab(\"Difference in Chronos score\") +\n",
    "\n",
    "scale_y_continuous(breaks = c(0, 0.2, 0.4, 0.6, 0.8, 1))\n",
    "\n",
    "#Export it to the google bucket\n",
    "setwd(\"../output\")\n",
    "ggsave(\"figure_1c.pdf\", width = 4, height = 3)"
   ]
  }
 ],
 "metadata": {
  "kernelspec": {
   "display_name": "R",
   "language": "R",
   "name": "ir"
  },
  "language_info": {
   "codemirror_mode": "r",
   "file_extension": ".r",
   "mimetype": "text/x-r-source",
   "name": "R",
   "pygments_lexer": "r",
   "version": "4.3.2"
  }
 },
 "nbformat": 4,
 "nbformat_minor": 2
}
