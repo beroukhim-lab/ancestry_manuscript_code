{
 "cells": [
  {
   "cell_type": "code",
   "execution_count": 1,
   "metadata": {
    "vscode": {
     "languageId": "r"
    }
   },
   "outputs": [
    {
     "name": "stderr",
     "output_type": "stream",
     "text": [
      "── \u001b[1mAttaching core tidyverse packages\u001b[22m ──────────────────────── tidyverse 2.0.0 ──\n",
      "\u001b[32m✔\u001b[39m \u001b[34mdplyr    \u001b[39m 1.1.4     \u001b[32m✔\u001b[39m \u001b[34mreadr    \u001b[39m 2.1.5\n",
      "\u001b[32m✔\u001b[39m \u001b[34mforcats  \u001b[39m 1.0.0     \u001b[32m✔\u001b[39m \u001b[34mstringr  \u001b[39m 1.5.1\n",
      "\u001b[32m✔\u001b[39m \u001b[34mggplot2  \u001b[39m 3.5.0     \u001b[32m✔\u001b[39m \u001b[34mtibble   \u001b[39m 3.2.1\n",
      "\u001b[32m✔\u001b[39m \u001b[34mlubridate\u001b[39m 1.9.3     \u001b[32m✔\u001b[39m \u001b[34mtidyr    \u001b[39m 1.3.1\n",
      "\u001b[32m✔\u001b[39m \u001b[34mpurrr    \u001b[39m 1.0.2     \n",
      "── \u001b[1mConflicts\u001b[22m ────────────────────────────────────────── tidyverse_conflicts() ──\n",
      "\u001b[31m✖\u001b[39m \u001b[34mdplyr\u001b[39m::\u001b[32mfilter()\u001b[39m masks \u001b[34mstats\u001b[39m::filter()\n",
      "\u001b[31m✖\u001b[39m \u001b[34mdplyr\u001b[39m::\u001b[32mlag()\u001b[39m    masks \u001b[34mstats\u001b[39m::lag()\n",
      "\u001b[36mℹ\u001b[39m Use the conflicted package (\u001b[3m\u001b[34m<http://conflicted.r-lib.org/>\u001b[39m\u001b[23m) to force all conflicts to become errors\n",
      "\n",
      "Attaching package: ‘janitor’\n",
      "\n",
      "\n",
      "The following objects are masked from ‘package:stats’:\n",
      "\n",
      "    chisq.test, fisher.test\n",
      "\n",
      "\n"
     ]
    }
   ],
   "source": [
    "#Set up the environment\n",
    "library(reshape2)\n",
    "library(tidyverse)\n",
    "library(janitor) #has the rownames_to_column function\n",
    "library(ggrepel)"
   ]
  },
  {
   "cell_type": "code",
   "execution_count": 2,
   "metadata": {
    "vscode": {
     "languageId": "r"
    }
   },
   "outputs": [
    {
     "data": {
      "text/html": [
       "<table class=\"dataframe\">\n",
       "<caption>A data.frame: 6 × 16</caption>\n",
       "<thead>\n",
       "\t<tr><th></th><th scope=col>gene</th><th scope=col>afr.lm.pval.vector</th><th scope=col>amr.lm.pval.vector</th><th scope=col>eas.lm.pval.vector</th><th scope=col>eur.lm.pval.vector</th><th scope=col>sas.lm.pval.vector</th><th scope=col>afr.mean.dif</th><th scope=col>amr.mean.dif</th><th scope=col>eas.mean.dif</th><th scope=col>eur.mean.dif</th><th scope=col>sas.mean.dif</th><th scope=col>afr_fdr</th><th scope=col>amr_fdr</th><th scope=col>eas_fdr</th><th scope=col>eur_fdr</th><th scope=col>sas_fdr</th></tr>\n",
       "\t<tr><th></th><th scope=col>&lt;chr&gt;</th><th scope=col>&lt;dbl&gt;</th><th scope=col>&lt;dbl&gt;</th><th scope=col>&lt;dbl&gt;</th><th scope=col>&lt;dbl&gt;</th><th scope=col>&lt;dbl&gt;</th><th scope=col>&lt;dbl&gt;</th><th scope=col>&lt;dbl&gt;</th><th scope=col>&lt;dbl&gt;</th><th scope=col>&lt;dbl&gt;</th><th scope=col>&lt;dbl&gt;</th><th scope=col>&lt;dbl&gt;</th><th scope=col>&lt;dbl&gt;</th><th scope=col>&lt;dbl&gt;</th><th scope=col>&lt;dbl&gt;</th><th scope=col>&lt;dbl&gt;</th></tr>\n",
       "</thead>\n",
       "<tbody>\n",
       "\t<tr><th scope=row>1</th><td>A1BG   </td><td>0.51570812</td><td>0.5243904</td><td>0.33508618</td><td>0.51316820</td><td>1.0000000</td><td> 0.018967685</td><td>0.039100054</td><td>-0.011154457</td><td> 0.006603833</td><td>-0.226423809</td><td>0.998556</td><td>1</td><td>0.9184664</td><td>0.9703296</td><td>1</td></tr>\n",
       "\t<tr><th scope=row>2</th><td>A1CF   </td><td>0.09749307</td><td>0.9998859</td><td>0.73471568</td><td>0.70146509</td><td>0.5597664</td><td>-0.035117475</td><td>0.027514943</td><td>-0.002246655</td><td> 0.007144719</td><td> 0.030043081</td><td>0.998556</td><td>1</td><td>0.9771815</td><td>0.9821999</td><td>1</td></tr>\n",
       "\t<tr><th scope=row>3</th><td>A2M    </td><td>0.68035925</td><td>1.0000000</td><td>0.51713036</td><td>0.53660729</td><td>1.0000000</td><td>-0.010031350</td><td>0.038566520</td><td>-0.001514329</td><td> 0.001920044</td><td> 0.046502802</td><td>0.998556</td><td>1</td><td>0.9548815</td><td>0.9720597</td><td>1</td></tr>\n",
       "\t<tr><th scope=row>4</th><td>A2ML1  </td><td>0.61602149</td><td>0.6843036</td><td>0.09231594</td><td>0.06193838</td><td>1.0000000</td><td> 0.009988105</td><td>0.013638286</td><td> 0.009534186</td><td>-0.010934267</td><td> 0.004499364</td><td>0.998556</td><td>1</td><td>0.7843746</td><td>0.8105684</td><td>1</td></tr>\n",
       "\t<tr><th scope=row>5</th><td>A3GALT2</td><td>0.76637396</td><td>1.0000000</td><td>0.70909158</td><td>0.83017049</td><td>0.9866729</td><td> 0.003320528</td><td>0.001137803</td><td>-0.016077768</td><td> 0.014507092</td><td>-0.002840530</td><td>0.998556</td><td>1</td><td>0.9753693</td><td>0.9917531</td><td>1</td></tr>\n",
       "\t<tr><th scope=row>6</th><td>A4GALT </td><td>0.87370145</td><td>1.0000000</td><td>0.13340200</td><td>0.13581386</td><td>1.0000000</td><td> 0.004528391</td><td>0.019587428</td><td>-0.008987721</td><td> 0.008747816</td><td>-0.096587268</td><td>0.998556</td><td>1</td><td>0.8209225</td><td>0.8739186</td><td>1</td></tr>\n",
       "</tbody>\n",
       "</table>\n"
      ],
      "text/latex": [
       "A data.frame: 6 × 16\n",
       "\\begin{tabular}{r|llllllllllllllll}\n",
       "  & gene & afr.lm.pval.vector & amr.lm.pval.vector & eas.lm.pval.vector & eur.lm.pval.vector & sas.lm.pval.vector & afr.mean.dif & amr.mean.dif & eas.mean.dif & eur.mean.dif & sas.mean.dif & afr\\_fdr & amr\\_fdr & eas\\_fdr & eur\\_fdr & sas\\_fdr\\\\\n",
       "  & <chr> & <dbl> & <dbl> & <dbl> & <dbl> & <dbl> & <dbl> & <dbl> & <dbl> & <dbl> & <dbl> & <dbl> & <dbl> & <dbl> & <dbl> & <dbl>\\\\\n",
       "\\hline\n",
       "\t1 & A1BG    & 0.51570812 & 0.5243904 & 0.33508618 & 0.51316820 & 1.0000000 &  0.018967685 & 0.039100054 & -0.011154457 &  0.006603833 & -0.226423809 & 0.998556 & 1 & 0.9184664 & 0.9703296 & 1\\\\\n",
       "\t2 & A1CF    & 0.09749307 & 0.9998859 & 0.73471568 & 0.70146509 & 0.5597664 & -0.035117475 & 0.027514943 & -0.002246655 &  0.007144719 &  0.030043081 & 0.998556 & 1 & 0.9771815 & 0.9821999 & 1\\\\\n",
       "\t3 & A2M     & 0.68035925 & 1.0000000 & 0.51713036 & 0.53660729 & 1.0000000 & -0.010031350 & 0.038566520 & -0.001514329 &  0.001920044 &  0.046502802 & 0.998556 & 1 & 0.9548815 & 0.9720597 & 1\\\\\n",
       "\t4 & A2ML1   & 0.61602149 & 0.6843036 & 0.09231594 & 0.06193838 & 1.0000000 &  0.009988105 & 0.013638286 &  0.009534186 & -0.010934267 &  0.004499364 & 0.998556 & 1 & 0.7843746 & 0.8105684 & 1\\\\\n",
       "\t5 & A3GALT2 & 0.76637396 & 1.0000000 & 0.70909158 & 0.83017049 & 0.9866729 &  0.003320528 & 0.001137803 & -0.016077768 &  0.014507092 & -0.002840530 & 0.998556 & 1 & 0.9753693 & 0.9917531 & 1\\\\\n",
       "\t6 & A4GALT  & 0.87370145 & 1.0000000 & 0.13340200 & 0.13581386 & 1.0000000 &  0.004528391 & 0.019587428 & -0.008987721 &  0.008747816 & -0.096587268 & 0.998556 & 1 & 0.8209225 & 0.8739186 & 1\\\\\n",
       "\\end{tabular}\n"
      ],
      "text/markdown": [
       "\n",
       "A data.frame: 6 × 16\n",
       "\n",
       "| <!--/--> | gene &lt;chr&gt; | afr.lm.pval.vector &lt;dbl&gt; | amr.lm.pval.vector &lt;dbl&gt; | eas.lm.pval.vector &lt;dbl&gt; | eur.lm.pval.vector &lt;dbl&gt; | sas.lm.pval.vector &lt;dbl&gt; | afr.mean.dif &lt;dbl&gt; | amr.mean.dif &lt;dbl&gt; | eas.mean.dif &lt;dbl&gt; | eur.mean.dif &lt;dbl&gt; | sas.mean.dif &lt;dbl&gt; | afr_fdr &lt;dbl&gt; | amr_fdr &lt;dbl&gt; | eas_fdr &lt;dbl&gt; | eur_fdr &lt;dbl&gt; | sas_fdr &lt;dbl&gt; |\n",
       "|---|---|---|---|---|---|---|---|---|---|---|---|---|---|---|---|---|\n",
       "| 1 | A1BG    | 0.51570812 | 0.5243904 | 0.33508618 | 0.51316820 | 1.0000000 |  0.018967685 | 0.039100054 | -0.011154457 |  0.006603833 | -0.226423809 | 0.998556 | 1 | 0.9184664 | 0.9703296 | 1 |\n",
       "| 2 | A1CF    | 0.09749307 | 0.9998859 | 0.73471568 | 0.70146509 | 0.5597664 | -0.035117475 | 0.027514943 | -0.002246655 |  0.007144719 |  0.030043081 | 0.998556 | 1 | 0.9771815 | 0.9821999 | 1 |\n",
       "| 3 | A2M     | 0.68035925 | 1.0000000 | 0.51713036 | 0.53660729 | 1.0000000 | -0.010031350 | 0.038566520 | -0.001514329 |  0.001920044 |  0.046502802 | 0.998556 | 1 | 0.9548815 | 0.9720597 | 1 |\n",
       "| 4 | A2ML1   | 0.61602149 | 0.6843036 | 0.09231594 | 0.06193838 | 1.0000000 |  0.009988105 | 0.013638286 |  0.009534186 | -0.010934267 |  0.004499364 | 0.998556 | 1 | 0.7843746 | 0.8105684 | 1 |\n",
       "| 5 | A3GALT2 | 0.76637396 | 1.0000000 | 0.70909158 | 0.83017049 | 0.9866729 |  0.003320528 | 0.001137803 | -0.016077768 |  0.014507092 | -0.002840530 | 0.998556 | 1 | 0.9753693 | 0.9917531 | 1 |\n",
       "| 6 | A4GALT  | 0.87370145 | 1.0000000 | 0.13340200 | 0.13581386 | 1.0000000 |  0.004528391 | 0.019587428 | -0.008987721 |  0.008747816 | -0.096587268 | 0.998556 | 1 | 0.8209225 | 0.8739186 | 1 |\n",
       "\n"
      ],
      "text/plain": [
       "  gene    afr.lm.pval.vector amr.lm.pval.vector eas.lm.pval.vector\n",
       "1 A1BG    0.51570812         0.5243904          0.33508618        \n",
       "2 A1CF    0.09749307         0.9998859          0.73471568        \n",
       "3 A2M     0.68035925         1.0000000          0.51713036        \n",
       "4 A2ML1   0.61602149         0.6843036          0.09231594        \n",
       "5 A3GALT2 0.76637396         1.0000000          0.70909158        \n",
       "6 A4GALT  0.87370145         1.0000000          0.13340200        \n",
       "  eur.lm.pval.vector sas.lm.pval.vector afr.mean.dif amr.mean.dif eas.mean.dif\n",
       "1 0.51316820         1.0000000           0.018967685 0.039100054  -0.011154457\n",
       "2 0.70146509         0.5597664          -0.035117475 0.027514943  -0.002246655\n",
       "3 0.53660729         1.0000000          -0.010031350 0.038566520  -0.001514329\n",
       "4 0.06193838         1.0000000           0.009988105 0.013638286   0.009534186\n",
       "5 0.83017049         0.9866729           0.003320528 0.001137803  -0.016077768\n",
       "6 0.13581386         1.0000000           0.004528391 0.019587428  -0.008987721\n",
       "  eur.mean.dif sas.mean.dif afr_fdr  amr_fdr eas_fdr   eur_fdr   sas_fdr\n",
       "1  0.006603833 -0.226423809 0.998556 1       0.9184664 0.9703296 1      \n",
       "2  0.007144719  0.030043081 0.998556 1       0.9771815 0.9821999 1      \n",
       "3  0.001920044  0.046502802 0.998556 1       0.9548815 0.9720597 1      \n",
       "4 -0.010934267  0.004499364 0.998556 1       0.7843746 0.8105684 1      \n",
       "5  0.014507092 -0.002840530 0.998556 1       0.9753693 0.9917531 1      \n",
       "6  0.008747816 -0.096587268 0.998556 1       0.8209225 0.8739186 1      "
      ]
     },
     "metadata": {},
     "output_type": "display_data"
    }
   ],
   "source": [
    "#Load in the lineage-corrected ancestry-associated p-value data frame\n",
    "setwd(\"../data\")\n",
    "lineage.corrected.pvals = read.table(\"lm_ancestry_associated_dependency_pvals.txt\", sep = \"\\t\", header = T)\n",
    "\n",
    "head(lineage.corrected.pvals)"
   ]
  },
  {
   "cell_type": "code",
   "execution_count": 3,
   "metadata": {
    "vscode": {
     "languageId": "r"
    }
   },
   "outputs": [],
   "source": [
    "#Calculate the number of significant associations per ancestry group\n",
    "num.sig.afr = lineage.corrected.pvals %>% filter(afr_fdr < 0.05) %>% nrow()\n",
    "num.sig.amr = lineage.corrected.pvals %>% filter(amr_fdr < 0.05) %>% nrow()\n",
    "num.sig.eas = lineage.corrected.pvals %>% filter(eas_fdr < 0.05) %>% nrow()\n",
    "num.sig.eur = lineage.corrected.pvals %>% filter(eur_fdr < 0.05) %>% nrow()\n",
    "num.sig.sas = lineage.corrected.pvals %>% filter(sas_fdr < 0.05) %>% nrow()\n",
    "num.sig.any = lineage.corrected.pvals %>% filter(afr_fdr < 0.05 | amr_fdr < 0.05 | eas_fdr < 0.05 | eur_fdr < 0.05 | sas_fdr < 0.05) %>% pull(gene) %>% unique() %>% length()"
   ]
  },
  {
   "cell_type": "code",
   "execution_count": 4,
   "metadata": {
    "vscode": {
     "languageId": "r"
    }
   },
   "outputs": [
    {
     "name": "stdout",
     "output_type": "stream",
     "text": [
      "[1] \"the number of significant AFR genes is: 24\"\n",
      "[1] \"the number of significant AMR genes is: 3\"\n",
      "[1] \"the number of significant EAS genes is: 18\"\n",
      "[1] \"the number of significant EUR genes is: 17\"\n",
      "[1] \"the number of significant SAS genes is: 1\"\n",
      "[1] \"the number of significant genes (in any ancestry) is: 49\"\n",
      "[1] \"the number of intersecting EAS and EUR genes is: 13\"\n"
     ]
    }
   ],
   "source": [
    "#Print the data so that we can add this information to the paper\n",
    "print(paste(\"the number of significant AFR genes is:\", num.sig.afr))\n",
    "print(paste(\"the number of significant AMR genes is:\", num.sig.amr))\n",
    "print(paste(\"the number of significant EAS genes is:\", num.sig.eas))\n",
    "print(paste(\"the number of significant EUR genes is:\", num.sig.eur))\n",
    "print(paste(\"the number of significant SAS genes is:\", num.sig.sas))\n",
    "print(paste(\"the number of significant genes (in any ancestry) is:\", num.sig.any))\n",
    "\n",
    "#Calculate the number of genes that are shared between eas and eur\n",
    "eas.sig.gene.vector = lineage.corrected.pvals %>% filter(eas_fdr < 0.05) %>% pull(gene) %>% unique()\n",
    "eur.sig.gene.vector = lineage.corrected.pvals %>% filter(eur_fdr < 0.05) %>% pull(gene) %>% unique()\n",
    "eas.eur.intersection = intersect(eas.sig.gene.vector, eur.sig.gene.vector) %>% length()\n",
    "print(paste(\"the number of intersecting EAS and EUR genes is:\", eas.eur.intersection))"
   ]
  },
  {
   "cell_type": "code",
   "execution_count": 6,
   "metadata": {
    "vscode": {
     "languageId": "r"
    }
   },
   "outputs": [],
   "source": [
    "#Write the plotting df to a file\n",
    "df_for_plotting = cbind(ancestry.vector, num.gene.vector) %>%\n",
    "data.frame() %>%\n",
    "rename(\"ancestry\" = 1, \"num_genes\" = 2) %>%\n",
    "mutate(num_genes = as.numeric(num_genes))\n",
    "\n",
    "setwd(\"../output\")\n",
    "write.table(df_for_plotting, \"figure_1e_data.txt\", sep = \"\\t\", row.names = F, col.names = TRUE, quote = FALSE)"
   ]
  },
  {
   "cell_type": "code",
   "execution_count": 5,
   "metadata": {
    "vscode": {
     "languageId": "r"
    }
   },
   "outputs": [
    {
     "data": {
      "image/png": "[encoded data removed]",
      "text/plain": [
       "plot without title"
      ]
     },
     "metadata": {
      "image/png": {
       "height": 420,
       "width": 420
      }
     },
     "output_type": "display_data"
    }
   ],
   "source": [
    "#Plot the data\n",
    "num.gene.vector = c(num.sig.afr, num.sig.amr, num.sig.eas, num.sig.eur, num.sig.sas) \n",
    "ancestry.vector = c(\"afr\", \"amr\", \"eas\", \"eur\", \"sas\")\n",
    "\n",
    "cbind(ancestry.vector, num.gene.vector) %>%\n",
    "data.frame() %>%\n",
    "rename(\"ancestry\" = 1, \"num_genes\" = 2) %>%\n",
    "mutate(num_genes = as.numeric(num_genes)) %>%\n",
    "ggplot(aes(x = ancestry, y = num_genes, fill = ancestry)) +\n",
    "geom_bar(stat = \"identity\") +\n",
    "\n",
    "theme_bw() +\n",
    "\n",
    "scale_fill_manual(values = c(\"darkorange2\", \"firebrick4\", \"chartreuse4\", \"dodgerblue4\", \"darkorchid4\")) +\n",
    "\n",
    "theme(\n",
    "panel.grid.major = element_blank(),\n",
    "panel.grid.minor = element_blank(), \n",
    ") +\n",
    "\n",
    "theme(\n",
    "axis.title.x = element_text(color = \"black\", size = 12),\n",
    "axis.title.y = element_text(color = \"black\", size = 12)\n",
    ") +\n",
    "\n",
    "theme(\n",
    "axis.text = element_text(size = 12),\n",
    "axis.title = element_text(size = 12)\n",
    ") +\n",
    "\n",
    "theme(\n",
    "legend.title = element_text(size = 12),\n",
    "legend.text = element_text(size = 12)\n",
    ") +\n",
    "\n",
    "ylab(\"Number of ancestry-associated genes\") +\n",
    "xlab(\"Ancestry\")\n",
    "\n",
    "#Export it to the google bucket\n",
    "setwd(\"../output\")\n",
    "ggsave(\"figure_1e.pdf\", width = 3, height = 3)\n"
   ]
  }
 ],
 "metadata": {
  "kernelspec": {
   "display_name": "R",
   "language": "R",
   "name": "ir"
  },
  "language_info": {
   "codemirror_mode": "r",
   "file_extension": ".r",
   "mimetype": "text/x-r-source",
   "name": "R",
   "pygments_lexer": "r",
   "version": "4.3.2"
  }
 },
 "nbformat": 4,
 "nbformat_minor": 2
}
