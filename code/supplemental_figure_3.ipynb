{
 "cells": [
  {
   "cell_type": "code",
   "execution_count": 1,
   "metadata": {
    "vscode": {
     "languageId": "r"
    }
   },
   "outputs": [
    {
     "name": "stderr",
     "output_type": "stream",
     "text": [
      "── \u001b[1mAttaching core tidyverse packages\u001b[22m ──────────────────────── tidyverse 2.0.0 ──\n",
      "\u001b[32m✔\u001b[39m \u001b[34mdplyr    \u001b[39m 1.1.4     \u001b[32m✔\u001b[39m \u001b[34mreadr    \u001b[39m 2.1.5\n",
      "\u001b[32m✔\u001b[39m \u001b[34mforcats  \u001b[39m 1.0.0     \u001b[32m✔\u001b[39m \u001b[34mstringr  \u001b[39m 1.5.1\n",
      "\u001b[32m✔\u001b[39m \u001b[34mggplot2  \u001b[39m 3.5.0     \u001b[32m✔\u001b[39m \u001b[34mtibble   \u001b[39m 3.2.1\n",
      "\u001b[32m✔\u001b[39m \u001b[34mlubridate\u001b[39m 1.9.3     \u001b[32m✔\u001b[39m \u001b[34mtidyr    \u001b[39m 1.3.1\n",
      "\u001b[32m✔\u001b[39m \u001b[34mpurrr    \u001b[39m 1.0.2     \n",
      "── \u001b[1mConflicts\u001b[22m ────────────────────────────────────────── tidyverse_conflicts() ──\n",
      "\u001b[31m✖\u001b[39m \u001b[34mdplyr\u001b[39m::\u001b[32mfilter()\u001b[39m masks \u001b[34mstats\u001b[39m::filter()\n",
      "\u001b[31m✖\u001b[39m \u001b[34mdplyr\u001b[39m::\u001b[32mlag()\u001b[39m    masks \u001b[34mstats\u001b[39m::lag()\n",
      "\u001b[36mℹ\u001b[39m Use the conflicted package (\u001b[3m\u001b[34m<http://conflicted.r-lib.org/>\u001b[39m\u001b[23m) to force all conflicts to become errors\n",
      "\n",
      "Attaching package: ‘reshape2’\n",
      "\n",
      "\n",
      "The following object is masked from ‘package:tidyr’:\n",
      "\n",
      "    smiths\n",
      "\n",
      "\n",
      "\n",
      "Attaching package: ‘data.table’\n",
      "\n",
      "\n",
      "The following objects are masked from ‘package:reshape2’:\n",
      "\n",
      "    dcast, melt\n",
      "\n",
      "\n",
      "The following objects are masked from ‘package:lubridate’:\n",
      "\n",
      "    hour, isoweek, mday, minute, month, quarter, second, wday, week,\n",
      "    yday, year\n",
      "\n",
      "\n",
      "The following objects are masked from ‘package:dplyr’:\n",
      "\n",
      "    between, first, last\n",
      "\n",
      "\n",
      "The following object is masked from ‘package:purrr’:\n",
      "\n",
      "    transpose\n",
      "\n",
      "\n"
     ]
    }
   ],
   "source": [
    "#Set up the environment\n",
    "library(tidyverse)\n",
    "library(reshape2)\n",
    "library(data.table)"
   ]
  },
  {
   "cell_type": "code",
   "execution_count": 2,
   "metadata": {
    "vscode": {
     "languageId": "r"
    }
   },
   "outputs": [],
   "source": [
    "#replicate map\n",
    "setwd(\"../data\")\n",
    "avana.replicate.map = fread(\"22q1_Achilles_replicate_map.csv\", sep = \",\", check.names = FALSE, header = T)"
   ]
  },
  {
   "cell_type": "code",
   "execution_count": 3,
   "metadata": {
    "vscode": {
     "languageId": "r"
    }
   },
   "outputs": [],
   "source": [
    "#guide map\n",
    "setwd(\"../data\")\n",
    "avana.guide.map = fread(\"22q1_Achilles_guide_map.csv\", sep = \",\", check.names = FALSE, header = T) %>%\n",
    "mutate(gene = word(gene, 1))"
   ]
  },
  {
   "cell_type": "code",
   "execution_count": 4,
   "metadata": {
    "vscode": {
     "languageId": "r"
    }
   },
   "outputs": [],
   "source": [
    "#Load in the lineage-corrected ancestry-associated p-value data frame\n",
    "setwd(\"../data\")\n",
    "lineage.corrected.pvals = read.table(\"lm_ancestry_associated_dependency_pvals.txt\", sep = \"\\t\", header = T)\n",
    "\n",
    "#Get a vector of ancestry-associated genes\n",
    "ancestry.associated.genes = lineage.corrected.pvals %>%\n",
    "filter(afr_fdr < 0.05 | amr_fdr < 0.05 | eas_fdr < 0.05 | eur_fdr < 0.05 | sas_fdr < 0.05) %>%\n",
    "pull(gene) %>%\n",
    "unique()"
   ]
  },
  {
   "cell_type": "code",
   "execution_count": 5,
   "metadata": {
    "vscode": {
     "languageId": "r"
    }
   },
   "outputs": [],
   "source": [
    "#Load in the ancestry-associated pval matrix\n",
    "setwd(\"../data\")\n",
    "all.data = fread(\"merged.pvals.txt\", sep = \"\\t\", header = TRUE)\n",
    "\n",
    "#geta vector of snps\n",
    "snp_vector = all.data$snp"
   ]
  },
  {
   "cell_type": "code",
   "execution_count": 6,
   "metadata": {
    "vscode": {
     "languageId": "r"
    }
   },
   "outputs": [
    {
     "ename": "",
     "evalue": "",
     "output_type": "error",
     "traceback": [
      "\u001b[1;31mThe Kernel crashed while executing code in the current cell or a previous cell. \n",
      "\u001b[1;31mPlease review the code in the cell(s) to identify a possible cause of the failure. \n",
      "\u001b[1;31mClick <a href='https://aka.ms/vscodeJupyterKernelCrash'>here</a> for more info. \n",
      "\u001b[1;31mView Jupyter <a href='command:jupyter.viewOutput'>log</a> for further details."
     ]
    }
   ],
   "source": [
    "#FDR correct the entire dataset\n",
    "all.data.fdr = all.data %>%\n",
    "select(-snp) %>%\n",
    "apply(2, function(x) { p.adjust(x, method = \"BY\", n = length(x)) }) %>%\n",
    "data.frame() %>%\n",
    "mutate(\"snp\" = all.data$snp, .before = 1)\n",
    "\n",
    "#Remove the original dataset to free up memory\n",
    "rm(all.data)"
   ]
  },
  {
   "cell_type": "code",
   "execution_count": null,
   "metadata": {
    "vscode": {
     "languageId": "r"
    }
   },
   "outputs": [],
   "source": [
    "#Melt and subset to only include the significant SNPs\n",
    "all.fdr.melted = all.data.fdr %>%\n",
    "melt(id = \"snp\")\n",
    "\n",
    "#Remove the original dataset to free up memory\n",
    "rm(all.data.fdr)"
   ]
  },
  {
   "cell_type": "code",
   "execution_count": null,
   "metadata": {
    "vscode": {
     "languageId": "r"
    }
   },
   "outputs": [],
   "source": [
    "#guide logfc data\n",
    "setwd(\"../data\")\n",
    "avana.logfc = fread(\"22q1_Achilles_logfold_change.csv\", sep = \",\", header = T, check.names = FALSE)"
   ]
  },
  {
   "cell_type": "code",
   "execution_count": null,
   "metadata": {
    "vscode": {
     "languageId": "r"
    }
   },
   "outputs": [],
   "source": [
    "#Filter to only include significant variants\n",
    "#Also split the snp column\n",
    "significant.fdr = all.fdr.melted %>%\n",
    "filter(value < 0.05) %>%\n",
    "separate(snp, sep = \":\", into = c(\"chr\", \"pos\", \"ref\", \"alt\"))"
   ]
  },
  {
   "cell_type": "code",
   "execution_count": null,
   "metadata": {
    "vscode": {
     "languageId": "r"
    }
   },
   "outputs": [],
   "source": [
    "#Compute which SNPs intersect with a guide\n",
    "in.guide.vector = significant.fdr %>%\n",
    "apply(1, function(x){\n",
    "    \n",
    "    #Store information as variables\n",
    "    chr.of.interest = x[1]\n",
    "    pos.of.interest = x[2]\n",
    "    \n",
    "    #subset avana.bed to only include guides that target the same chromosome\n",
    "    #then annotate the data frame if the variant falls within a guide\n",
    "    avana.bed.filtered = avana.bed %>% \n",
    "    filter(chr %in% all_of(chr.of.interest)) %>%\n",
    "    mutate(\"in_guide\" = ifelse(pos.of.interest >= start & pos.of.interest <= end, 1, 0))\n",
    "    \n",
    "    #Get the guides which that snp maps to\n",
    "    guide.logical = is.element(1, avana.bed.filtered$in_guide)\n",
    "    \n",
    "    if(guide.logical == TRUE){\n",
    "        guide.to.return = avana.bed.filtered %>%\n",
    "        filter(in_guide %in% \"1\") %>%\n",
    "        pull(sgrna)\n",
    "    } else {\n",
    "        guide.to.return = 0\n",
    "    }\n",
    "    \n",
    "    #Return the data outside of the loop\n",
    "    return(guide.to.return) \n",
    "})"
   ]
  },
  {
   "cell_type": "code",
   "execution_count": null,
   "metadata": {
    "vscode": {
     "languageId": "r"
    }
   },
   "outputs": [],
   "source": [
    "#Merge the guide into the main data frame\n",
    "significant.fdr.with.guide = significant.fdr %>%\n",
    "mutate(\"affected_guide\" = in.guide.vector)"
   ]
  },
  {
   "cell_type": "code",
   "execution_count": null,
   "metadata": {
    "vscode": {
     "languageId": "r"
    }
   },
   "outputs": [
    {
     "name": "stderr",
     "output_type": "stream",
     "text": [
      "Warning message:\n",
      "“The melt generic in data.table has been passed a data.frame and will attempt to redirect to the relevant reshape2 method; please note that reshape2 is superseded and is no longer actively developed, and this redirection is now deprecated. To continue using melt methods from reshape2 while both libraries are attached, e.g. melt.list, you can prepend the namespace, i.e. reshape2::melt(.). In the next version, this warning will become an error.”\n",
      "Warning message:\n",
      "“\u001b[1m\u001b[22mThere was 1 warning in `summarise()`.\n",
      "\u001b[1m\u001b[22m\u001b[36mℹ\u001b[39m In argument: `sgrna_depletion = mean(value)`.\n",
      "Caused by warning in `mean.default()`:\n",
      "\u001b[33m!\u001b[39m argument is not numeric or logical: returning NA”\n",
      "\u001b[1m\u001b[22m`summarise()` has grouped output by 'sgrna'. You can override using the\n",
      "`.groups` argument.\n"
     ]
    }
   ],
   "source": [
    "#Compute all of the ancestry-associated guides\n",
    "ancestry.associated.guides = avana.guide.map %>%\n",
    "filter(gene %in% all_of(ancestry.associated.genes)) %>%\n",
    "pull(sgrna)\n",
    "\n",
    "#Filter the logfc data to only include ancestry-associated guides\n",
    "#Then collapse replicates into cell lines\n",
    "ancestry.avana.logfc = avana.logfc %>%\n",
    "data.frame(check.names = FALSE) %>%\n",
    "rownames_to_column(\"sgrna\") %>%\n",
    "filter(sgrna %in% ancestry.associated.guides) %>%\n",
    "melt(id = \"sgrna\") %>%\n",
    "mutate(\"sample\" = plyr::mapvalues(from = avana.replicate.map$replicate_ID, to = avana.replicate.map$DepMap_ID, variable, warn_missing = FALSE)) %>%\n",
    "group_by(sgrna, sample) %>%\n",
    "summarise(\"sgrna_depletion\" = mean(value)) %>%\n",
    "mutate(\"gene\" = plyr::mapvalues(from = avana.guide.map$sgrna, to = avana.guide.map$gene, sgrna, warn_missing = FALSE))\n"
   ]
  },
  {
   "cell_type": "code",
   "execution_count": null,
   "metadata": {
    "vscode": {
     "languageId": "r"
    }
   },
   "outputs": [
    {
     "ename": "ERROR",
     "evalue": "Error in eval(expr, envir, enclos): object 'significant.fdr.with.guide' not found\n",
     "output_type": "error",
     "traceback": [
      "Error in eval(expr, envir, enclos): object 'significant.fdr.with.guide' not found\nTraceback:\n",
      "1. significant.fdr.with.guide %>% filter(!affected_guide %in% \"0\") %>% \n .     pull(affected_guide) %>% unique()",
      "2. unique(.)",
      "3. pull(., affected_guide)",
      "4. filter(., !affected_guide %in% \"0\")"
     ]
    }
   ],
   "source": [
    "#Get a vector of guides that have a snp\n",
    "guide.with.snp = significant.fdr.with.guide %>%\n",
    "filter(!affected_guide %in% \"0\") %>%\n",
    "pull(affected_guide) %>%\n",
    "unique()\n",
    "\n",
    "#Group by guide and calculate the median across all cell lines\n",
    "#Then annotate with if the guide has a snp in the targeting sequence\n",
    "collapsed.median.guide.depletion = ancestry.avana.logfc %>%\n",
    "group_by(sgrna) %>%\n",
    "summarise(\"median_sgrna_depletion\" = median(sgrna_depletion)) %>%\n",
    "mutate(\"gene\" = plyr::mapvalues(from = ancestry.avana.logfc$sgrna, to = ancestry.avana.logfc$gene, sgrna, warn_missing = FALSE)) %>%\n",
    "mutate(\"snp_flag\" = ifelse(sgrna %in% all_of(guide.with.snp), 1, 0))"
   ]
  },
  {
   "cell_type": "code",
   "execution_count": null,
   "metadata": {
    "vscode": {
     "languageId": "r"
    }
   },
   "outputs": [],
   "source": [
    "###Represent the data in a different way for proximal genes\n",
    "collapsed.median.guide.depletion %>%\n",
    "filter(gene %in% all_of(ancestry.associated.genes)) %>%\n",
    "filter(gene %in% all_of(proximal.genes)) %>%\n",
    "group_by(gene) %>%\n",
    "summarise(\"num_affected_guides\" = sum(snp_flag)) %>%\n",
    "group_by(num_affected_guides) %>%\n",
    "summarise(\"class\" = n()) %>%\n",
    "ggplot(aes(x = num_affected_guides, y = class)) +\n",
    "geom_bar(stat = \"identity\") +\n",
    "\n",
    "theme_bw() +\n",
    "\n",
    "theme(\n",
    "panel.grid.major = element_blank(),\n",
    "panel.grid.minor = element_blank(), \n",
    "axis.line = element_line(color = \"black\")\n",
    ") +\n",
    "\n",
    "theme(\n",
    "axis.title.x = element_text(size = 7),\n",
    "axis.title.y = element_text(size = 7)\n",
    ") +\n",
    "\n",
    "theme(\n",
    "axis.text=element_text(size = 7),\n",
    "axis.title=element_text(size = 7)\n",
    ") +\n",
    "\n",
    "theme(\n",
    "legend.title = element_text(size = 7),\n",
    "legend.text = element_text(size = 7)\n",
    ") +\n",
    "\n",
    "ylab(\"Number of genes\") +\n",
    "xlab(\"Number of affected guides\")\n",
    "\n",
    "#Export it to the google bucket\n",
    "setwd('../output')\n",
    "ggsave(\"supplemental_figure_3_left.pdf\", width = 3, height = 5)"
   ]
  },
  {
   "cell_type": "code",
   "execution_count": null,
   "metadata": {
    "vscode": {
     "languageId": "r"
    }
   },
   "outputs": [],
   "source": [
    "###Represent the data in a different way for non-proximal genes\n",
    "collapsed.median.guide.depletion %>%\n",
    "filter(gene %in% all_of(ancestry.associated.genes)) %>%\n",
    "filter(!gene %in% all_of(proximal.genes)) %>%\n",
    "group_by(gene) %>%\n",
    "summarise(\"num_affected_guides\" = sum(snp_flag)) %>%\n",
    "group_by(num_affected_guides) %>%\n",
    "summarise(\"class\" = n()) %>%\n",
    "ggplot(aes(x = num_affected_guides, y = class)) +\n",
    "geom_bar(stat = \"identity\") +\n",
    "\n",
    "theme_bw() +\n",
    "\n",
    "theme(\n",
    "panel.grid.major = element_blank(),\n",
    "panel.grid.minor = element_blank(), \n",
    "axis.line = element_line(color = \"black\")\n",
    ") +\n",
    "\n",
    "theme(\n",
    "axis.title.x = element_text(size = 7),\n",
    "axis.title.y = element_text(size = 7)\n",
    ") +\n",
    "\n",
    "theme(\n",
    "axis.text=element_text(size = 7),\n",
    "axis.title=element_text(size = 7)\n",
    ") +\n",
    "\n",
    "theme(\n",
    "legend.title = element_text(size = 7),\n",
    "legend.text = element_text(size = 7)\n",
    ") +\n",
    "\n",
    "ylab(\"Number of genes\") +\n",
    "xlab(\"Number of affected guides\")\n",
    "\n",
    "#Export it to the google bucket\n",
    "setwd('../output')\n",
    "ggsave(\"supplemental_figure_3_right.pdf\", width = 3, height = 5)"
   ]
  },
  {
   "cell_type": "code",
   "execution_count": null,
   "metadata": {
    "vscode": {
     "languageId": "r"
    }
   },
   "outputs": [],
   "source": [
    "#Write the dataset used to make supplemental figure 3 \n",
    "setwd(\"../output\")\n",
    "write.table(collapsed.median.guide.depletion, \"supplemental_figure_3_df.txt\", sep = \"\\t\", col.names = TRUE, row.names = FALSE, quote = FALSE)"
   ]
  },
  {
   "cell_type": "code",
   "execution_count": null,
   "metadata": {
    "vscode": {
     "languageId": "r"
    }
   },
   "outputs": [],
   "source": []
  },
  {
   "cell_type": "code",
   "execution_count": null,
   "metadata": {
    "vscode": {
     "languageId": "r"
    }
   },
   "outputs": [],
   "source": []
  }
 ],
 "metadata": {
  "kernelspec": {
   "display_name": "R",
   "language": "R",
   "name": "ir"
  },
  "language_info": {
   "codemirror_mode": "r",
   "file_extension": ".r",
   "mimetype": "text/x-r-source",
   "name": "R",
   "pygments_lexer": "r",
   "version": "4.3.3"
  }
 },
 "nbformat": 4,
 "nbformat_minor": 2
}
