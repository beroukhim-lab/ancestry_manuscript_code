{
 "cells": [
  {
   "cell_type": "code",
   "execution_count": 2,
   "metadata": {
    "vscode": {
     "languageId": "r"
    }
   },
   "outputs": [],
   "source": [
    "#Set up the environment\n",
    "library(tidyverse)\n",
    "library(reshape2)\n",
    "library(data.table)"
   ]
  },
  {
   "cell_type": "code",
   "execution_count": 3,
   "metadata": {
    "vscode": {
     "languageId": "r"
    }
   },
   "outputs": [],
   "source": [
    "#First, load in the ccle variants and format the dataset so that it looks nice\n",
    "setwd(\"../data\")\n",
    "ccle.variant.calls = read.table(\"snps.in.all.avana.guides.vcf.gz\", sep = \"\\t\") %>%\n",
    "filter(V7 %in% \"PASS\") %>%\n",
    "select(-V1, -V2, -V4, -V5, -V6, -V7, -V8, -V9)\n",
    "\n",
    "#Reformat the genotyping data\n",
    "ccle.variant.calls[2:ncol(ccle.variant.calls)] = apply(ccle.variant.calls[2:ncol(ccle.variant.calls)], 2, function(x){gsub(\":..*\", \"\", x) })\n",
    "ccle.variant.calls[2:ncol(ccle.variant.calls)] = apply(ccle.variant.calls[2:ncol(ccle.variant.calls)], 2, function(x){gsub(\"0\\\\|0\", 0, x) })\n",
    "ccle.variant.calls[2:ncol(ccle.variant.calls)] = apply(ccle.variant.calls[2:ncol(ccle.variant.calls)], 2, function(x){gsub(\"0\\\\|1\", 1, x) })\n",
    "ccle.variant.calls[2:ncol(ccle.variant.calls)] = apply(ccle.variant.calls[2:ncol(ccle.variant.calls)], 2, function(x){gsub(\"1\\\\|0\", 1, x) })\n",
    "ccle.variant.calls[2:ncol(ccle.variant.calls)] = apply(ccle.variant.calls[2:ncol(ccle.variant.calls)], 2, function(x){gsub(\"1\\\\|1\", 2, x) })\n",
    "\n",
    "#Fix the SNP column\n",
    "ccle.variant.calls = ccle.variant.calls %>%\n",
    "separate(V3, sep = \":\", into = c(\"chr\", \"pos\", \"ref\", \"alt\"))\n",
    "\n",
    "#Then fix the names on that dataset\n",
    "#First extract the sample names from the vcf file, then load them into R\n",
    "setwd(\"../data\")\n",
    "sample.names = read.table(\"ccle.vcf.sample.names.txt\", sep = \"\\t\") %>%\n",
    "pull(1)\n",
    "\n",
    "ccle.variant.calls = ccle.variant.calls\n",
    "colnames(ccle.variant.calls) = c(\"chr\", \"pos\", \"ref\", \"alt\", sample.names)"
   ]
  },
  {
   "cell_type": "code",
   "execution_count": 4,
   "metadata": {
    "vscode": {
     "languageId": "r"
    }
   },
   "outputs": [],
   "source": [
    "#First, load in the guide map so that we can figure out which guides are on the plus or minus strand\n",
    "setwd(\"../data\")\n",
    "guide.map = read.table(\"21q4_Achilles_guide_map.csv\", header = T, sep = \",\") %>%\n",
    "select(sgrna, genome_alignment) %>%\n",
    "mutate(genome_alignment = gsub(\"..*_\", \"\", genome_alignment)) %>%\n",
    "rename(\"strand\" = genome_alignment) %>%\n",
    "distinct(sgrna, .keep_all = TRUE)\n",
    "\n",
    "#Load in the Avana bed file to get positions for the ancestry-associated guides\n",
    "#Also add the annotation information from guides.to.keep to the avana.bed matrix\n",
    "#Also flip the start and end positions if the sgrna is on the minus strand\n",
    "setwd(\"../data\")\n",
    "avana.bed <- read.table('Avana14_filtering.bed', sep = \"\\t\", header = F) %>%\n",
    "rename(\"chr\" = 1, \"start\" = 2, \"end\" = 3, \"sgrna\" = 4) %>%\n",
    "inner_join(guide.map, by = \"sgrna\") %>%\n",
    "mutate(\"true_start\" = ifelse(strand %in% \"+\", start, end)) %>%\n",
    "mutate(\"true_end\" = ifelse(strand %in% \"+\", end, start))%>% #This line and the line above will create two new columns to flip the start and end if the sgrna is on the minus strand\n",
    "select(chr, true_start, true_end, sgrna) %>%\n",
    "rename(\"start\" = true_start) %>%\n",
    "rename(\"end\" = true_end)"
   ]
  },
  {
   "cell_type": "code",
   "execution_count": 5,
   "metadata": {
    "vscode": {
     "languageId": "r"
    }
   },
   "outputs": [],
   "source": [
    "#For each guide in avana.bed calculate if there is a snp in the guide, then calculate the position of that SNP\n",
    "snp.in.guide.list = NULL\n",
    "for(i in 1:nrow(avana.bed)){\n",
    "  \n",
    "    #get information for the guide of interest\n",
    "    guide.start = avana.bed$start[i] %>% as.numeric() #get the position of the guide\n",
    "    guide.chrom = avana.bed$chr[i] #get the chromosome that the guide is on\n",
    "    sgrna.barcode = avana.bed$sgrna[i] #get the barcode sequence\n",
    "    \n",
    "    #subset out subset.ccle.snps so that it only includes snps on that chromsome\n",
    "    subset.to.chr = ccle.variant.calls %>% filter(chr %in% guide.chrom)\n",
    "    \n",
    "    #now calculate the differential and add it to the list outside of the loop\n",
    "    snp.position = guide.start - as.numeric(subset.to.chr$pos)\n",
    "    snp.in.guide.list[[i]] = snp.position\n",
    "}\n",
    "names(snp.in.guide.list) = avana.bed$sgrna #Then name the list with the corresponding sgrna sequence"
   ]
  },
  {
   "cell_type": "code",
   "execution_count": 6,
   "metadata": {
    "vscode": {
     "languageId": "r"
    }
   },
   "outputs": [],
   "source": [
    "#Assign the SNP ID as names for each vector\n",
    "\n",
    "annotated.snp.in.guide.list = NULL\n",
    "for(i in 1:length(snp.in.guide.list)){\n",
    "        \n",
    "    chromosome = avana.bed$chr[i] #get the chromosome which that guide targets\n",
    "    \n",
    "    #Now get a vector of snp positions and annotate the relative snp position vector with that information\n",
    "    vector.to.annotate = snp.in.guide.list[[i]] #grab the vector that we need to annotate in this loop\n",
    "    snp.vector = ccle.variant.calls %>% filter(chr %in% chromosome) %>% mutate(snp = paste(chr, \":\", pos, \":\", ref, \":\", alt, sep = \"\")) %>% pull(snp) #make a vector that contains the snp information\n",
    "    names(vector.to.annotate) = snp.vector #now apply that annotation to the vector of snp positions\n",
    "    \n",
    "    #Report the information outside of the loop\n",
    "    annotated.snp.in.guide.list[[i]] = vector.to.annotate\n",
    "    \n",
    "}\n",
    "\n",
    "names(annotated.snp.in.guide.list) = avana.bed$sgrna #Then name the list with the corresponding sgrna sequence"
   ]
  },
  {
   "cell_type": "code",
   "execution_count": 7,
   "metadata": {
    "vscode": {
     "languageId": "r"
    }
   },
   "outputs": [],
   "source": [
    "#Go through the list and remove the SNPs that don't map to a sgrna\n",
    "pruned.snp.list = annotated.snp.in.guide.list %>%\n",
    "lapply(function(x){\n",
    "    vector = abs(x)\n",
    "    val.to.return = vector[vector %in% 0:22]\n",
    "    return(val.to.return)\n",
    "}) %>% compact(1) #compact is part of the purrr package and will remove guides that don't have a SNP"
   ]
  },
  {
   "cell_type": "code",
   "execution_count": 8,
   "metadata": {
    "vscode": {
     "languageId": "r"
    }
   },
   "outputs": [],
   "source": [
    "#Now let's go through and create a nice data frame from this list.\n",
    "\n",
    "snp.in.guide.df = NULL\n",
    "for(i in 1:length(pruned.snp.list)){\n",
    "    \n",
    "   sgrna = pruned.snp.list[[i]] #this is a vector (normally length = 1, sometimes more with all of the snps that map to a vector)\n",
    "   \n",
    "    #If there is only one snp that maps to that sgrna, simply construct the vector and add it to the data frame\n",
    "    #If there is more than one snp, then we need to get a little more fancy and construct a data frame first\n",
    "    if(length(sgrna) == 1){\n",
    "        sgrna = names(pruned.snp.list[i]) #get the sgrna for this iteration of the loop\n",
    "        snp = names(pruned.snp.list[[i]]) #get the snp code for this iteration of the loop\n",
    "        position = pruned.snp.list[[i]] #Get the relative position of the SNP on the guide for this iteration of the loop\n",
    "        vector.to.add = c(sgrna, snp, position) #Make a vector of values to add to the data frame\n",
    "        snp.in.guide.df = rbind(snp.in.guide.df, vector.to.add) %>% data.frame() %>% #Then add that vector to the data frame\n",
    "        rename(\"sgrna\" = 1, \"snp\" = 2, \"position\" = 3)  \n",
    "    } else {\n",
    "        sgrna = names(pruned.snp.list[i]) #get the sgrna for this iteration of the loop\n",
    "        sgrna.vector = rep(sgrna, length(pruned.snp.list[[i]])) #get a vector that contains the sgrna now, length = #snps\n",
    "        snp.vector = names(pruned.snp.list[[i]]) #get the snp code for this iteration of the loop\n",
    "        position.vector = pruned.snp.list[[i]] #Get the relative position of the SNP on the guide for this iteration of the loop\n",
    "        df.to.add = cbind(sgrna.vector, snp.vector, position.vector) %>% data.frame() %>%\n",
    "        rename(\"sgrna\" = 1, \"snp\" = 2, \"position\" = 3) #bind it all into a data frame\n",
    "        snp.in.guide.df = rbind(snp.in.guide.df, df.to.add) %>% data.frame() %>%\n",
    "        rename(\"sgrna\" = 1, \"snp\" = 2, \"position\" = 3)\n",
    " }\n",
    "}\n",
    "\n",
    "row.names(snp.in.guide.df) = NULL #remove the row names on the new df since they are useless"
   ]
  },
  {
   "cell_type": "code",
   "execution_count": 9,
   "metadata": {
    "vscode": {
     "languageId": "r"
    }
   },
   "outputs": [],
   "source": [
    "#Write the matrix so we don't need to re-run all of that code\n",
    "setwd(\"../output\")\n",
    "write.table(snp.in.guide.df, \"supplemental_figure_7_snp_in_guide_df.txt\", sep = \"\\t\", col.names = TRUE, row.names = FALSE, quote = FALSE)"
   ]
  },
  {
   "cell_type": "code",
   "execution_count": 10,
   "metadata": {
    "vscode": {
     "languageId": "r"
    }
   },
   "outputs": [],
   "source": [
    "#Collapse everything to a clean sgRNA/cell line matrix\n",
    "processed.genotype.matrix = ccle.variant.calls %>%\n",
    "mutate(\"snp\" = paste(chr, \":\", pos, \":\", ref, \":\", alt, sep = \"\"), .before = chr) %>%\n",
    "select(-chr, -pos, -ref, -alt) %>%\n",
    "mutate(snp = plyr::mapvalues(snp, from = snp.in.guide.df$snp, to = snp.in.guide.df$sgrna, warn_missing = FALSE)) %>%\n",
    "mutate_at(vars(2:ncol(.)), as.numeric) %>%\n",
    "aggregate(. ~ snp, FUN = sum)"
   ]
  },
  {
   "cell_type": "code",
   "execution_count": 11,
   "metadata": {
    "vscode": {
     "languageId": "r"
    }
   },
   "outputs": [],
   "source": [
    "#Load in the sgrna-to-gene mapping file\n",
    "setwd(\"../data\")\n",
    "sgrna.mapping.file = read.table(\"21q4_Achilles_guide_map.csv\", header = T, sep = \",\") %>%\n",
    "select(sgrna, gene) %>%\n",
    "mutate(gene = word(gene, 1))"
   ]
  },
  {
   "cell_type": "code",
   "execution_count": 12,
   "metadata": {
    "vscode": {
     "languageId": "r"
    }
   },
   "outputs": [],
   "source": [
    "#Now replace the sgrna with the gene name\n",
    "processed.gene.snp.matrix = processed.genotype.matrix %>%\n",
    "mutate(snp = plyr::mapvalues(from = sgrna.mapping.file$sgrna, to = sgrna.mapping.file$gene, snp, warn_missing = FALSE)) %>%\n",
    "aggregate(. ~ snp, FUN = sum) %>%\n",
    "rename(\"gene\" = snp)"
   ]
  },
  {
   "cell_type": "code",
   "execution_count": 13,
   "metadata": {
    "vscode": {
     "languageId": "r"
    }
   },
   "outputs": [],
   "source": [
    "#Load in the chronos data and format it\n",
    "setwd(\"../data\")\n",
    "broad.chronos.scores = fread('22q1_crispr_gene_effect.csv', sep = \",\", header = T, check.names = FALSE) %>%\n",
    "setNames(word(names(.), 1)) "
   ]
  },
  {
   "cell_type": "code",
   "execution_count": 14,
   "metadata": {
    "vscode": {
     "languageId": "r"
    }
   },
   "outputs": [],
   "source": [
    "#Figure out which cell lines are shared between the chronos dataset and the genotyping dataset\n",
    "chronos.cell.lines = broad.chronos.scores %>% pull(DepMap_ID)\n",
    "genotyping.cell.lines = colnames(processed.gene.snp.matrix)[2:ncol(processed.gene.snp.matrix)]\n",
    "intersecting.lines = intersect(chronos.cell.lines, genotyping.cell.lines)\n",
    "\n",
    "#Calculate the intersecting genes between the two datasets\n",
    "genotyping.genes = processed.gene.snp.matrix$gene\n",
    "chronos.genes = colnames(broad.chronos.scores)[2:ncol(broad.chronos.scores)]\n",
    "intersecting.genes = intersect(genotyping.genes, chronos.genes)\n"
   ]
  },
  {
   "cell_type": "code",
   "execution_count": 24,
   "metadata": {
    "vscode": {
     "languageId": "r"
    }
   },
   "outputs": [],
   "source": [
    "#filter both the chronos and the snp.gene.matrix so that they only include the intersecting lines andgenes\n",
    "filtered.gene.snp.matrix = processed.gene.snp.matrix %>%\n",
    "select(gene, all_of(intersecting.lines)) %>%\n",
    "filter(gene %in% intersecting.genes)\n",
    "\n",
    "filtered.chronos.scores = broad.chronos.scores %>%\n",
    "filter(DepMap_ID %in% intersecting.lines) %>%\n",
    "select(DepMap_ID, all_of(intersecting.genes))"
   ]
  },
  {
   "cell_type": "code",
   "execution_count": 16,
   "metadata": {
    "vscode": {
     "languageId": "r"
    }
   },
   "outputs": [],
   "source": [
    "#Get two lists of cell lines with/without snps\n",
    "#Get a vector that has all of the cell line names\n",
    "cell.line.name.vector = colnames(filtered.gene.snp.matrix)[2:ncol(filtered.gene.snp.matrix)]\n",
    "\n",
    "#For each gene, grab all cell lines with a snp in at least one of the guides, store as a list.\n",
    "lines.with.snp = filtered.gene.snp.matrix %>%\n",
    "select(-gene) %>%\n",
    "apply(1, function(x){\n",
    "    line.index = which(x > 0) #get the position index of all lines with snps\n",
    "    line.name = cell.line.name.vector[line.index] #Get a vector with all of the cell line names\n",
    "    return(line.name) #Return the cell line names to outside of the apply loop\n",
    "})\n",
    "\n",
    "\n",
    "#For each gene, grab all cell lines with a snp in none of the guides, store as a list.\n",
    "lines.without.snp = filtered.gene.snp.matrix %>%\n",
    "select(-gene) %>%\n",
    "apply(1, function(x){\n",
    "    line.index = which(x == 0) #get the position index of all lines with snps\n",
    "    line.name = cell.line.name.vector[line.index] #Get a vector with all of the cell line names\n",
    "    return(line.name) #Return the cell line names to outside of the apply loop\n",
    "})\n",
    "\n",
    "#Assign the names\n",
    "names(lines.with.snp) = filtered.gene.snp.matrix$gene\n",
    "names(lines.without.snp) = filtered.gene.snp.matrix$gene"
   ]
  },
  {
   "cell_type": "code",
   "execution_count": 17,
   "metadata": {
    "vscode": {
     "languageId": "r"
    }
   },
   "outputs": [],
   "source": [
    "#Get a list of chronos scores for all genes with the snp and without the snp\n",
    "#This should take about 30 minutes to run\n",
    "#First, with the snp\n",
    "chronos.with.snp = NULL\n",
    "for(i in 1:length(lines.with.snp)){\n",
    "    \n",
    "    #get the cell line names that we want to grab\n",
    "    cell.lines.to.grab = lines.with.snp[[i]]\n",
    "    \n",
    "    #filter the chronos score dataset to only include those cell lines\n",
    "    chronos.scores = filtered.chronos.scores %>% \n",
    "    filter(DepMap_ID %in% all_of(cell.lines.to.grab)) %>%\n",
    "    select(-DepMap_ID) %>%\n",
    "    pull(all_of(i))\n",
    "    \n",
    "    #Add the chronos scores to the list\n",
    "    chronos.with.snp[[i]] = chronos.scores\n",
    "}\n",
    "\n",
    "\n",
    "\n",
    "#Now, without the snp\n",
    "chronos.without.snp = NULL\n",
    "for(i in 1:length(lines.without.snp)){\n",
    "    \n",
    "    #get the cell line names that we want to grab\n",
    "    cell.lines.to.grab = lines.without.snp[[i]]\n",
    "    \n",
    "    #filter the chronos score dataset to only include those cell lines\n",
    "    chronos.scores = filtered.chronos.scores %>% \n",
    "    filter(DepMap_ID %in% all_of(cell.lines.to.grab)) %>%\n",
    "    select(-DepMap_ID) %>%\n",
    "    pull(all_of(i))\n",
    "    \n",
    "    #Add the chronos scores to the list\n",
    "    chronos.without.snp[[i]] = chronos.scores\n",
    "}"
   ]
  },
  {
   "cell_type": "code",
   "execution_count": 18,
   "metadata": {
    "vscode": {
     "languageId": "r"
    }
   },
   "outputs": [],
   "source": [
    "###FINALLY we are ready to calculate p-values between the two classes of samples\n",
    "pval.vector = NULL\n",
    "for(i in 1:length(chronos.with.snp)){\n",
    "    \n",
    "    with.snp.values = chronos.with.snp[[i]] #extract the values for cell lines with the snp\n",
    "    without.snp.values = chronos.without.snp[[i]] #extract the values for cell lines without the snp\n",
    "    \n",
    "    #Calculate the p-value\n",
    "    if(length(with.snp.values) >= 3 & length(without.snp.values) >= 3) {\n",
    "        pval = wilcox.test(with.snp.values, without.snp.values, alternative = \"two.sided\")$p.value\n",
    "    } else { pval = 1 }\n",
    "    \n",
    "    #Return everything outside of the vector\n",
    "    pval.vector[i] = pval\n",
    "  \n",
    "}"
   ]
  },
  {
   "cell_type": "code",
   "execution_count": 19,
   "metadata": {
    "vscode": {
     "languageId": "r"
    }
   },
   "outputs": [],
   "source": [
    "#Calculate the differential between the two lists\n",
    "chronos.with.snp.mean = chronos.with.snp %>% lapply(mean) %>% unlist()\n",
    "chronos.without.snp.mean = chronos.without.snp %>% lapply(mean) %>% unlist()\n",
    "differential.vector = chronos.with.snp.mean - chronos.without.snp.mean"
   ]
  },
  {
   "cell_type": "code",
   "execution_count": 20,
   "metadata": {
    "vscode": {
     "languageId": "r"
    }
   },
   "outputs": [
    {
     "name": "stderr",
     "output_type": "stream",
     "text": [
      "Warning message in cbind(processed.gene.snp.matrix$gene, differential.vector, pval.vector):\n",
      "“number of rows of result is not a multiple of vector length (arg 2)”\n"
     ]
    }
   ],
   "source": [
    "#Construct the final dataset\n",
    "dataset.for.plotting = cbind(processed.gene.snp.matrix$gene, differential.vector, pval.vector) %>%\n",
    "data.frame() %>%\n",
    "rename(\"gene\" = 1, \"differential\" = 2, \"pval\" = 3) %>%\n",
    "mutate(differential = as.numeric(differential)) %>%\n",
    "mutate(pval = as.numeric(pval)) %>%\n",
    "mutate(\"fdr\" = p.adjust(pval, method = \"BH\", n = length(pval))) %>%\n",
    "mutate(\"sig_flag\" = ifelse(fdr < 0.05 & abs(differential) > 0.2, \"significant\", \"not_sigificant\"))"
   ]
  },
  {
   "cell_type": "code",
   "execution_count": 21,
   "metadata": {
    "vscode": {
     "languageId": "r"
    }
   },
   "outputs": [
    {
     "name": "stdout",
     "output_type": "stream",
     "text": [
      "[1] \"the total number of sig genes is 47\"\n",
      "[1] \"the total number of sig genes by fdr is 793\"\n"
     ]
    }
   ],
   "source": [
    "#Calculate the total number of significant genes\n",
    "num.sig.genes = dataset.for.plotting %>% filter(sig_flag %in% \"significant\") %>% nrow()\n",
    "print(paste(\"the total number of sig genes is\", num.sig.genes))\n",
    "\n",
    "\n",
    "num.sig.genes.by.fdr = dataset.for.plotting %>% filter(fdr < 0.05) %>% nrow()\n",
    "print(paste(\"the total number of sig genes by fdr is\", num.sig.genes.by.fdr))"
   ]
  },
  {
   "cell_type": "code",
   "execution_count": 22,
   "metadata": {
    "vscode": {
     "languageId": "r"
    }
   },
   "outputs": [],
   "source": [
    "#Write df.for.plotting so we don't need to re-make it\n",
    "setwd(\"../output\")\n",
    "write.table(dataset.for.plotting, \"supplemental_figure_7_df.txt\", sep = \"\\t\", col.names = TRUE, row.names = FALSE, quote = FALSE)"
   ]
  },
  {
   "cell_type": "code",
   "execution_count": 23,
   "metadata": {
    "vscode": {
     "languageId": "r"
    }
   },
   "outputs": [
    {
     "name": "stderr",
     "output_type": "stream",
     "text": [
      "Warning message:\n",
      "“\u001b[1m\u001b[22mRemoved 102 rows containing missing values or values outside the scale range\n",
      "(`geom_point()`).”\n",
      "Warning message:\n",
      "“\u001b[1m\u001b[22mRemoved 102 rows containing missing values or values outside the scale range\n",
      "(`geom_point()`).”\n"
     ]
    },
    {
     "data": {
      "image/png": "[encoded data removed]",
      "text/plain": [
       "plot without title"
      ]
     },
     "metadata": {
      "image/png": {
       "height": 420,
       "width": 420
      }
     },
     "output_type": "display_data"
    }
   ],
   "source": [
    "#Plot the plot\n",
    "dataset.for.plotting %>%\n",
    "ggplot(aes(x = differential, y = -log10(fdr), color = sig_flag)) +\n",
    "geom_point() +\n",
    "geom_hline(yintercept = -log10(0.05), linetype = 2) +\n",
    "geom_vline(xintercept = 0.2, linetype = 2) +\n",
    "geom_vline(xintercept = -0.2, linetype = 2) +\n",
    "theme_bw() +\n",
    "\n",
    "scale_color_manual(values = c(\"black\", \"red\")) +\n",
    "\n",
    "theme(\n",
    "panel.grid.major = element_blank(),\n",
    "panel.grid.minor = element_blank(), \n",
    ") +\n",
    "\n",
    "theme(\n",
    "axis.title.x = element_text(color = \"black\", size = 12),\n",
    "axis.title.y = element_text(color = \"black\", size = 12)\n",
    ") +\n",
    "\n",
    "theme(\n",
    "axis.text = element_text(size = 12),\n",
    "axis.title = element_text(size = 12)\n",
    ") +\n",
    "\n",
    "theme(\n",
    "legend.title = element_text(size = 12),\n",
    "legend.text = element_text(size = 12)\n",
    ") +\n",
    "\n",
    "scale_x_continuous(breaks = seq(-0.4, 0.8, by = 0.2)) +\n",
    "\n",
    "ylab(\"-log10(p-value)\") +\n",
    "xlab(\"Difference in Chronos Score\")\n",
    "\n",
    "#Export it to the google bucket\n",
    "setwd('../output')\n",
    "ggsave(\"supplemental_figure_7.pdf\", width = 5, height = 3)"
   ]
  },
  {
   "cell_type": "code",
   "execution_count": null,
   "metadata": {
    "vscode": {
     "languageId": "r"
    }
   },
   "outputs": [],
   "source": []
  },
  {
   "cell_type": "code",
   "execution_count": null,
   "metadata": {
    "vscode": {
     "languageId": "r"
    }
   },
   "outputs": [],
   "source": []
  },
  {
   "cell_type": "code",
   "execution_count": null,
   "metadata": {
    "vscode": {
     "languageId": "r"
    }
   },
   "outputs": [],
   "source": []
  }
 ],
 "metadata": {
  "kernelspec": {
   "display_name": "R",
   "language": "R",
   "name": "ir"
  },
  "language_info": {
   "codemirror_mode": "r",
   "file_extension": ".r",
   "mimetype": "text/x-r-source",
   "name": "R",
   "pygments_lexer": "r",
   "version": "4.3.3"
  }
 },
 "nbformat": 4,
 "nbformat_minor": 2
}
