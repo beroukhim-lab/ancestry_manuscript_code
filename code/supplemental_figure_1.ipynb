{
 "cells": [
  {
   "cell_type": "code",
   "execution_count": 1,
   "metadata": {
    "vscode": {
     "languageId": "r"
    }
   },
   "outputs": [
    {
     "name": "stderr",
     "output_type": "stream",
     "text": [
      "── \u001b[1mAttaching core tidyverse packages\u001b[22m ──────────────────────── tidyverse 2.0.0 ──\n",
      "\u001b[32m✔\u001b[39m \u001b[34mdplyr    \u001b[39m 1.1.4     \u001b[32m✔\u001b[39m \u001b[34mreadr    \u001b[39m 2.1.5\n",
      "\u001b[32m✔\u001b[39m \u001b[34mforcats  \u001b[39m 1.0.0     \u001b[32m✔\u001b[39m \u001b[34mstringr  \u001b[39m 1.5.1\n",
      "\u001b[32m✔\u001b[39m \u001b[34mggplot2  \u001b[39m 3.5.0     \u001b[32m✔\u001b[39m \u001b[34mtibble   \u001b[39m 3.2.1\n",
      "\u001b[32m✔\u001b[39m \u001b[34mlubridate\u001b[39m 1.9.3     \u001b[32m✔\u001b[39m \u001b[34mtidyr    \u001b[39m 1.3.1\n",
      "\u001b[32m✔\u001b[39m \u001b[34mpurrr    \u001b[39m 1.0.2     \n",
      "── \u001b[1mConflicts\u001b[22m ────────────────────────────────────────── tidyverse_conflicts() ──\n",
      "\u001b[31m✖\u001b[39m \u001b[34mdplyr\u001b[39m::\u001b[32mfilter()\u001b[39m masks \u001b[34mstats\u001b[39m::filter()\n",
      "\u001b[31m✖\u001b[39m \u001b[34mdplyr\u001b[39m::\u001b[32mlag()\u001b[39m    masks \u001b[34mstats\u001b[39m::lag()\n",
      "\u001b[36mℹ\u001b[39m Use the conflicted package (\u001b[3m\u001b[34m<http://conflicted.r-lib.org/>\u001b[39m\u001b[23m) to force all conflicts to become errors\n",
      "\n",
      "Attaching package: ‘reshape2’\n",
      "\n",
      "\n",
      "The following object is masked from ‘package:tidyr’:\n",
      "\n",
      "    smiths\n",
      "\n",
      "\n",
      "\n",
      "Attaching package: ‘janitor’\n",
      "\n",
      "\n",
      "The following objects are masked from ‘package:stats’:\n",
      "\n",
      "    chisq.test, fisher.test\n",
      "\n",
      "\n",
      "\n",
      "Attaching package: ‘data.table’\n",
      "\n",
      "\n",
      "The following objects are masked from ‘package:reshape2’:\n",
      "\n",
      "    dcast, melt\n",
      "\n",
      "\n",
      "The following objects are masked from ‘package:lubridate’:\n",
      "\n",
      "    hour, isoweek, mday, minute, month, quarter, second, wday, week,\n",
      "    yday, year\n",
      "\n",
      "\n",
      "The following objects are masked from ‘package:dplyr’:\n",
      "\n",
      "    between, first, last\n",
      "\n",
      "\n",
      "The following object is masked from ‘package:purrr’:\n",
      "\n",
      "    transpose\n",
      "\n",
      "\n"
     ]
    }
   ],
   "source": [
    "#Set up the environment\n",
    "library(tidyverse)\n",
    "library(reshape2)\n",
    "library(janitor)\n",
    "library(ggrepel)\n",
    "library(data.table)"
   ]
  },
  {
   "cell_type": "code",
   "execution_count": 2,
   "metadata": {
    "vscode": {
     "languageId": "r"
    }
   },
   "outputs": [],
   "source": [
    "#Load in the CRISPR screening data\n",
    "setwd(\"../data\")\n",
    "achilles.22q1 = fread(\"22q1_Achilles_gene_effect.csv\", sep = \",\", header = T, check.names = FALSE) %>%\n",
    "setNames(word(names(.), 1)) %>%\n",
    "rename(\"sample\" = 1)"
   ]
  },
  {
   "cell_type": "code",
   "execution_count": 6,
   "metadata": {
    "vscode": {
     "languageId": "r"
    }
   },
   "outputs": [
    {
     "name": "stderr",
     "output_type": "stream",
     "text": [
      "Warning message in fread(\"gene.block.matrix.txt\", sep = \"\\t\"):\n",
      "“Detected 1000 column names but the data has 1001 columns (i.e. invalid file). Added 1 extra default column name for the first column which is guessed to be row names or an index. Use setnames() afterwards if this guess is not correct, or fix the file write command that created the file to create a valid file.”\n"
     ]
    }
   ],
   "source": [
    "#Load in the gene block matrix that lists the ancestry for all genes and for all cell lines\n",
    "setwd(\"../data\")\n",
    "gene.block.matrix = fread(\"gene.block.matrix.txt\", sep = \"\\t\")\n",
    "row.names(gene.block.matrix) = NULL\n",
    "\n",
    "#Format gene.block.matrix so that it is ready for our analysis\n",
    "formatted.gene.block.matrix = gene.block.matrix %>%\n",
    "column_to_rownames(var = \"gene\") %>%\n",
    "select(-block_id, -X.chm, -spos, -epos) %>%\n",
    "t() %>%\n",
    "data.frame() %>%\n",
    "rownames_to_column() %>%\n",
    "rename(\"sample\" = 1) %>%\n",
    "mutate(sample = gsub(\"ACH.000\", \"ACH-000\", sample)) %>%\n",
    "mutate(sample = gsub(\"\\\\.1\", \"\", sample))"
   ]
  },
  {
   "cell_type": "code",
   "execution_count": 7,
   "metadata": {
    "vscode": {
     "languageId": "r"
    }
   },
   "outputs": [],
   "source": [
    "#Filter both datasets so that they share a common set of samples\n",
    "intersecting.samples = intersect(achilles.22q1$sample, formatted.gene.block.matrix$sample)\n",
    "intersecting.genes = intersect(colnames(achilles.22q1), colnames(formatted.gene.block.matrix))\n",
    "\n",
    "final.achilles.22q1 = achilles.22q1 %>%\n",
    "filter(sample %in% intersecting.samples) %>%\n",
    "select(all_of(intersecting.genes)) %>%\n",
    "arrange(sample)\n",
    "\n",
    "final.gene.block = formatted.gene.block.matrix %>%\n",
    "filter(sample %in% intersecting.samples) %>%\n",
    "select(all_of(intersecting.genes)) %>%\n",
    "arrange(sample)"
   ]
  },
  {
   "cell_type": "code",
   "execution_count": 8,
   "metadata": {
    "vscode": {
     "languageId": "r"
    }
   },
   "outputs": [],
   "source": [
    "#Load in the sample annotation data\n",
    "setwd('../data')\n",
    "sample.annotation = read.table('depmap_cell_lineage.csv', sep = \",\", header = T) %>%\n",
    "rename(\"sample\" = 1)"
   ]
  },
  {
   "cell_type": "code",
   "execution_count": 9,
   "metadata": {
    "vscode": {
     "languageId": "r"
    }
   },
   "outputs": [],
   "source": [
    "#Calculate p-values and mean differences for 22q1\n",
    "gene.names = colnames(final.achilles.22q1)[2:ncol(final.achilles.22q1)]\n",
    "\n",
    "afr.pval.vector = NULL\n",
    "amr.pval.vector = NULL\n",
    "eas.pval.vector = NULL\n",
    "eur.pval.vector = NULL\n",
    "sas.pval.vector = NULL\n",
    "afr.mean.dif = NULL\n",
    "amr.mean.dif = NULL\n",
    "eas.mean.dif = NULL\n",
    "eur.mean.dif = NULL\n",
    "sas.mean.dif = NULL\n",
    "for(gene in gene.names){\n",
    "    \n",
    "    #Filter the chronos data so that it only includes the gene we are interested in \n",
    "    chronos.filtered = final.achilles.22q1 %>% select(sample, all_of(gene))\n",
    "    \n",
    "    #Filter the gene block data so that it only includes the gene we are interested in\n",
    "    gene.block.filtered = final.gene.block %>% select(sample, all_of(gene)) %>% rename(\"gene.symbol\" = 2)\n",
    "    \n",
    "    #For each gene in the loop, figure out which cell lines have the version of that gene for each ancestry group\n",
    "    afr.lines = gene.block.filtered %>% filter(gene.symbol %in% \"0\") %>% pull(sample)\n",
    "    non.afr.lines = gene.block.filtered %>% filter(!gene.symbol %in% \"0\") %>% pull(sample)\n",
    "    amr.lines = gene.block.filtered %>% filter(gene.symbol %in% \"1\") %>% pull(sample)\n",
    "    non.amr.lines = gene.block.filtered %>% filter(!gene.symbol %in% \"1\") %>% pull(sample)\n",
    "    eas.lines = gene.block.filtered %>% filter(gene.symbol %in% \"2\") %>% pull(sample)\n",
    "    non.eas.lines = gene.block.filtered %>% filter(!gene.symbol %in% \"2\") %>% pull(sample)\n",
    "    eur.lines = gene.block.filtered %>% filter(gene.symbol %in% \"3\") %>% pull(sample)\n",
    "    non.eur.lines = gene.block.filtered %>% filter(!gene.symbol %in% \"3\") %>% pull(sample)\n",
    "    sas.lines = gene.block.filtered %>% filter(gene.symbol %in% \"4\") %>% pull(sample)\n",
    "    non.sas.lines = gene.block.filtered %>% filter(!gene.symbol %in% \"4\") %>% pull(sample)\n",
    "    \n",
    "    \n",
    "    #Now get vectors of chronos scores for each ancestry group\n",
    "    afr.chronos = chronos.filtered %>% filter(sample %in% afr.lines) %>% pull(2)\n",
    "    non.afr.chronos = chronos.filtered %>% filter(sample %in% non.afr.lines) %>% pull(2)\n",
    "    \n",
    "    amr.chronos = chronos.filtered %>% filter(sample %in% amr.lines) %>% pull(2)\n",
    "    non.amr.chronos = chronos.filtered %>% filter(sample %in% non.amr.lines) %>% pull(2)\n",
    "    \n",
    "    eas.chronos = chronos.filtered %>% filter(sample %in% eas.lines) %>% pull(2)\n",
    "    non.eas.chronos = chronos.filtered %>% filter(sample %in% non.eas.lines) %>% pull(2)\n",
    "    \n",
    "    eur.chronos = chronos.filtered %>% filter(sample %in% eur.lines) %>% pull(2)\n",
    "    non.eur.chronos = chronos.filtered %>% filter(sample %in% non.eur.lines) %>% pull(2)\n",
    "    \n",
    "    sas.chronos = chronos.filtered %>% filter(sample %in% sas.lines) %>% pull(2)\n",
    "    non.sas.chronos = chronos.filtered %>% filter(sample %in% non.sas.lines) %>% pull(2)\n",
    "    \n",
    "    \n",
    "    #Assemble data frames for performing the linear regression\n",
    "    afr.df = c(afr.lines, non.afr.lines) %>%\n",
    "    data.frame() %>%\n",
    "    rename(\"sample\" = 1) %>%\n",
    "    mutate(\"ancestry_class\" = c(rep(0, length(afr.lines)), rep(1, length(non.afr.lines)))) %>%\n",
    "    mutate(\"chronos_score\" = c(afr.chronos, non.afr.chronos)) %>%\n",
    "    mutate(\"covariate\" = plyr::mapvalues(from = sample.annotation$sample, to = sample.annotation$primary_disease, sample, warn_missing = FALSE))\n",
    "    \n",
    "    amr.df = c(amr.lines, non.amr.lines) %>%\n",
    "    data.frame() %>%\n",
    "    rename(\"sample\" = 1) %>%\n",
    "    mutate(\"ancestry_class\" = c(rep(0, length(amr.lines)), rep(1, length(non.amr.lines)))) %>%\n",
    "    mutate(\"chronos_score\" = c(amr.chronos, non.amr.chronos)) %>%\n",
    "    mutate(\"covariate\" = plyr::mapvalues(from = sample.annotation$sample, to = sample.annotation$primary_disease, sample, warn_missing = FALSE))\n",
    "    \n",
    "    eas.df = c(eas.lines, non.eas.lines) %>%\n",
    "    data.frame() %>%\n",
    "    rename(\"sample\" = 1) %>%\n",
    "    mutate(\"ancestry_class\" = c(rep(0, length(eas.lines)), rep(1, length(non.eas.lines)))) %>%\n",
    "    mutate(\"chronos_score\" = c(eas.chronos, non.eas.chronos)) %>%\n",
    "    mutate(\"covariate\" = plyr::mapvalues(from = sample.annotation$sample, to = sample.annotation$primary_disease, sample, warn_missing = FALSE))\n",
    "    \n",
    "    eur.df = c(eur.lines, non.eur.lines) %>%\n",
    "    data.frame() %>%\n",
    "    rename(\"sample\" = 1) %>%\n",
    "    mutate(\"ancestry_class\" = c(rep(0, length(eur.lines)), rep(1, length(non.eur.lines)))) %>%\n",
    "    mutate(\"chronos_score\" = c(eur.chronos, non.eur.chronos)) %>%\n",
    "    mutate(\"covariate\" = plyr::mapvalues(from = sample.annotation$sample, to = sample.annotation$primary_disease, sample, warn_missing = FALSE))\n",
    "    \n",
    "    sas.df = c(sas.lines, non.sas.lines) %>%\n",
    "    data.frame() %>%\n",
    "    rename(\"sample\" = 1) %>%\n",
    "    mutate(\"ancestry_class\" = c(rep(0, length(sas.lines)), rep(1, length(non.sas.lines)))) %>%\n",
    "    mutate(\"chronos_score\" = c(sas.chronos, non.sas.chronos)) %>%\n",
    "    mutate(\"covariate\" = plyr::mapvalues(from = sample.annotation$sample, to = sample.annotation$primary_disease, sample, warn_missing = FALSE))\n",
    "    \n",
    "    \n",
    "    #Now calculate the p-values for each comparison (if there are more than three observations)\n",
    "    if(length(afr.chronos) >= 3 & length(non.afr.chronos) >= 3){\n",
    "        afr.pval = lm(chronos_score ~ ancestry_class + covariate, data = afr.df) %>% summary() %>% .[[4]] %>% .[2,4]\n",
    "    } else { afr.pval = 1 }\n",
    "    \n",
    "      if(length(amr.chronos) >= 3 & length(non.amr.chronos) >= 3){\n",
    "        amr.pval = lm(chronos_score ~ ancestry_class + covariate, data = amr.df) %>% summary() %>% .[[4]] %>% .[2,4] \n",
    "    } else { amr.pval = 1 }\n",
    "    \n",
    "      if(length(eas.chronos) >= 3 & length(non.eas.chronos) >= 3){\n",
    "        eas.pval = lm(chronos_score ~ ancestry_class + covariate, data = eas.df) %>% summary() %>% .[[4]] %>% .[2,4] \n",
    "    } else { eas.pval = 1 }\n",
    "    \n",
    "      if(length(eur.chronos) >= 3 & length(non.eur.chronos) >= 3){\n",
    "        eur.pval = lm(chronos_score ~ ancestry_class + covariate, data = eur.df) %>% summary() %>% .[[4]] %>% .[2,4] \n",
    "    } else { eur.pval = 1 }\n",
    "    \n",
    "      if(length(sas.chronos) >= 3 & length(non.sas.chronos) >= 3){\n",
    "        sas.pval = lm(chronos_score ~ ancestry_class + covariate, data = sas.df) %>% summary() %>% .[[4]] %>% .[2,4] \n",
    "    } else { sas.pval = 1 }\n",
    "    \n",
    "    \n",
    "    #Add the p-values to the vector outside of the loop\n",
    "    afr.pval.vector = c(afr.pval.vector, afr.pval)\n",
    "    amr.pval.vector = c(amr.pval.vector, amr.pval)\n",
    "    eas.pval.vector = c(eas.pval.vector, eas.pval)\n",
    "    eur.pval.vector = c(eur.pval.vector, eur.pval)\n",
    "    sas.pval.vector = c(sas.pval.vector, sas.pval)\n",
    "    \n",
    "    \n",
    "    #Calculate the differences in means\n",
    "    afr.dif = mean(afr.chronos) - mean(non.afr.chronos)\n",
    "    amr.dif = mean(amr.chronos) - mean(non.amr.chronos)\n",
    "    eas.dif = mean(eas.chronos) - mean(non.eas.chronos)\n",
    "    eur.dif = mean(eur.chronos) - mean(non.eur.chronos)\n",
    "    sas.dif = mean(sas.chronos) - mean(non.sas.chronos)\n",
    "    \n",
    "    #Add the mean differences to the vectors\n",
    "    afr.mean.dif = c(afr.mean.dif, afr.dif)\n",
    "    amr.mean.dif = c(amr.mean.dif, amr.dif)\n",
    "    eas.mean.dif = c(eas.mean.dif, eas.dif)\n",
    "    eur.mean.dif = c(eur.mean.dif, eur.dif)\n",
    "    sas.mean.dif = c(sas.mean.dif, sas.dif)\n",
    "}"
   ]
  },
  {
   "cell_type": "code",
   "execution_count": 10,
   "metadata": {
    "vscode": {
     "languageId": "r"
    }
   },
   "outputs": [],
   "source": [
    "#First, create datasets for each ancestry group, then cat them.\n",
    "afr.volcano.df = cbind(gene.names, afr.pval.vector, afr.mean.dif) %>%\n",
    "data.frame() %>%\n",
    "rename(\"gene\" = 1, \"pval\" = 2, \"difference\" = 3) %>%\n",
    "mutate(\"ancestry\" = \"AFR\")\n",
    "\n",
    "amr.volcano.df = cbind(gene.names, amr.pval.vector, amr.mean.dif) %>%\n",
    "data.frame() %>%\n",
    "rename(\"gene\" = 1, \"pval\" = 2, \"difference\" = 3) %>%\n",
    "mutate(\"ancestry\" = \"AMR\")\n",
    "\n",
    "eas.volcano.df = cbind(gene.names, eas.pval.vector, eas.mean.dif) %>%\n",
    "data.frame() %>%\n",
    "rename(\"gene\" = 1, \"pval\" = 2, \"difference\" = 3) %>%\n",
    "mutate(\"ancestry\" = \"EAS\")\n",
    "\n",
    "eur.volcano.df = cbind(gene.names, eur.pval.vector, eur.mean.dif) %>%\n",
    "data.frame() %>%\n",
    "rename(\"gene\" = 1, \"pval\" = 2, \"difference\" = 3) %>%\n",
    "mutate(\"ancestry\" = \"EUR\")\n",
    "\n",
    "sas.volcano.df = cbind(gene.names, sas.pval.vector, sas.mean.dif) %>%\n",
    "data.frame() %>%\n",
    "rename(\"gene\" = 1, \"pval\" = 2, \"difference\" = 3) %>%\n",
    "mutate(\"ancestry\" = \"SAS\")\n",
    "\n",
    "cat.volcano.df = rbind(afr.volcano.df, amr.volcano.df, eas.volcano.df, eur.volcano.df, sas.volcano.df) %>%\n",
    "mutate(pval = as.numeric(pval)) %>%\n",
    "mutate(difference = as.numeric(difference)) %>%\n",
    "mutate(FDR = p.adjust(pval, method = \"BH\", n = length(pval)))"
   ]
  },
  {
   "cell_type": "code",
   "execution_count": 11,
   "metadata": {
    "vscode": {
     "languageId": "r"
    }
   },
   "outputs": [],
   "source": [
    "#Write the dataset\n",
    "setwd(\"../output\")\n",
    "write.table(cat.volcano.df, \"supplemental_fig1_achilles_only_ancestry_pvals.txt\", sep = \"\\t\", col.names = TRUE, row.names = FALSE, quote = FALSE)"
   ]
  },
  {
   "cell_type": "code",
   "execution_count": 12,
   "metadata": {
    "vscode": {
     "languageId": "r"
    }
   },
   "outputs": [],
   "source": [
    "#Load in the lineage-corrected ancestry-associated p-value data frame\n",
    "setwd(\"../data\")\n",
    "lineage.corrected.pvals = read.table(\"lm_ancestry_associated_dependency_pvals.txt\", sep = \"\\t\", header = T)\n",
    "\n",
    "#Format the old lineage corrected p-values in a goofy way because of how I coded things before.\n",
    "gene.vector = c(lineage.corrected.pvals$gene, lineage.corrected.pvals$gene, lineage.corrected.pvals$gene, lineage.corrected.pvals$gene, lineage.corrected.pvals$gene)\n",
    "pval.vector = c(lineage.corrected.pvals$afr.lm.pval.vector, lineage.corrected.pvals$amr.lm.pval.vector, lineage.corrected.pvals$eas.lm.pval.vector, lineage.corrected.pvals$eur.lm.pval.vector, lineage.corrected.pvals$sas.lm.pval.vector)\n",
    "diff.vector = c(lineage.corrected.pvals$afr.mean.dif, lineage.corrected.pvals$amr.mean.dif, lineage.corrected.pvals$eas.mean.dif, lineage.corrected.pvals$eur.mean.dif, lineage.corrected.pvals$sas.mean.dif)\n",
    "fdr.vector = c(lineage.corrected.pvals$afr_fdr, lineage.corrected.pvals$amr_fdr, lineage.corrected.pvals$eas_fdr, lineage.corrected.pvals$eur_fdr, lineage.corrected.pvals$sas_fdr)\n",
    "ancestry.vector = c(rep(\"AFR\", times = length(gene.vector)/5), rep(\"AMR\", times = length(gene.vector)/5), rep(\"EAS\", times = length(gene.vector)/5), rep(\"EUR\", times = length(gene.vector)/5), rep(\"SAS\", times = length(gene.vector)/5))\n",
    "gene.ancestry.vector = paste(gene.vector, \"_\", ancestry.vector, sep = \"\")\n",
    "\n",
    "#Bind all of the vectors together\n",
    "combined.volcano.df = cbind(gene.vector, pval.vector, diff.vector, ancestry.vector, fdr.vector, gene.ancestry.vector) %>%\n",
    "data.frame() %>%\n",
    "rename(\"gene\" = 1, \"pval\" = 2, \"difference\" = 3, \"ancestry\" = 4, \"FDR\" = 5, \"gene_ancestry\" = 6) %>%\n",
    "mutate(pval = as.numeric(pval)) %>%\n",
    "mutate(difference = as.numeric(difference)) %>%\n",
    "mutate(FDR = as.numeric(FDR))"
   ]
  },
  {
   "cell_type": "code",
   "execution_count": 13,
   "metadata": {
    "vscode": {
     "languageId": "r"
    }
   },
   "outputs": [],
   "source": [
    "#Create a merged dataset\n",
    "merged.pval.matrix = cat.volcano.df %>%\n",
    "rename(\"achilles_gene\" = 1, \"achilles_pval\" = 2, \"achilles_difference\" = 3, \"achilles_ancestry\" = 4, \"achilles_fdr\" = 5) %>%\n",
    "mutate(gene_ancestry = paste(achilles_gene, achilles_ancestry, sep = \"_\")) %>%\n",
    "inner_join(combined.volcano.df, by = \"gene_ancestry\") %>%\n",
    "rename(\"merged_gene\" = 7, \"merged_pval\" = 8, \"merged_difference\" = 9, \"merged_ancestry\" = 10, \"merged_fdr\" = 11)"
   ]
  },
  {
   "cell_type": "code",
   "execution_count": 14,
   "metadata": {
    "vscode": {
     "languageId": "r"
    }
   },
   "outputs": [
    {
     "data": {
      "image/png": "[encoded data removed]",
      "text/plain": [
       "plot without title"
      ]
     },
     "metadata": {
      "image/png": {
       "height": 420,
       "width": 420
      }
     },
     "output_type": "display_data"
    }
   ],
   "source": [
    "#Correlate the p-values from the achilles only and the merged\n",
    "merged.pval.matrix %>%\n",
    "mutate(\"sig_color\" = ifelse(achilles_fdr < 0.05 & merged_fdr < 0.05, \"color\", \"no_color\")) %>%\n",
    "ggplot(aes(x = -log10(merged_fdr), y = -log10(achilles_fdr), color = sig_color)) +\n",
    "geom_point() +\n",
    "\n",
    "geom_hline(yintercept = 1.301, linetype = 2) +\n",
    "geom_vline(xintercept = 1.301, linetype = 2) +\n",
    "\n",
    "scale_color_manual(values = c(\"firebrick4\", \"black\")) +\n",
    "\n",
    "theme_bw() +\n",
    "\n",
    "theme(\n",
    "panel.grid.major = element_blank(),\n",
    "panel.grid.minor = element_blank(), \n",
    "axis.line = element_line(color = \"black\")\n",
    ") +\n",
    "\n",
    "theme(\n",
    "axis.title.x = element_text(size = 12),\n",
    "axis.title.y = element_text(size = 12)\n",
    ") +\n",
    "\n",
    "theme(\n",
    "axis.text=element_text(size = 12),\n",
    "axis.title=element_text(size = 12)\n",
    ") +\n",
    "\n",
    "\n",
    "ylab(\"Achilles ancestry association (fdr)\") +\n",
    "xlab(\"Merged ancestry association (fdr)\")\n",
    "\n",
    "\n",
    "#Export it to the google bucket\n",
    "setwd('../output')\n",
    "ggsave(\"supplemental_fig1.pdf\", width = 5, height = 4)"
   ]
  },
  {
   "cell_type": "code",
   "execution_count": 16,
   "metadata": {
    "vscode": {
     "languageId": "r"
    }
   },
   "outputs": [],
   "source": [
    "#Write the table for making the figure\n",
    "df_for_sf1 = merged.pval.matrix %>%\n",
    "mutate(\"sig_color\" = ifelse(achilles_fdr < 0.05 & merged_fdr < 0.05, \"color\", \"no_color\"))\n",
    "\n",
    "setwd(\"../output\")\n",
    "write.table(df_for_sf1, \"supplemental_figure1_data_table.txt\", sep = \"\\t\", col.names = TRUE, row.names = FALSE, quote = FALSE)"
   ]
  },
  {
   "cell_type": "code",
   "execution_count": 15,
   "metadata": {
    "vscode": {
     "languageId": "r"
    }
   },
   "outputs": [
    {
     "data": {
      "text/html": [
       "46"
      ],
      "text/latex": [
       "46"
      ],
      "text/markdown": [
       "46"
      ],
      "text/plain": [
       "[1] 46"
      ]
     },
     "metadata": {},
     "output_type": "display_data"
    },
    {
     "data": {
      "text/html": [
       "49"
      ],
      "text/latex": [
       "49"
      ],
      "text/markdown": [
       "49"
      ],
      "text/plain": [
       "[1] 49"
      ]
     },
     "metadata": {},
     "output_type": "display_data"
    },
    {
     "data": {
      "text/html": [
       "34"
      ],
      "text/latex": [
       "34"
      ],
      "text/markdown": [
       "34"
      ],
      "text/plain": [
       "[1] 34"
      ]
     },
     "metadata": {},
     "output_type": "display_data"
    }
   ],
   "source": [
    "#Calculate the total number of significant genes in each dataset\n",
    "merged.pval.matrix %>% filter(achilles_fdr < 0.05) %>% pull(achilles_gene) %>% unique() %>% length()\n",
    "merged.pval.matrix %>% filter(merged_fdr < 0.05) %>% pull(merged_gene) %>% unique() %>% length()\n",
    "merged.pval.matrix %>% filter(achilles_fdr < 0.05 & merged_fdr < 0.05) %>% pull(achilles_gene) %>% unique() %>% length()"
   ]
  }
 ],
 "metadata": {
  "kernelspec": {
   "display_name": "R",
   "language": "R",
   "name": "ir"
  },
  "language_info": {
   "codemirror_mode": "r",
   "file_extension": ".r",
   "mimetype": "text/x-r-source",
   "name": "R",
   "pygments_lexer": "r",
   "version": "4.3.2"
  }
 },
 "nbformat": 4,
 "nbformat_minor": 2
}
