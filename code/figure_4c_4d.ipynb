{
 "cells": [
  {
   "cell_type": "code",
   "execution_count": 1,
   "metadata": {
    "vscode": {
     "languageId": "r"
    }
   },
   "outputs": [
    {
     "name": "stderr",
     "output_type": "stream",
     "text": [
      "── \u001b[1mAttaching core tidyverse packages\u001b[22m ──────────────────────── tidyverse 2.0.0 ──\n",
      "\u001b[32m✔\u001b[39m \u001b[34mdplyr    \u001b[39m 1.1.4     \u001b[32m✔\u001b[39m \u001b[34mreadr    \u001b[39m 2.1.5\n",
      "\u001b[32m✔\u001b[39m \u001b[34mforcats  \u001b[39m 1.0.0     \u001b[32m✔\u001b[39m \u001b[34mstringr  \u001b[39m 1.5.1\n",
      "\u001b[32m✔\u001b[39m \u001b[34mggplot2  \u001b[39m 3.5.0     \u001b[32m✔\u001b[39m \u001b[34mtibble   \u001b[39m 3.2.1\n",
      "\u001b[32m✔\u001b[39m \u001b[34mlubridate\u001b[39m 1.9.3     \u001b[32m✔\u001b[39m \u001b[34mtidyr    \u001b[39m 1.3.1\n",
      "\u001b[32m✔\u001b[39m \u001b[34mpurrr    \u001b[39m 1.0.2     \n",
      "── \u001b[1mConflicts\u001b[22m ────────────────────────────────────────── tidyverse_conflicts() ──\n",
      "\u001b[31m✖\u001b[39m \u001b[34mdplyr\u001b[39m::\u001b[32mfilter()\u001b[39m masks \u001b[34mstats\u001b[39m::filter()\n",
      "\u001b[31m✖\u001b[39m \u001b[34mdplyr\u001b[39m::\u001b[32mlag()\u001b[39m    masks \u001b[34mstats\u001b[39m::lag()\n",
      "\u001b[36mℹ\u001b[39m Use the conflicted package (\u001b[3m\u001b[34m<http://conflicted.r-lib.org/>\u001b[39m\u001b[23m) to force all conflicts to become errors\n",
      "\n",
      "Attaching package: ‘reshape2’\n",
      "\n",
      "\n",
      "The following object is masked from ‘package:tidyr’:\n",
      "\n",
      "    smiths\n",
      "\n",
      "\n",
      "\n",
      "Attaching package: ‘data.table’\n",
      "\n",
      "\n",
      "The following objects are masked from ‘package:reshape2’:\n",
      "\n",
      "    dcast, melt\n",
      "\n",
      "\n",
      "The following objects are masked from ‘package:lubridate’:\n",
      "\n",
      "    hour, isoweek, mday, minute, month, quarter, second, wday, week,\n",
      "    yday, year\n",
      "\n",
      "\n",
      "The following objects are masked from ‘package:dplyr’:\n",
      "\n",
      "    between, first, last\n",
      "\n",
      "\n",
      "The following object is masked from ‘package:purrr’:\n",
      "\n",
      "    transpose\n",
      "\n",
      "\n"
     ]
    }
   ],
   "source": [
    "#Set up the environment\n",
    "library(tidyverse)\n",
    "library(reshape2)\n",
    "library(data.table)"
   ]
  },
  {
   "cell_type": "code",
   "execution_count": 25,
   "metadata": {
    "vscode": {
     "languageId": "r"
    }
   },
   "outputs": [],
   "source": [
    "#Load in the cosmic cancer gene census genes\n",
    "setwd(\"../data\")\n",
    "cosmic.genes = read.table(\"cosmic_genes.csv\", sep = \",\", header = T)\n",
    "\n",
    "cosmic.tier1 = cosmic.genes %>% \n",
    "filter(Tier %in% \"1\") %>%\n",
    "pull(Gene.Symbol)\n",
    "\n",
    "cosmic.tier1.for.heatmap = cosmic.genes %>%\n",
    "filter(Tier %in% \"1\") %>%\n",
    "filter(Role.in.Cancer %in% c(\"oncogene\", \"TSG\")) %>%\n",
    "pull(Gene.Symbol)"
   ]
  },
  {
   "cell_type": "code",
   "execution_count": 3,
   "metadata": {
    "vscode": {
     "languageId": "r"
    }
   },
   "outputs": [],
   "source": [
    "#Load in the gnomAD annotation file so that we know which sample belongs to each ancestry group\n",
    "setwd(\"../data\")\n",
    "sample.annotation = read.table(\"gnomad.genomes.v3.1.2.hgdp_1kg_subset_sample_meta.tsv.bgz\", sep = \"\\t\", header = T) %>%\n",
    "select(s, gnomad_population_inference) %>%\n",
    "mutate(gnomad_population_inference = gsub(\"\\\\..*pop\", \"\", gnomad_population_inference)) %>%\n",
    "mutate(gnomad_population_inference = gsub(\"prob..*\", \"\", gnomad_population_inference)) %>%\n",
    "mutate(gnomad_population_inference = gsub(\"..*:\", \"\", gnomad_population_inference)) %>%\n",
    "mutate(gnomad_population_inference = gsub(\",\", \"\", gnomad_population_inference)) %>%\n",
    "rename(\"sample\" = 1, \"ancestry\" = 2)"
   ]
  },
  {
   "cell_type": "code",
   "execution_count": 4,
   "metadata": {
    "vscode": {
     "languageId": "r"
    }
   },
   "outputs": [],
   "source": [
    "#Load in the avana SNP/guide matrix\n",
    "setwd(\"../data\")\n",
    "avana.matrix = fread(\"final_avana.txt\", sep = \"\\t\", header = T)"
   ]
  },
  {
   "cell_type": "code",
   "execution_count": 5,
   "metadata": {
    "vscode": {
     "languageId": "r"
    }
   },
   "outputs": [],
   "source": [
    "#Load in the guide-to-gene mapping file\n",
    "setwd(\"../data\")\n",
    "guide.to.gene = read.table(\"21q4_Achilles_guide_map.csv\", sep = \",\", header = T) %>%\n",
    "mutate(gene = word(gene, 1)) %>%\n",
    "select(sgrna, gene) %>%\n",
    "rename(\"seq\" = sgrna)"
   ]
  },
  {
   "cell_type": "code",
   "execution_count": 6,
   "metadata": {
    "vscode": {
     "languageId": "r"
    }
   },
   "outputs": [
    {
     "name": "stderr",
     "output_type": "stream",
     "text": [
      "Warning message in melt.data.table(.):\n",
      "“id.vars and measure.vars are internally guessed when both are 'NULL'. All non-numeric/integer/logical type columns are considered id.vars, which in this case are columns [seq, ...]. Consider providing at least one of 'id' or 'measure' vars in future.”\n",
      "\u001b[1m\u001b[22m`summarise()` has grouped output by 'seq'. You can override using the `.groups`\n",
      "argument.\n",
      "Warning message:\n",
      "“The dcast generic in data.table has been passed a grouped_df and will attempt to redirect to the relevant reshape2 method; please note that reshape2 is superseded and is no longer actively developed, and this redirection is now deprecated. Please do this redirection yourself like reshape2::dcast(.). In the next version, this warning will become an error.”\n"
     ]
    }
   ],
   "source": [
    "#Filter the SNP matrix so that it only includes the cosmic tier1 genes\n",
    "cosmic.tier1.matrix = avana.matrix %>% \n",
    "mutate(seq = plyr::mapvalues(from = guide.to.gene$seq, to = guide.to.gene$gene, seq, warn_missing = FALSE)) %>%\n",
    "select(-chr, -posL, -posR) %>%\n",
    "filter(seq %in% cosmic.tier1) %>%\n",
    "melt() %>%\n",
    "group_by(seq, variable) %>%\n",
    "summarise(sum(value)) %>%\n",
    "rename(\"value\" = 3) %>%\n",
    "dcast(formula = seq ~ variable, fill = \"value\")\n"
   ]
  },
  {
   "cell_type": "code",
   "execution_count": 7,
   "metadata": {
    "vscode": {
     "languageId": "r"
    }
   },
   "outputs": [],
   "source": [
    "#Now create a data frame that has the number of affected cosmic genes per individual\n",
    "affected.genes.per.person = cosmic.tier1.matrix %>%\n",
    "select(-seq) %>%\n",
    "apply(2, as.numeric) %>%\n",
    "apply(2, sum) %>%\n",
    "data.frame() %>%\n",
    "rename(\"num_genes\" = 1) %>%\n",
    "tibble::rownames_to_column(\"sample\") %>%\n",
    "inner_join(sample.annotation, by = \"sample\") %>%\n",
    "filter(ancestry != \"NA\") %>%\n",
    "mutate(ancestry = gsub(\"nfe\", \"Other\", ancestry)) %>%\n",
    "mutate(ancestry = gsub(\"amr\", \"Other\", ancestry)) %>%\n",
    "mutate(ancestry = gsub(\"sas\", \"Other\", ancestry)) %>%\n",
    "mutate(ancestry = gsub(\"oth\", \"Other\", ancestry)) %>%\n",
    "mutate(ancestry = gsub(\"eas\", \"Other\", ancestry)) %>%\n",
    "mutate(ancestry = gsub(\"afr\", \"African\", ancestry)) %>%\n",
    "mutate(ancestry = gsub(\"mid\", \"Other\", ancestry)) %>%\n",
    "mutate(ancestry = gsub(\"fin\", \"Other\", ancestry))"
   ]
  },
  {
   "cell_type": "code",
   "execution_count": 8,
   "metadata": {
    "vscode": {
     "languageId": "r"
    }
   },
   "outputs": [
    {
     "data": {
      "text/html": [
       "10"
      ],
      "text/latex": [
       "10"
      ],
      "text/markdown": [
       "10"
      ],
      "text/plain": [
       "[1] 10"
      ]
     },
     "metadata": {},
     "output_type": "display_data"
    },
    {
     "data": {
      "text/html": [
       "36"
      ],
      "text/latex": [
       "36"
      ],
      "text/markdown": [
       "36"
      ],
      "text/plain": [
       "[1] 36"
      ]
     },
     "metadata": {},
     "output_type": "display_data"
    },
    {
     "data": {
      "text/html": [
       "20"
      ],
      "text/latex": [
       "20"
      ],
      "text/markdown": [
       "20"
      ],
      "text/plain": [
       "[1] 20"
      ]
     },
     "metadata": {},
     "output_type": "display_data"
    }
   ],
   "source": [
    "#Calculate the minimum, maximum, and median number of affected genes per person\n",
    "min.num.genes = affected.genes.per.person %>%\n",
    "pull(num_genes) %>%\n",
    "min()\n",
    "\n",
    "max.num.genes = affected.genes.per.person %>%\n",
    "pull(num_genes) %>%\n",
    "max()\n",
    "\n",
    "median.num.genes = affected.genes.per.person %>%\n",
    "pull(num_genes) %>%\n",
    "median()\n",
    "\n",
    "min.num.genes\n",
    "max.num.genes\n",
    "median.num.genes"
   ]
  },
  {
   "cell_type": "code",
   "execution_count": 9,
   "metadata": {
    "vscode": {
     "languageId": "r"
    }
   },
   "outputs": [
    {
     "data": {
      "image/png": "[encoded data removed]",
      "text/plain": [
       "plot without title"
      ]
     },
     "metadata": {
      "image/png": {
       "height": 420,
       "width": 420
      }
     },
     "output_type": "display_data"
    }
   ],
   "source": [
    "#Now plot the plot!\n",
    "affected.genes.per.person %>%\n",
    "ggplot(aes(x = num_genes)) +\n",
    "geom_histogram(bins = 27, color = rgb(24, 69, 59, maxColorValue = 255), fill = rgb(24, 69, 59, maxColorValue = 255)) +\n",
    "theme_bw() +\n",
    "\n",
    "theme(\n",
    "panel.grid.major = element_blank(),\n",
    "panel.grid.minor = element_blank(), \n",
    "axis.line = element_line(color = \"black\")\n",
    ") +\n",
    "\n",
    "theme(\n",
    "axis.title.x = element_text(color = \"black\", size = 7),\n",
    "axis.title.y = element_text(color = \"black\", size = 7)\n",
    ") +\n",
    "\n",
    "theme(\n",
    "axis.text=element_text(size = 7),\n",
    "axis.title=element_text(size = 7)\n",
    ") +\n",
    "\n",
    "theme(\n",
    "legend.title = element_text(size = 7),\n",
    "legend.text = element_text(size = 7)\n",
    ") +\n",
    "\n",
    "scale_y_continuous(expand = c(0,0)) +\n",
    "scale_x_continuous(expand = c(0,0)) +\n",
    "\n",
    "ylab(\"Number of people\") +\n",
    "xlab(\"# COSMIC CGS genes with SNV\")\n",
    "\n",
    "\n",
    "setwd(\"../output\")\n",
    "ggsave(\"figure_4c.pdf\", width = 5, height = 3)"
   ]
  },
  {
   "cell_type": "code",
   "execution_count": 10,
   "metadata": {
    "vscode": {
     "languageId": "r"
    }
   },
   "outputs": [],
   "source": [
    "#Also export the dataframe that went into making figure 4c\n",
    "setwd(\"../output\")\n",
    "write.table(affected.genes.per.person, \"figure_4c_affected_genes_per_person.txt\", sep = \"\\t\", col.names = TRUE, row.names = FALSE, quote = FALSE)"
   ]
  },
  {
   "cell_type": "code",
   "execution_count": 11,
   "metadata": {
    "vscode": {
     "languageId": "r"
    }
   },
   "outputs": [],
   "source": [
    "#Get vectors for all of the samples that we want.\n",
    "set.seed(42)\n",
    "random.nfe.samples = sample.annotation %>% filter(ancestry %in% \"nfe\") %>% sample_n(25)\n",
    "random.fin.samples = sample.annotation %>% filter(ancestry %in% \"fin\") %>% sample_n(25)\n",
    "random.eas.samples = sample.annotation %>% filter(ancestry %in% \"eas\") %>% sample_n(25) \n",
    "random.amr.samples = sample.annotation %>% filter(ancestry %in% \"amr\") %>% sample_n(25)\n",
    "random.sas.samples = sample.annotation %>% filter(ancestry %in% \"sas\") %>% sample_n(25) \n",
    "random.mid.samples = sample.annotation %>% filter(ancestry %in% \"mid\") %>% sample_n(25)\n",
    "\n",
    "#bind all of the datasets together\n",
    "selected.samples = rbind(random.nfe.samples, random.fin.samples, random.eas.samples, random.amr.samples, random.sas.samples, random.mid.samples)"
   ]
  },
  {
   "cell_type": "code",
   "execution_count": 12,
   "metadata": {
    "vscode": {
     "languageId": "r"
    }
   },
   "outputs": [],
   "source": [
    "#Filter the genotyping data to only include the selected samples\n",
    "selected.cosmic.matrix = cosmic.tier1.matrix %>%\n",
    "rename_all(~gsub(\"\\\\.\", \"-\", .)) %>%\n",
    "select(seq, all_of(selected.samples$sample)) %>%\n",
    "mutate(across(-seq, ~ ifelse(. > 1, 1, .))) %>%\n",
    "rename(\"gene\" = seq)"
   ]
  },
  {
   "cell_type": "code",
   "execution_count": 13,
   "metadata": {
    "vscode": {
     "languageId": "r"
    }
   },
   "outputs": [
    {
     "name": "stderr",
     "output_type": "stream",
     "text": [
      "Warning message:\n",
      "“The melt generic in data.table has been passed a data.frame and will attempt to redirect to the relevant reshape2 method; please note that reshape2 is superseded and is no longer actively developed, and this redirection is now deprecated. To continue using melt methods from reshape2 while both libraries are attached, e.g. melt.list, you can prepend the namespace, i.e. reshape2::melt(.). In the next version, this warning will become an error.”\n"
     ]
    }
   ],
   "source": [
    "#Go through all of the cell lines and get a dataframe that has which genes are affected in each cell line\n",
    "affected.gene.list = selected.cosmic.matrix %>% \n",
    "melt(id = \"gene\") %>%\n",
    "filter(value %in% \"1\") %>%\n",
    "select(-value) %>%\n",
    "rename(\"sample\" = variable)"
   ]
  },
  {
   "cell_type": "code",
   "execution_count": 14,
   "metadata": {
    "vscode": {
     "languageId": "r"
    }
   },
   "outputs": [],
   "source": [
    "#Get a vector of all unique samples\n",
    "unique.samples = affected.gene.list %>%\n",
    "pull(sample) %>%\n",
    "unique() %>%\n",
    "as.character()"
   ]
  },
  {
   "cell_type": "code",
   "execution_count": 19,
   "metadata": {
    "vscode": {
     "languageId": "r"
    }
   },
   "outputs": [],
   "source": [
    "#Now loop through everything and compute an intersection matrix\n",
    "intersection.matrix = NULL\n",
    "for(line in unique.samples){\n",
    "    \n",
    "    affected.gene.v1 = affected.gene.list %>% filter(sample %in% line) %>% pull(gene) %>% unique()\n",
    "    \n",
    "    intersection.vector = NULL\n",
    "    for(i in 1:length(unique.samples)){\n",
    "        \n",
    "        #Extract a vector of affected genes\n",
    "        second.line.of.interest = unique.samples[i]\n",
    "        affected.gene.vi = affected.gene.list %>% filter(sample %in% second.line.of.interest) %>% pull(gene) %>% unique()\n",
    "        \n",
    "        #Calculate the intersection length\n",
    "        intersection.length = intersect(affected.gene.v1, affected.gene.vi) %>% length()\n",
    "        \n",
    "        #Export it outside of the loop\n",
    "        intersection.vector[i] = intersection.length    \n",
    "    }\n",
    "    \n",
    "    #Now export the final vector to outside of the loop and store it as a df\n",
    "    intersection.matrix = cbind(intersection.matrix, intersection.vector)\n",
    "    \n",
    "}\n",
    "\n",
    "#Rename the matrix\n",
    "colnames(intersection.matrix) = unique.samples\n",
    "intersection.matrix = intersection.matrix %>%\n",
    "data.frame() %>%\n",
    "mutate(\"sample\" = unique.samples, .before = 1)"
   ]
  },
  {
   "cell_type": "code",
   "execution_count": 20,
   "metadata": {
    "vscode": {
     "languageId": "r"
    }
   },
   "outputs": [],
   "source": [
    "#Randomly select samples\n",
    "set.seed(42)\n",
    "random.nfe.samples = sample.annotation %>% filter(ancestry %in% \"nfe\") %>% sample_n(5)\n",
    "random.fin.samples = sample.annotation %>% filter(ancestry %in% \"fin\") %>% sample_n(5)\n",
    "random.eas.samples = sample.annotation %>% filter(ancestry %in% \"eas\") %>% sample_n(5) \n",
    "random.amr.samples = sample.annotation %>% filter(ancestry %in% \"amr\") %>% sample_n(5)\n",
    "random.sas.samples = sample.annotation %>% filter(ancestry %in% \"sas\") %>% sample_n(5) \n",
    "random.mid.samples = sample.annotation %>% filter(ancestry %in% \"mid\") %>% sample_n(5)\n",
    "random.afr.samples = sample.annotation %>% filter(ancestry %in% \"afr\") %>% sample_n(5)\n",
    "\n",
    "#bind all of the datasets together\n",
    "selected.samples = rbind(random.nfe.samples, random.fin.samples, random.eas.samples, random.amr.samples, random.sas.samples, random.mid.samples, random.afr.samples)"
   ]
  },
  {
   "cell_type": "code",
   "execution_count": 26,
   "metadata": {
    "vscode": {
     "languageId": "r"
    }
   },
   "outputs": [],
   "source": [
    "#Filter the genotyping data to only include the selected samples\n",
    "selected.cosmic.matrix = cosmic.tier1.matrix %>%\n",
    "rename_all(~gsub(\"\\\\.\", \"-\", .)) %>%\n",
    "select(seq, all_of(selected.samples$sample)) %>%\n",
    "mutate(across(-seq, ~ ifelse(. > 1, 1, .))) %>%\n",
    "rename(\"gene\" = seq) %>%\n",
    "filter(gene %in% cosmic.tier1.for.heatmap)"
   ]
  },
  {
   "cell_type": "code",
   "execution_count": 27,
   "metadata": {
    "vscode": {
     "languageId": "r"
    }
   },
   "outputs": [
    {
     "name": "stderr",
     "output_type": "stream",
     "text": [
      "Warning message:\n",
      "“The melt generic in data.table has been passed a data.frame and will attempt to redirect to the relevant reshape2 method; please note that reshape2 is superseded and is no longer actively developed, and this redirection is now deprecated. To continue using melt methods from reshape2 while both libraries are attached, e.g. melt.list, you can prepend the namespace, i.e. reshape2::melt(.). In the next version, this warning will become an error.”\n",
      "Warning message:\n",
      "“The melt generic in data.table has been passed a data.frame and will attempt to redirect to the relevant reshape2 method; please note that reshape2 is superseded and is no longer actively developed, and this redirection is now deprecated. To continue using melt methods from reshape2 while both libraries are attached, e.g. melt.list, you can prepend the namespace, i.e. reshape2::melt(.). In the next version, this warning will become an error.”\n"
     ]
    }
   ],
   "source": [
    "#Calculate the row order\n",
    "factor.order.df = selected.cosmic.matrix %>%\n",
    "mutate_at(vars(-gene), as.numeric) %>%\n",
    "filter(rowSums(select(., -gene)) != 0) %>%\n",
    "melt(id = \"gene\") %>%\n",
    "rename(\"sample\" = variable) %>%\n",
    "mutate(\"ancestry\" = plyr::mapvalues(from = sample.annotation$sample, to = sample.annotation$ancestry, sample, warn_missing = FALSE)) %>%\n",
    "group_by(gene) %>%\n",
    "summarise(\"total_affected\" = sum(value)) %>%\n",
    "arrange(total_affected)\n",
    "\n",
    "#Calculate the total number of affected cells per ancestry group\n",
    "total.affected.cells.df = selected.cosmic.matrix %>%\n",
    "mutate_at(vars(-gene), as.numeric) %>%\n",
    "filter(rowSums(select(., -gene)) != 0) %>%\n",
    "melt(id = \"gene\") %>%\n",
    "rename(\"sample\" = variable) %>%\n",
    "mutate(\"ancestry\" = plyr::mapvalues(from = sample.annotation$sample, to = sample.annotation$ancestry, sample, warn_missing = FALSE)) %>%\n",
    "group_by(ancestry) %>%\n",
    "summarise(\"total_affected_cells\" = sum(value))"
   ]
  },
  {
   "cell_type": "code",
   "execution_count": 28,
   "metadata": {
    "vscode": {
     "languageId": "r"
    }
   },
   "outputs": [
    {
     "name": "stderr",
     "output_type": "stream",
     "text": [
      "Warning message:\n",
      "“The melt generic in data.table has been passed a data.frame and will attempt to redirect to the relevant reshape2 method; please note that reshape2 is superseded and is no longer actively developed, and this redirection is now deprecated. To continue using melt methods from reshape2 while both libraries are attached, e.g. melt.list, you can prepend the namespace, i.e. reshape2::melt(.). In the next version, this warning will become an error.”\n"
     ]
    },
    {
     "data": {
      "image/png": "[encoded data removed]",
      "text/plain": [
       "plot without title"
      ]
     },
     "metadata": {
      "image/png": {
       "height": 420,
       "width": 420
      }
     },
     "output_type": "display_data"
    }
   ],
   "source": [
    "#Create the heatmap\n",
    "selected.cosmic.matrix %>%\n",
    "mutate(gene = factor(gene, levels = factor.order.df$gene)) %>%\n",
    "mutate_at(vars(-gene), as.numeric) %>%\n",
    "filter(rowSums(select(., -gene)) != 0) %>%\n",
    "melt(id = \"gene\") %>%\n",
    "rename(\"sample\" = variable) %>%\n",
    "mutate(\"ancestry\" = plyr::mapvalues(from = sample.annotation$sample, to = sample.annotation$ancestry, sample, warn_missing = FALSE)) %>%\n",
    "mutate(value = as.character(value)) %>%\n",
    "ggplot(aes(x = sample, y = gene, fill = value)) +\n",
    "geom_tile() +\n",
    "facet_grid(1 ~ ancestry, scale = \"free\") +\n",
    "\n",
    "theme_bw() +\n",
    "\n",
    "theme(\n",
    "panel.grid.major = element_blank(),\n",
    "panel.grid.minor = element_blank(), \n",
    ") +\n",
    "\n",
    "theme(\n",
    "axis.title.x = element_text(size = 7),\n",
    "axis.title.y = element_text(size = 7)\n",
    ") +\n",
    "\n",
    "theme(\n",
    "axis.text = element_text(size = 7),\n",
    "axis.title = element_text(size = 7)\n",
    ") +\n",
    "\n",
    "theme(\n",
    "legend.title = element_text(size = 7),\n",
    "legend.text = element_text(size = 7)\n",
    ") +\n",
    "\n",
    "ylab(\"Gene\") +\n",
    "xlab(\"Sample\") +\n",
    "\n",
    "theme(\n",
    "axis.text.x = element_text(angle = 45, vjust = 0.5, hjust = 0.25)\n",
    ")\n",
    "\n",
    "\n",
    "#Export it to the google bucket\n",
    "setwd('../output')\n",
    "ggsave(\"figure_4d.pdf\", width = 6, height = 8)"
   ]
  },
  {
   "cell_type": "code",
   "execution_count": 29,
   "metadata": {
    "vscode": {
     "languageId": "r"
    }
   },
   "outputs": [
    {
     "name": "stderr",
     "output_type": "stream",
     "text": [
      "Warning message:\n",
      "“The melt generic in data.table has been passed a data.frame and will attempt to redirect to the relevant reshape2 method; please note that reshape2 is superseded and is no longer actively developed, and this redirection is now deprecated. To continue using melt methods from reshape2 while both libraries are attached, e.g. melt.list, you can prepend the namespace, i.e. reshape2::melt(.). In the next version, this warning will become an error.”\n"
     ]
    }
   ],
   "source": [
    "#Also export the dataframe used to make the figure\n",
    "fig_4d_df = selected.cosmic.matrix %>%\n",
    "mutate(gene = factor(gene, levels = factor.order.df$gene)) %>%\n",
    "mutate_at(vars(-gene), as.numeric) %>%\n",
    "filter(rowSums(select(., -gene)) != 0) %>%\n",
    "melt(id = \"gene\") %>%\n",
    "rename(\"sample\" = variable) %>%\n",
    "mutate(\"ancestry\" = plyr::mapvalues(from = sample.annotation$sample, to = sample.annotation$ancestry, sample, warn_missing = FALSE)) %>%\n",
    "mutate(value = as.character(value))\n",
    "\n",
    "setwd(\"../output\")\n",
    "write.table(fig_4d_df, \"figure_4d_cosmix_matrix.txt\", sep = \"\\t\", col.names = TRUE, row.names = FALSE, quote = FALSE)"
   ]
  }
 ],
 "metadata": {
  "kernelspec": {
   "display_name": "R",
   "language": "R",
   "name": "ir"
  },
  "language_info": {
   "codemirror_mode": "r",
   "file_extension": ".r",
   "mimetype": "text/x-r-source",
   "name": "R",
   "pygments_lexer": "r",
   "version": "4.3.3"
  }
 },
 "nbformat": 4,
 "nbformat_minor": 2
}
