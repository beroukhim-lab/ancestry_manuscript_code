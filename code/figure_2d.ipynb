{
 "cells": [
  {
   "cell_type": "code",
   "execution_count": 1,
   "metadata": {
    "vscode": {
     "languageId": "r"
    }
   },
   "outputs": [
    {
     "name": "stderr",
     "output_type": "stream",
     "text": [
      "── \u001b[1mAttaching core tidyverse packages\u001b[22m ──────────────────────── tidyverse 2.0.0 ──\n",
      "\u001b[32m✔\u001b[39m \u001b[34mdplyr    \u001b[39m 1.1.4     \u001b[32m✔\u001b[39m \u001b[34mreadr    \u001b[39m 2.1.5\n",
      "\u001b[32m✔\u001b[39m \u001b[34mforcats  \u001b[39m 1.0.0     \u001b[32m✔\u001b[39m \u001b[34mstringr  \u001b[39m 1.5.1\n",
      "\u001b[32m✔\u001b[39m \u001b[34mggplot2  \u001b[39m 3.5.0     \u001b[32m✔\u001b[39m \u001b[34mtibble   \u001b[39m 3.2.1\n",
      "\u001b[32m✔\u001b[39m \u001b[34mlubridate\u001b[39m 1.9.3     \u001b[32m✔\u001b[39m \u001b[34mtidyr    \u001b[39m 1.3.1\n",
      "\u001b[32m✔\u001b[39m \u001b[34mpurrr    \u001b[39m 1.0.2     \n",
      "── \u001b[1mConflicts\u001b[22m ────────────────────────────────────────── tidyverse_conflicts() ──\n",
      "\u001b[31m✖\u001b[39m \u001b[34mdplyr\u001b[39m::\u001b[32mfilter()\u001b[39m masks \u001b[34mstats\u001b[39m::filter()\n",
      "\u001b[31m✖\u001b[39m \u001b[34mdplyr\u001b[39m::\u001b[32mlag()\u001b[39m    masks \u001b[34mstats\u001b[39m::lag()\n",
      "\u001b[36mℹ\u001b[39m Use the conflicted package (\u001b[3m\u001b[34m<http://conflicted.r-lib.org/>\u001b[39m\u001b[23m) to force all conflicts to become errors\n"
     ]
    }
   ],
   "source": [
    "#Set up the environment\n",
    "library(reshape2)\n",
    "library(tidyverse)"
   ]
  },
  {
   "cell_type": "code",
   "execution_count": 2,
   "metadata": {
    "vscode": {
     "languageId": "r"
    }
   },
   "outputs": [],
   "source": [
    "#Make a vector of all of the ancestry-associated genes\n",
    "setwd(\"../data\")\n",
    "ancestry.associated.gene.vector = read.table(\"lm_ancestry_associated_dependency_pvals.txt\", sep = \"\\t\", header = TRUE) %>%\n",
    "filter(afr_fdr < 0.05 | amr_fdr < 0.05 | eas_fdr < 0.05 | eur_fdr < 0.05 | sas_fdr < 0.05) %>%\n",
    "pull(gene) %>%\n",
    "unique()"
   ]
  },
  {
   "cell_type": "code",
   "execution_count": 3,
   "metadata": {
    "vscode": {
     "languageId": "r"
    }
   },
   "outputs": [],
   "source": [
    "#Load in the top SNP data\n",
    "setwd(\"../data\")\n",
    "top.snp.df = read.table(\"ancestry_top_snp_df.txt\", sep = \"\\t\", header = TRUE)"
   ]
  },
  {
   "cell_type": "code",
   "execution_count": 11,
   "metadata": {
    "vscode": {
     "languageId": "r"
    }
   },
   "outputs": [],
   "source": [
    "#Load in the pre-correction chronos scores\n",
    "setwd(\"../data\")\n",
    "chronos.22q1 = read.table(\"22q1_crispr_gene_effect.csv\", sep = \",\", header = T, check.names = FALSE) %>%\n",
    "setNames(word(names(.), 1)) %>%\n",
    "rename(\"sample\" = 1)"
   ]
  },
  {
   "cell_type": "code",
   "execution_count": 8,
   "metadata": {
    "vscode": {
     "languageId": "r"
    }
   },
   "outputs": [],
   "source": [
    "#Load in the vcf sample names\n",
    "setwd(\"../data\")\n",
    "ccle.vcf.sample.names = read.table(\"ccle.vcf.sample.names.txt\", sep = \"\\t\") %>%\n",
    "pull(V1)\n",
    "\n",
    "\n",
    "#Load in the genotyping matrix and format it\n",
    "setwd(\"../data\")\n",
    "formatted.ancestry.snp.genotyping.matrix = read.table(\"ccle.ancestry.snps.vcf.gz\", sep = \"\\t\") %>%\n",
    "select(-V1, -V2, -V4, -V5, -V6, -V7, -V8, -V9) %>%\n",
    "rename(\"snp\" = V3) %>%\n",
    "filter(snp %in% top.snp.df$snp)\n",
    "\n",
    "\n",
    "#Do the final steps of formatting to adjust the genotype call format\n",
    "final.ancestry.snp.genotyping.matrix = formatted.ancestry.snp.genotyping.matrix %>%\n",
    "  select(-snp) %>%\n",
    "  mutate(across(everything(), ~gsub(\":..*\", \"\", .))) %>%\n",
    "  mutate(across(everything(), ~gsub(\"0\\\\|0\", \"0\", .))) %>%\n",
    "  mutate(across(everything(), ~gsub(\"0\\\\|1\", \"1\", .))) %>%\n",
    "  mutate(across(everything(), ~gsub(\"1\\\\|0\", \"1\", .))) %>%\n",
    "  mutate(across(everything(), ~gsub(\"1\\\\|1\", \"2\", .))) %>%\n",
    "  mutate(snp = formatted.ancestry.snp.genotyping.matrix$snp, .before = 1)\n",
    "\n",
    "\n",
    "\n",
    "#Set the column names\n",
    "colnames(final.ancestry.snp.genotyping.matrix) = c(\"snp\", ccle.vcf.sample.names)\n",
    "\n",
    "\n",
    "#Get a list of samples to keep that intersect between the genotyping matrix and the chronos matrix\n",
    "samples.to.keep = intersect(colnames(final.ancestry.snp.genotyping.matrix), chronos.22q1$sample)\n",
    "\n",
    "\n",
    "#Filter the dataset so that it only includes the samples that have chronos scores.\n",
    "final.ancestry.snp.genotyping.matrix = final.ancestry.snp.genotyping.matrix %>%\n",
    "select(snp, all_of(samples.to.keep))"
   ]
  },
  {
   "cell_type": "code",
   "execution_count": 12,
   "metadata": {
    "vscode": {
     "languageId": "r"
    }
   },
   "outputs": [
    {
     "name": "stderr",
     "output_type": "stream",
     "text": [
      "Using sample as id variables\n",
      "\n"
     ]
    }
   ],
   "source": [
    "#Load in the expression data\n",
    "setwd(\"../data\")\n",
    "ccle.expression.22q1 = read.table(\"22q1_expression.csv\", sep = \",\", header = T, check.names = FALSE) %>%\n",
    "setNames(word(names(.), 1)) %>%\n",
    "rename(\"sample\" = 1)\n",
    "\n",
    "\n",
    "#Filter the expression data so that it only includes ancestry-associated genes and melt it\n",
    "ancestry.only.expression.22q1 = ccle.expression.22q1 %>%\n",
    "select(sample, all_of(ancestry.associated.gene.vector)) %>%\n",
    "melt()"
   ]
  },
  {
   "cell_type": "code",
   "execution_count": 13,
   "metadata": {
    "vscode": {
     "languageId": "r"
    }
   },
   "outputs": [],
   "source": [
    "#Load in a dataset with the lineage information for each cell line\n",
    "setwd('../data')\n",
    "sample.annotation = read.table('depmap_cell_lineage.csv', sep = \",\", header = T) %>%\n",
    "rename(\"sample\" = 1)"
   ]
  },
  {
   "cell_type": "code",
   "execution_count": 14,
   "metadata": {
    "vscode": {
     "languageId": "r"
    }
   },
   "outputs": [],
   "source": [
    "#For each SNP:Gene pair, compute if that SNP is associated with expression of the chronos gene in question\n",
    "eqtl.association.pval = NULL\n",
    "eqtl.association.differential.expression = NULL\n",
    "for(i in 1:nrow(top.snp.df)){\n",
    "    \n",
    "    #Store the snp and gene for this iteration of a loop as a new variable\n",
    "    gene.of.interest = top.snp.df[i, 1]\n",
    "    snp.of.interest = top.snp.df[i, 2]\n",
    "    \n",
    "    \n",
    "    #Calculate the intersection between all of the samples with expression profiles and all of the genotyped samples\n",
    "    all.genotyped.samples = final.ancestry.snp.genotyping.matrix %>% melt(id = \"snp\") %>% pull(variable) %>% unique()\n",
    "    all.samples.with.expression = ancestry.only.expression.22q1 %>% pull(sample) %>% unique()\n",
    "    all.intersecting.samples = intersect(all.genotyped.samples, all.samples.with.expression)\n",
    "    \n",
    "    \n",
    "    #Get a vector of cell lines that have the snp or don't have the snp\n",
    "    lines.with.snp = final.ancestry.snp.genotyping.matrix %>%\n",
    "    melt(id = \"snp\") %>%\n",
    "    filter(variable %in% all_of(all.intersecting.samples)) %>%\n",
    "    filter(snp %in% all_of(snp.of.interest)) %>%\n",
    "    mutate(value = as.numeric(value)) %>%\n",
    "    filter(value >= 1) %>%\n",
    "    pull(variable)\n",
    "    \n",
    "    lines.without.snp = final.ancestry.snp.genotyping.matrix %>%\n",
    "    melt(id = \"snp\") %>%\n",
    "    filter(variable %in% all_of(all.intersecting.samples)) %>%\n",
    "    filter(snp %in% all_of(snp.of.interest)) %>%\n",
    "    mutate(value = as.numeric(value)) %>%\n",
    "    filter(value %in% 0) %>%\n",
    "    pull(variable)\n",
    "    \n",
    "    \n",
    "    #Filter the expression data and get a vector of expression values for lines with and without the SNP\n",
    "    with.snp.expression = ancestry.only.expression.22q1 %>%\n",
    "    filter(sample %in% all.intersecting.samples) %>%\n",
    "    filter(sample %in% all_of(lines.with.snp)) %>%\n",
    "    filter(variable %in% all_of(gene.of.interest)) %>%\n",
    "    pull(value) %>%\n",
    "    as.numeric()\n",
    "    \n",
    "    without.snp.expression = ancestry.only.expression.22q1 %>%\n",
    "    filter(sample %in% all.intersecting.samples) %>%\n",
    "    filter(sample %in% all_of(lines.without.snp)) %>%\n",
    "    filter(variable %in% all_of(gene.of.interest)) %>%\n",
    "    pull(value) %>%\n",
    "    as.numeric()\n",
    "    \n",
    "    \n",
    "    #Construct a single data frame that will be used for computing the p-value\n",
    "    cat.expression.vector = c(with.snp.expression, without.snp.expression)\n",
    "    cat.snp.status.vector = c(rep(0, length(with.snp.expression)), rep(1, length(without.snp.expression)))\n",
    "    cat.cell.line.name.vector = c(lines.with.snp, lines.without.snp) %>% as.character()\n",
    "    \n",
    "    \n",
    "    df.for.computing.pval = cbind(cat.expression.vector, cat.snp.status.vector) %>%\n",
    "    cbind(cat.cell.line.name.vector) %>%\n",
    "    data.frame() %>%\n",
    "    rename(\"expression\" = 1, \"snp_status\" = 2, \"sample\" = 3) %>%\n",
    "    mutate(expression = as.numeric(expression)) %>%\n",
    "    mutate(\"subtype\" = plyr::mapvalues(from = sample.annotation$sample, to = sample.annotation$primary_disease, sample, warn_missing = FALSE)) \n",
    "    \n",
    "    \n",
    "    #Compute the p-value\n",
    "    if(length(lines.with.snp) >= 3 & length(lines.without.snp) >= 3) {\n",
    "    pval = lm(expression ~ snp_status + subtype, data = df.for.computing.pval) %>% summary() %>% .[[4]] %>% .[2,4] } else {\n",
    "    pval = 1\n",
    "    }\n",
    "    \n",
    "    #Calculate the differential between the two classes\n",
    "    if(length(lines.with.snp) >= 3 & length(lines.without.snp) >= 3) {\n",
    "    differential.expression = mean(with.snp.expression) - mean(without.snp.expression) } else {\n",
    "    differential.expression = 0\n",
    "    }\n",
    "    \n",
    "    \n",
    "    #Return the data outside the loop\n",
    "    eqtl.association.pval[i] = pval\n",
    "    eqtl.association.differential.expression[i] = differential.expression\n",
    "}"
   ]
  },
  {
   "cell_type": "code",
   "execution_count": 15,
   "metadata": {
    "vscode": {
     "languageId": "r"
    }
   },
   "outputs": [],
   "source": [
    "#Load in the top SNP data\n",
    "setwd(\"../data\")\n",
    "top.snp.df = read.table(\"ancestry_top_snp_df.txt\", sep = \"\\t\", header = TRUE)\n",
    "\n",
    "#Get a vector of significant genes\n",
    "dqtl.significant.genes = top.snp.df %>% filter(fdr <= 0.05) %>% pull(gene) %>% unique()"
   ]
  },
  {
   "cell_type": "code",
   "execution_count": 16,
   "metadata": {
    "vscode": {
     "languageId": "r"
    }
   },
   "outputs": [
    {
     "data": {
      "image/png": "[encoded data removed]",
      "text/plain": [
       "plot without title"
      ]
     },
     "metadata": {
      "image/png": {
       "height": 420,
       "width": 420
      }
     },
     "output_type": "display_data"
    }
   ],
   "source": [
    "#Plot the plot!\n",
    "cbind(eqtl.association.pval, eqtl.association.differential.expression, top.snp.df$gene) %>%\n",
    "data.frame() %>%\n",
    "rename(\"pval\" = 1, \"diff_exp\" = 2, \"gene\" = 3) %>%\n",
    "mutate(pval = as.numeric(pval)) %>%\n",
    "mutate(diff_exp = as.numeric(diff_exp)) %>%\n",
    "mutate(\"fdr\" = p.adjust(pval, method = \"BY\", n = length(pval))) %>%\n",
    "mutate(\"abs_diff_exp\" = abs(diff_exp)) %>%\n",
    "mutate(\"sig_flag\" = ifelse(fdr < 0.05, \"sig\", \"not_sig\")) %>%\n",
    "filter(gene %in% all_of(dqtl.significant.genes)) %>%\n",
    "filter(!gene %in% \"CDKN2B\") %>%\n",
    "ggplot(aes(x = abs_diff_exp, y = -log10(fdr), color = sig_flag)) +\n",
    "geom_point() +\n",
    "\n",
    "geom_hline(yintercept = 1.302, linetype = 2) +\n",
    "\n",
    "scale_color_manual(values = c(\"black\", \"blue\")) +\n",
    "\n",
    "theme_bw() +\n",
    "\n",
    "theme(\n",
    "panel.grid.major = element_blank(),\n",
    "panel.grid.minor = element_blank(), \n",
    ") +\n",
    "\n",
    "theme(\n",
    "axis.title.x = element_text(color = \"black\", size = 7),\n",
    "axis.title.y = element_text(color = \"black\", size = 7)\n",
    ") +\n",
    "\n",
    "theme(\n",
    "axis.text = element_text(size = 7),\n",
    "axis.title = element_text(size = 7)\n",
    ") +\n",
    "\n",
    "theme(\n",
    "legend.title = element_text(size = 7),\n",
    "legend.text = element_text(size = 7)\n",
    ") +\n",
    "\n",
    "ylab(\"False Discovery Rate\") +\n",
    "xlab(\"Differential expression\")\n",
    "\n",
    "#Export it to the google bucket\n",
    "setwd('../output')\n",
    "ggsave(\"figure_2d.pdf\", width = 4, height = 2)"
   ]
  },
  {
   "cell_type": "code",
   "execution_count": 17,
   "metadata": {
    "vscode": {
     "languageId": "r"
    }
   },
   "outputs": [
    {
     "data": {
      "text/html": [
       "<table class=\"dataframe\">\n",
       "<caption>A data.frame: 6 × 6</caption>\n",
       "<thead>\n",
       "\t<tr><th></th><th scope=col>pval</th><th scope=col>diff_exp</th><th scope=col>gene</th><th scope=col>fdr</th><th scope=col>abs_diff_exp</th><th scope=col>sig_flag</th></tr>\n",
       "\t<tr><th></th><th scope=col>&lt;dbl&gt;</th><th scope=col>&lt;dbl&gt;</th><th scope=col>&lt;chr&gt;</th><th scope=col>&lt;dbl&gt;</th><th scope=col>&lt;dbl&gt;</th><th scope=col>&lt;chr&gt;</th></tr>\n",
       "</thead>\n",
       "<tbody>\n",
       "\t<tr><th scope=row>1</th><td>1.020030e-34</td><td>-1.9509119</td><td>CDKN2B</td><td>1.119386e-32</td><td>1.9509119</td><td>sig    </td></tr>\n",
       "\t<tr><th scope=row>2</th><td>2.173588e-10</td><td>-0.5907660</td><td>IFNE  </td><td>1.192654e-08</td><td>0.5907660</td><td>sig    </td></tr>\n",
       "\t<tr><th scope=row>3</th><td>9.955677e-04</td><td> 0.3520314</td><td>DMRTA1</td><td>3.641804e-02</td><td>0.3520314</td><td>sig    </td></tr>\n",
       "\t<tr><th scope=row>4</th><td>1.631689e-03</td><td> 0.2930920</td><td>CLSPN </td><td>4.830639e-02</td><td>0.2930920</td><td>sig    </td></tr>\n",
       "\t<tr><th scope=row>5</th><td>1.760749e-03</td><td>-0.4144608</td><td>ELAVL2</td><td>4.830639e-02</td><td>0.4144608</td><td>sig    </td></tr>\n",
       "\t<tr><th scope=row>6</th><td>2.888061e-03</td><td>-0.1768031</td><td>RHD   </td><td>7.043053e-02</td><td>0.1768031</td><td>not_sig</td></tr>\n",
       "</tbody>\n",
       "</table>\n"
      ],
      "text/latex": [
       "A data.frame: 6 × 6\n",
       "\\begin{tabular}{r|llllll}\n",
       "  & pval & diff\\_exp & gene & fdr & abs\\_diff\\_exp & sig\\_flag\\\\\n",
       "  & <dbl> & <dbl> & <chr> & <dbl> & <dbl> & <chr>\\\\\n",
       "\\hline\n",
       "\t1 & 1.020030e-34 & -1.9509119 & CDKN2B & 1.119386e-32 & 1.9509119 & sig    \\\\\n",
       "\t2 & 2.173588e-10 & -0.5907660 & IFNE   & 1.192654e-08 & 0.5907660 & sig    \\\\\n",
       "\t3 & 9.955677e-04 &  0.3520314 & DMRTA1 & 3.641804e-02 & 0.3520314 & sig    \\\\\n",
       "\t4 & 1.631689e-03 &  0.2930920 & CLSPN  & 4.830639e-02 & 0.2930920 & sig    \\\\\n",
       "\t5 & 1.760749e-03 & -0.4144608 & ELAVL2 & 4.830639e-02 & 0.4144608 & sig    \\\\\n",
       "\t6 & 2.888061e-03 & -0.1768031 & RHD    & 7.043053e-02 & 0.1768031 & not\\_sig\\\\\n",
       "\\end{tabular}\n"
      ],
      "text/markdown": [
       "\n",
       "A data.frame: 6 × 6\n",
       "\n",
       "| <!--/--> | pval &lt;dbl&gt; | diff_exp &lt;dbl&gt; | gene &lt;chr&gt; | fdr &lt;dbl&gt; | abs_diff_exp &lt;dbl&gt; | sig_flag &lt;chr&gt; |\n",
       "|---|---|---|---|---|---|---|\n",
       "| 1 | 1.020030e-34 | -1.9509119 | CDKN2B | 1.119386e-32 | 1.9509119 | sig     |\n",
       "| 2 | 2.173588e-10 | -0.5907660 | IFNE   | 1.192654e-08 | 0.5907660 | sig     |\n",
       "| 3 | 9.955677e-04 |  0.3520314 | DMRTA1 | 3.641804e-02 | 0.3520314 | sig     |\n",
       "| 4 | 1.631689e-03 |  0.2930920 | CLSPN  | 4.830639e-02 | 0.2930920 | sig     |\n",
       "| 5 | 1.760749e-03 | -0.4144608 | ELAVL2 | 4.830639e-02 | 0.4144608 | sig     |\n",
       "| 6 | 2.888061e-03 | -0.1768031 | RHD    | 7.043053e-02 | 0.1768031 | not_sig |\n",
       "\n"
      ],
      "text/plain": [
       "  pval         diff_exp   gene   fdr          abs_diff_exp sig_flag\n",
       "1 1.020030e-34 -1.9509119 CDKN2B 1.119386e-32 1.9509119    sig     \n",
       "2 2.173588e-10 -0.5907660 IFNE   1.192654e-08 0.5907660    sig     \n",
       "3 9.955677e-04  0.3520314 DMRTA1 3.641804e-02 0.3520314    sig     \n",
       "4 1.631689e-03  0.2930920 CLSPN  4.830639e-02 0.2930920    sig     \n",
       "5 1.760749e-03 -0.4144608 ELAVL2 4.830639e-02 0.4144608    sig     \n",
       "6 2.888061e-03 -0.1768031 RHD    7.043053e-02 0.1768031    not_sig "
      ]
     },
     "metadata": {},
     "output_type": "display_data"
    }
   ],
   "source": [
    "#Calculate the total number of significant variants so that we can annotate the figure with this information\n",
    "cbind(eqtl.association.pval, eqtl.association.differential.expression, top.snp.df$gene) %>%\n",
    "data.frame() %>%\n",
    "rename(\"pval\" = 1, \"diff_exp\" = 2, \"gene\" = 3) %>%\n",
    "mutate(pval = as.numeric(pval)) %>%\n",
    "mutate(diff_exp = as.numeric(diff_exp)) %>%\n",
    "mutate(\"fdr\" = p.adjust(pval, method = \"BY\", n = length(pval))) %>%\n",
    "mutate(\"abs_diff_exp\" = abs(diff_exp)) %>%\n",
    "mutate(\"sig_flag\" = ifelse(fdr < 0.05, \"sig\", \"not_sig\")) %>%\n",
    "filter(gene %in% all_of(dqtl.significant.genes)) %>%\n",
    "arrange(fdr) %>%\n",
    "head()"
   ]
  },
  {
   "cell_type": "code",
   "execution_count": 18,
   "metadata": {
    "vscode": {
     "languageId": "r"
    }
   },
   "outputs": [],
   "source": [
    "#Get the names of the most significant genes\n",
    "eqtl.summary.df = cbind(eqtl.association.pval, eqtl.association.differential.expression, top.snp.df$gene, top.snp.df$snp) %>%\n",
    "data.frame() %>%\n",
    "rename(\"eqtl_pval\" = 1, \"eqtl_diff_exp\" = 2, \"gene\" = 3, \"snp\" = 4) %>%\n",
    "mutate(eqtl_pval = as.numeric(eqtl_pval)) %>%\n",
    "mutate(eqtl_diff_exp = as.numeric(eqtl_diff_exp)) %>%\n",
    "mutate(\"eqtl_fdr\" = p.adjust(eqtl_pval, method = \"BY\", n = length(eqtl_pval))) %>%\n",
    "mutate(\"abs_diff_exp\" = abs(eqtl_diff_exp)) %>%\n",
    "mutate(\"sig_flag\" = ifelse(eqtl_fdr < 0.05, \"sig\", \"not_sig\")) %>%\n",
    "arrange(eqtl_fdr)\n",
    "\n",
    "setwd('../output')\n",
    "write.table(eqtl.summary.df, \"figure_2d_eqtl_summary_df.txt\", sep = \"\\t\", col.names = TRUE, row.names = FALSE, quote = FALSE)"
   ]
  },
  {
   "cell_type": "code",
   "execution_count": 19,
   "metadata": {
    "vscode": {
     "languageId": "r"
    }
   },
   "outputs": [
    {
     "data": {
      "text/html": [
       "<table class=\"dataframe\">\n",
       "<caption>A tibble: 2 × 2</caption>\n",
       "<thead>\n",
       "\t<tr><th scope=col>sig_flag</th><th scope=col>num_of_genes</th></tr>\n",
       "\t<tr><th scope=col>&lt;chr&gt;</th><th scope=col>&lt;int&gt;</th></tr>\n",
       "</thead>\n",
       "<tbody>\n",
       "\t<tr><td>not_sig</td><td>41</td></tr>\n",
       "\t<tr><td>sig    </td><td> 8</td></tr>\n",
       "</tbody>\n",
       "</table>\n"
      ],
      "text/latex": [
       "A tibble: 2 × 2\n",
       "\\begin{tabular}{ll}\n",
       " sig\\_flag & num\\_of\\_genes\\\\\n",
       " <chr> & <int>\\\\\n",
       "\\hline\n",
       "\t not\\_sig & 41\\\\\n",
       "\t sig     &  8\\\\\n",
       "\\end{tabular}\n"
      ],
      "text/markdown": [
       "\n",
       "A tibble: 2 × 2\n",
       "\n",
       "| sig_flag &lt;chr&gt; | num_of_genes &lt;int&gt; |\n",
       "|---|---|\n",
       "| not_sig | 41 |\n",
       "| sig     |  8 |\n",
       "\n"
      ],
      "text/plain": [
       "  sig_flag num_of_genes\n",
       "1 not_sig  41          \n",
       "2 sig       8          "
      ]
     },
     "metadata": {},
     "output_type": "display_data"
    }
   ],
   "source": [
    "#Calculate the number of significant and non-significant genes\n",
    "cbind(eqtl.association.pval, eqtl.association.differential.expression, top.snp.df$gene) %>%\n",
    "data.frame() %>%\n",
    "rename(\"pval\" = 1, \"diff_exp\" = 2, \"gene\" = 3) %>%\n",
    "mutate(pval = as.numeric(pval)) %>%\n",
    "mutate(diff_exp = as.numeric(diff_exp)) %>%\n",
    "mutate(\"fdr\" = p.adjust(pval, method = \"BY\", n = length(pval))) %>%\n",
    "mutate(\"abs_diff_exp\" = abs(diff_exp)) %>%\n",
    "mutate(\"sig_flag\" = ifelse(fdr < 0.05, \"sig\", \"not_sig\")) %>%\n",
    "group_by(sig_flag) %>%\n",
    "summarise(\"num_of_genes\" = n())"
   ]
  },
  {
   "cell_type": "code",
   "execution_count": 20,
   "metadata": {
    "vscode": {
     "languageId": "r"
    }
   },
   "outputs": [
    {
     "name": "stdout",
     "output_type": "stream",
     "text": [
      "[1] \"there are 30 genes with a tpm less than 5 out of a total of 49 genes\"\n"
     ]
    }
   ],
   "source": [
    "#Calculate the median expression for each gene\n",
    "expression.per.gene = ancestry.only.expression.22q1 %>% \n",
    "group_by(variable) %>%\n",
    "summarise(\"median_expression\" = median(value)) %>%\n",
    "mutate(\"unlogged_expression\" = 2^median_expression - 1) %>%\n",
    "rename(\"gene\" = 1)\n",
    "\n",
    "#Calculate the number of genes with tpm < 5\n",
    "less.than.5.tpm = expression.per.gene %>%\n",
    "filter(unlogged_expression < 5) %>%\n",
    "pull(gene) %>%\n",
    "unique() %>%\n",
    "length()\n",
    "\n",
    "#Total genes in the analysis\n",
    "total.genes.in.analysis = expression.per.gene %>%\n",
    "pull(gene) %>%\n",
    "unique() %>%\n",
    "length()\n",
    "\n",
    "print(paste(\"there are\", less.than.5.tpm, \"genes with a tpm less than 5 out of a total of\", total.genes.in.analysis, \"genes\"))"
   ]
  }
 ],
 "metadata": {
  "kernelspec": {
   "display_name": "R",
   "language": "R",
   "name": "ir"
  },
  "language_info": {
   "codemirror_mode": "r",
   "file_extension": ".r",
   "mimetype": "text/x-r-source",
   "name": "R",
   "pygments_lexer": "r",
   "version": "4.3.3"
  }
 },
 "nbformat": 4,
 "nbformat_minor": 2
}
