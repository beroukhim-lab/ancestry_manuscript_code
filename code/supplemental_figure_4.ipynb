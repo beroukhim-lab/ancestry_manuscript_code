{
 "cells": [
  {
   "cell_type": "code",
   "execution_count": 16,
   "metadata": {
    "vscode": {
     "languageId": "r"
    }
   },
   "outputs": [],
   "source": [
    "#Set up the environment\n",
    "library(tidyverse)\n",
    "library(reshape2)\n",
    "library(data.table)"
   ]
  },
  {
   "cell_type": "code",
   "execution_count": 17,
   "metadata": {
    "vscode": {
     "languageId": "r"
    }
   },
   "outputs": [],
   "source": [
    "#Read the file back in\n",
    "setwd(\"../data\")\n",
    "final.df = read.table(\"snv_position_single_guide_finaldf.txt\", sep = \"\\t\", header = T) %>%\n",
    "mutate(position = factor(position, levels = 0:22))"
   ]
  },
  {
   "cell_type": "code",
   "execution_count": 18,
   "metadata": {
    "vscode": {
     "languageId": "r"
    }
   },
   "outputs": [],
   "source": [
    "#Load in the guide -> gene map and convert final.df so that it also has the gene symbol\n",
    "setwd(\"../data\")\n",
    "guide.map = read.table(\"22q1_Achilles_guide_map.csv\", sep = \",\", check.names = FALSE, header = T) %>%\n",
    "mutate(gene = word(gene, 1))\n",
    "\n",
    "#Add the gene column to final.df\n",
    "final.df.gene = final.df %>%\n",
    "mutate(\"gene\" = plyr::mapvalues(from = guide.map$sgrna, to = guide.map$gene, sgrna, warn_missing = FALSE))"
   ]
  },
  {
   "cell_type": "code",
   "execution_count": 22,
   "metadata": {
    "vscode": {
     "languageId": "r"
    }
   },
   "outputs": [
    {
     "name": "stderr",
     "output_type": "stream",
     "text": [
      "Warning message:\n",
      "“The melt generic in data.table has been passed a data.frame and will attempt to redirect to the relevant reshape2 method; please note that reshape2 is superseded and is no longer actively developed, and this redirection is now deprecated. To continue using melt methods from reshape2 while both libraries are attached, e.g. melt.list, you can prepend the namespace, i.e. reshape2::melt(.). In the next version, this warning will become an error.”\n"
     ]
    }
   ],
   "source": [
    "#Load in the genotyping data\n",
    "#First, load in the ccle variants and format the dataset so that it looks nice\n",
    "setwd(\"../data\")\n",
    "ccle.variant.calls = read.table(\"snps.in.all.avana.guides.vcf.gz\", sep = \"\\t\") %>%\n",
    "filter(V7 %in% \"PASS\") %>%\n",
    "select(-V1, -V2, -V4, -V5, -V6, -V7, -V8, -V9)\n",
    "\n",
    "#Reformat the genotyping data\n",
    "ccle.variant.calls[2:ncol(ccle.variant.calls)] = apply(ccle.variant.calls[2:ncol(ccle.variant.calls)], 2, function(x){gsub(\":..*\", \"\", x) })\n",
    "ccle.variant.calls[2:ncol(ccle.variant.calls)] = apply(ccle.variant.calls[2:ncol(ccle.variant.calls)], 2, function(x){gsub(\"0\\\\|0\", 0, x) })\n",
    "ccle.variant.calls[2:ncol(ccle.variant.calls)] = apply(ccle.variant.calls[2:ncol(ccle.variant.calls)], 2, function(x){gsub(\"0\\\\|1\", 1, x) })\n",
    "ccle.variant.calls[2:ncol(ccle.variant.calls)] = apply(ccle.variant.calls[2:ncol(ccle.variant.calls)], 2, function(x){gsub(\"1\\\\|0\", 1, x) })\n",
    "ccle.variant.calls[2:ncol(ccle.variant.calls)] = apply(ccle.variant.calls[2:ncol(ccle.variant.calls)], 2, function(x){gsub(\"1\\\\|1\", 2, x) })\n",
    "\n",
    "#Load in the sample names\n",
    "setwd(\"../data\")\n",
    "sample.names = read.table(\"ccle.vcf.sample.names.txt\", sep = \"\\t\") %>%\n",
    "pull(1)\n",
    "\n",
    "#Assign the sample names\n",
    "ccle.variant.calls = ccle.variant.calls\n",
    "colnames(ccle.variant.calls) = c(\"snp\", sample.names)\n",
    "\n",
    "#Melt the data frame\n",
    "melted.ccle.variant.calls = ccle.variant.calls %>%\n",
    "melt(id = \"snp\")"
   ]
  },
  {
   "cell_type": "code",
   "execution_count": 25,
   "metadata": {
    "vscode": {
     "languageId": "r"
    }
   },
   "outputs": [],
   "source": [
    "#Load in the 22q1 chronos scores\n",
    "setwd(\"../data\")\n",
    "chronos.22q1 = fread(\"22q1_CRISPR_gene_effect.csv\", sep = \",\", header = T, check.names = FALSE) %>%\n",
    "rename(\"sample\" = 1)\n",
    "\n",
    "#Get a vector of 22q1 samples\n",
    "chronos.samples = chronos.22q1 %>% pull(sample)\n",
    "\n",
    "#Melt the chronos scores\n",
    "melted.chronos.22q1 = chronos.22q1 %>%\n",
    "melt(id = \"sample\") %>%\n",
    "rename(\"gene\" = variable) %>%\n",
    "mutate(gene = word(gene, 1))\n",
    "\n",
    "melted.chronos.22q1 %>% head()"
   ]
  },
  {
   "cell_type": "code",
   "execution_count": null,
   "metadata": {
    "vscode": {
     "languageId": "r"
    }
   },
   "outputs": [],
   "source": [
    "#Filter the ccle variant calls so that it only includes samples with chronos scores\n",
    "chronos.only.melted.ccle.variant.calls = melted.ccle.variant.calls %>%\n",
    "filter(variable %in% all_of(chronos.samples)) %>%\n",
    "mutate(value = as.numeric(value))"
   ]
  },
  {
   "cell_type": "code",
   "execution_count": null,
   "metadata": {
    "vscode": {
     "languageId": "r"
    }
   },
   "outputs": [],
   "source": [
    "#Loop through all of the guides in final.df and calculate the absolute difference in dependency score\n",
    "differential.vector = NULL\n",
    "for(i in 1:nrow(final.df.gene)){\n",
    "    \n",
    "    #Get some variables from final.df and store them so the code is easier to read\n",
    "    guide.of.interest = final.df.gene[i, 1]\n",
    "    snp.of.interest = final.df.gene[i, 2]\n",
    "    gene.of.interest = final.df.gene[i, 6]\n",
    "    \n",
    "    \n",
    "    #Get two vectors of samples with and without the guide\n",
    "    samples.with.variant = chronos.only.melted.ccle.variant.calls %>%\n",
    "    filter(snp %in% all_of(snp.of.interest)) %>%\n",
    "    filter(value >= 1) %>%\n",
    "    pull(variable)\n",
    "    \n",
    "    samples.without.variant = chronos.only.melted.ccle.variant.calls %>%\n",
    "    filter(snp %in% all_of(snp.of.interest)) %>%\n",
    "    filter(value == 0) %>%\n",
    "    pull(variable)\n",
    "    \n",
    "    \n",
    "    #Get two vectors of chronos scores for samples with and without the snp\n",
    "    chronos.with.variant = melted.chronos.22q1 %>%\n",
    "    filter(gene %in% all_of(gene.of.interest)) %>%\n",
    "    filter(sample %in% all_of(samples.with.variant)) %>%\n",
    "    pull(value)\n",
    "    \n",
    "    chronos.without.variant = melted.chronos.22q1 %>%\n",
    "    filter(gene %in% all_of(gene.of.interest)) %>%\n",
    "    filter(sample %in% all_of(samples.without.variant)) %>%\n",
    "    pull(value)\n",
    "    \n",
    "    \n",
    "    #Calculate the mean of each of the vectors\n",
    "    chronos.with.variant.mean = chronos.with.variant %>% mean()\n",
    "    chronos.without.variant.mean = chronos.without.variant %>% mean()\n",
    "    \n",
    "    \n",
    "    #Calculate the differential\n",
    "    chronos.differential = chronos.with.variant.mean - chronos.without.variant.mean\n",
    "    \n",
    "    \n",
    "    #Write the differential to the vector outside of the loop\n",
    "    differential.vector = c(differential.vector, chronos.differential)\n",
    "    \n",
    "}"
   ]
  },
  {
   "cell_type": "code",
   "execution_count": null,
   "metadata": {
    "vscode": {
     "languageId": "r"
    }
   },
   "outputs": [],
   "source": [
    "#Add the differential data to the main data frame\n",
    "final.df.gene.with.differential = final.df.gene %>%\n",
    "mutate(\"differential\" = differential.vector)\n",
    "\n",
    "final.df.gene.with.differential %>% head()"
   ]
  },
  {
   "cell_type": "code",
   "execution_count": null,
   "metadata": {
    "vscode": {
     "languageId": "r"
    }
   },
   "outputs": [],
   "source": [
    "#Plot the plot\n",
    "final.df.gene.with.differential %>%\n",
    "ggplot(aes(x = differential, y = -log10(fdr))) +\n",
    "geom_point() +\n",
    "\n",
    "geom_vline(xintercept = 0, linetype = 2) +\n",
    "\n",
    "theme_bw() +\n",
    "\n",
    "theme(\n",
    "panel.grid.major = element_blank(),\n",
    "panel.grid.minor = element_blank(), \n",
    "axis.line = element_line(color = \"black\")\n",
    ") +\n",
    "\n",
    "theme(\n",
    "axis.title.x = element_text(size = 12),\n",
    "axis.title.y = element_text(size = 12,)\n",
    ") +\n",
    "\n",
    "theme(\n",
    "axis.text=element_text(size = 12),\n",
    "axis.title=element_text(size = 12)\n",
    ") +\n",
    "\n",
    "theme(\n",
    "legend.title = element_text(size = 12),\n",
    "legend.text = element_text(size = 12)\n",
    ") +\n",
    "\n",
    "ylab(\"Associations between SNV and sgRNA score (FDR)\") +\n",
    "xlab(\"Chronos score differential (with SNP - without SNP)\")\n",
    "\n",
    "\n",
    "#Export it to the google bucket\n",
    "setwd('../output')\n",
    "ggsave(\"supplemental_figure_4.pdf\", width = 5, height = 5)"
   ]
  },
  {
   "cell_type": "code",
   "execution_count": null,
   "metadata": {
    "vscode": {
     "languageId": "r"
    }
   },
   "outputs": [],
   "source": [
    "#Write the df that was used to make this figure\n",
    "setwd(\"../output\")\n",
    "write.table(final.df.gene.with.differential, \"supplemental_figure_4_differential_df.txt\", sep = \"\\t\", col.names = TRUE, row.names = FALSE, quote = FALSE)"
   ]
  },
  {
   "cell_type": "code",
   "execution_count": null,
   "metadata": {
    "vscode": {
     "languageId": "r"
    }
   },
   "outputs": [],
   "source": []
  }
 ],
 "metadata": {
  "kernelspec": {
   "display_name": "R",
   "language": "R",
   "name": "ir"
  },
  "language_info": {
   "codemirror_mode": "r",
   "file_extension": ".r",
   "mimetype": "text/x-r-source",
   "name": "R",
   "pygments_lexer": "r",
   "version": "4.3.3"
  }
 },
 "nbformat": 4,
 "nbformat_minor": 2
}
