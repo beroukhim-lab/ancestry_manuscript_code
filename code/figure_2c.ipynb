{
 "cells": [
  {
   "cell_type": "code",
   "execution_count": 1,
   "metadata": {
    "vscode": {
     "languageId": "r"
    }
   },
   "outputs": [
    {
     "name": "stderr",
     "output_type": "stream",
     "text": [
      "── \u001b[1mAttaching core tidyverse packages\u001b[22m ──────────────────────── tidyverse 2.0.0 ──\n",
      "\u001b[32m✔\u001b[39m \u001b[34mdplyr    \u001b[39m 1.1.4     \u001b[32m✔\u001b[39m \u001b[34mreadr    \u001b[39m 2.1.5\n",
      "\u001b[32m✔\u001b[39m \u001b[34mforcats  \u001b[39m 1.0.0     \u001b[32m✔\u001b[39m \u001b[34mstringr  \u001b[39m 1.5.1\n",
      "\u001b[32m✔\u001b[39m \u001b[34mggplot2  \u001b[39m 3.5.0     \u001b[32m✔\u001b[39m \u001b[34mtibble   \u001b[39m 3.2.1\n",
      "\u001b[32m✔\u001b[39m \u001b[34mlubridate\u001b[39m 1.9.3     \u001b[32m✔\u001b[39m \u001b[34mtidyr    \u001b[39m 1.3.1\n",
      "\u001b[32m✔\u001b[39m \u001b[34mpurrr    \u001b[39m 1.0.2     \n",
      "── \u001b[1mConflicts\u001b[22m ────────────────────────────────────────── tidyverse_conflicts() ──\n",
      "\u001b[31m✖\u001b[39m \u001b[34mdplyr\u001b[39m::\u001b[32mfilter()\u001b[39m masks \u001b[34mstats\u001b[39m::filter()\n",
      "\u001b[31m✖\u001b[39m \u001b[34mdplyr\u001b[39m::\u001b[32mlag()\u001b[39m    masks \u001b[34mstats\u001b[39m::lag()\n",
      "\u001b[36mℹ\u001b[39m Use the conflicted package (\u001b[3m\u001b[34m<http://conflicted.r-lib.org/>\u001b[39m\u001b[23m) to force all conflicts to become errors\n"
     ]
    }
   ],
   "source": [
    "#Set up the environment\n",
    "library(reshape2)\n",
    "library(tidyverse)"
   ]
  },
  {
   "cell_type": "code",
   "execution_count": 2,
   "metadata": {
    "vscode": {
     "languageId": "r"
    }
   },
   "outputs": [],
   "source": [
    "#Make a vector of all of the ancestry-associated genes\n",
    "setwd(\"../data\")\n",
    "ancestry.associated.gene.vector = read.table(\"lm_ancestry_associated_dependency_pvals.txt\", sep = \"\\t\", header = TRUE) %>%\n",
    "filter(afr_fdr < 0.05 | amr_fdr < 0.05 | eas_fdr < 0.05 | eur_fdr < 0.05 | sas_fdr < 0.05) %>%\n",
    "pull(gene) %>%\n",
    "unique()"
   ]
  },
  {
   "cell_type": "code",
   "execution_count": 4,
   "metadata": {
    "vscode": {
     "languageId": "r"
    }
   },
   "outputs": [],
   "source": [
    "#Find the TSS for all of the ancestry-associated genes.\n",
    "setwd(\"../data\")\n",
    "refgene = read.table(\"hg38.refGene.gtf\", header = F, sep = \"\\t\") %>%\n",
    "select(V1, V3, V4, V5, V7, V9) %>%\n",
    "rename(\"chr\" = V1, \"type\" = V3, \"start\" = V4, \"end\" = V5, \"strand\" = V7, \"gene\" = V9) %>%\n",
    "filter(type %in% \"transcript\") %>%\n",
    "mutate(\"position\" = ifelse(strand %in% \"+\", start, end)) %>%\n",
    "mutate(gene = gsub(\";..*\", \"\", gene)) %>%\n",
    "mutate(gene = gsub(\"gene_id \", \"\", gene)) %>%\n",
    "select(chr, position, strand, gene) %>%\n",
    "filter(gene %in% ancestry.associated.gene.vector) %>%\n",
    "distinct(gene, .keep_all = TRUE)"
   ]
  },
  {
   "cell_type": "code",
   "execution_count": 5,
   "metadata": {
    "vscode": {
     "languageId": "r"
    }
   },
   "outputs": [],
   "source": [
    "#Load in the top SNP data\n",
    "setwd(\"../data\")\n",
    "top.snp.df = read.table(\"ancestry_top_snp_df.txt\", sep = \"\\t\", header = TRUE)"
   ]
  },
  {
   "cell_type": "code",
   "execution_count": 6,
   "metadata": {
    "vscode": {
     "languageId": "r"
    }
   },
   "outputs": [],
   "source": [
    "#Create a merged dataset that has both the tss data and the significance data\n",
    "merged.tss.and.sig.df = top.snp.df %>% \n",
    "inner_join(refgene, by = \"gene\") %>%\n",
    "rename(\"tss_chr\" = chr, \"tss_pos\" = position, \"tss_strand\"  = strand) %>%\n",
    "separate(snp, sep = \":\", into = c(\"top_snp_chr\", \"top_snp_pos\", \"top_snp_ref\", \"top_snp_alt\")) %>%\n",
    "select(-top_snp_ref, -top_snp_alt, -pval) %>%\n",
    "mutate(top_snp_pos = as.numeric(top_snp_pos)) %>%\n",
    "mutate(\"distance_to_tss\" = ifelse(top_snp_chr == tss_chr, abs(top_snp_pos - tss_pos), 1000001)) %>%\n",
    "mutate(\"prox_or_dist\" = ifelse(distance_to_tss < 1000000, \"proximal\", \"distal\"))"
   ]
  },
  {
   "cell_type": "code",
   "execution_count": 7,
   "metadata": {
    "vscode": {
     "languageId": "r"
    }
   },
   "outputs": [
    {
     "name": "stdout",
     "output_type": "stream",
     "text": [
      "[1] \"the total number of proximal genes is: 29\"\n",
      "[1] \"the total number of distal genes is: 20\"\n"
     ]
    }
   ],
   "source": [
    "#Calculate the number of proximal and distal genes\n",
    "total.proximal = merged.tss.and.sig.df %>% filter(prox_or_dist %in% \"proximal\") %>% pull(gene) %>% unique() %>% length()\n",
    "total.distal = merged.tss.and.sig.df %>% filter(prox_or_dist %in% \"distal\") %>% pull(gene) %>% unique() %>% length()\n",
    "\n",
    "#Print the information\n",
    "print(paste(\"the total number of proximal genes is:\", total.proximal))\n",
    "print(paste(\"the total number of distal genes is:\", total.distal))"
   ]
  },
  {
   "cell_type": "code",
   "execution_count": 8,
   "metadata": {
    "vscode": {
     "languageId": "r"
    }
   },
   "outputs": [],
   "source": [
    "#Write the table for future use\n",
    "setwd('../output')\n",
    "write.table(merged.tss.and.sig.df, \"figure_2c_distance_to_tss_df.txt\", sep = \"\\t\", col.names = TRUE, row.names = FALSE, quote = FALSE)"
   ]
  },
  {
   "cell_type": "code",
   "execution_count": 9,
   "metadata": {
    "vscode": {
     "languageId": "r"
    }
   },
   "outputs": [
    {
     "data": {
      "image/png": "[encoded data removed]",
      "text/plain": [
       "plot without title"
      ]
     },
     "metadata": {
      "image/png": {
       "height": 420,
       "width": 420
      }
     },
     "output_type": "display_data"
    }
   ],
   "source": [
    "###Plot the FDR vs distance to tss\n",
    "\n",
    "#Calculate the maximum distance for the proximal variants\n",
    "max.dist.to.tss = merged.tss.and.sig.df %>%\n",
    "filter(prox_or_dist %in% \"proximal\") %>%\n",
    "pull(distance_to_tss) %>%\n",
    "max()\n",
    "\n",
    "\n",
    "#Make a plot of fdr vs distance to tss\n",
    "merged.tss.and.sig.df %>%\n",
    "mutate(distance_to_tss = ifelse(distance_to_tss > max.dist.to.tss, max.dist.to.tss + 100000, distance_to_tss)) %>%\n",
    "\n",
    "ggplot(aes(x = distance_to_tss, y = -log10(fdr), color = prox_or_dist, fill = prox_or_dist)) +\n",
    "geom_point() +\n",
    "theme_bw() +\n",
    "\n",
    "scale_color_manual(values = c(\"black\", \"red\")) +\n",
    "scale_fill_manual(values = c(\"black\", \"red\")) +\n",
    "\n",
    "theme(\n",
    "panel.grid.major = element_blank(),\n",
    "panel.grid.minor = element_blank(), \n",
    ") +\n",
    "\n",
    "theme(\n",
    "axis.title.x = element_text(color = \"black\", size = 7),\n",
    "axis.title.y = element_text(color = \"black\", size = 7)\n",
    ") +\n",
    "\n",
    "theme(\n",
    "axis.text = element_text(size = 7),\n",
    "axis.title = element_text(size = 7)\n",
    ") +\n",
    "\n",
    "theme(\n",
    "legend.title = element_text(size = 7),\n",
    "legend.text = element_text(size = 7)\n",
    ") +\n",
    "\n",
    "theme(\n",
    "axis.text.x = element_text(angle = 45, vjust = 1, hjust = 1)\n",
    ") +\n",
    "\n",
    "ylab(\"False discovery rate\") +\n",
    "xlab(\"Distance to TSS\")\n",
    "\n",
    "#Export it to the google bucket\n",
    "setwd('../output')\n",
    "ggsave(\"figure_2c.pdf\", width = 3, height = 2.95)"
   ]
  }
 ],
 "metadata": {
  "kernelspec": {
   "display_name": "R",
   "language": "R",
   "name": "ir"
  },
  "language_info": {
   "codemirror_mode": "r",
   "file_extension": ".r",
   "mimetype": "text/x-r-source",
   "name": "R",
   "pygments_lexer": "r",
   "version": "4.3.3"
  }
 },
 "nbformat": 4,
 "nbformat_minor": 2
}
