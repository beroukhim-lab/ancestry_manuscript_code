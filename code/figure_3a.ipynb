{
 "cells": [
  {
   "cell_type": "code",
   "execution_count": 1,
   "metadata": {
    "vscode": {
     "languageId": "r"
    }
   },
   "outputs": [
    {
     "name": "stderr",
     "output_type": "stream",
     "text": [
      "── \u001b[1mAttaching core tidyverse packages\u001b[22m ──────────────────────── tidyverse 2.0.0 ──\n",
      "\u001b[32m✔\u001b[39m \u001b[34mdplyr    \u001b[39m 1.1.4     \u001b[32m✔\u001b[39m \u001b[34mreadr    \u001b[39m 2.1.5\n",
      "\u001b[32m✔\u001b[39m \u001b[34mforcats  \u001b[39m 1.0.0     \u001b[32m✔\u001b[39m \u001b[34mstringr  \u001b[39m 1.5.1\n",
      "\u001b[32m✔\u001b[39m \u001b[34mggplot2  \u001b[39m 3.5.0     \u001b[32m✔\u001b[39m \u001b[34mtibble   \u001b[39m 3.2.1\n",
      "\u001b[32m✔\u001b[39m \u001b[34mlubridate\u001b[39m 1.9.3     \u001b[32m✔\u001b[39m \u001b[34mtidyr    \u001b[39m 1.3.1\n",
      "\u001b[32m✔\u001b[39m \u001b[34mpurrr    \u001b[39m 1.0.2     \n",
      "── \u001b[1mConflicts\u001b[22m ────────────────────────────────────────── tidyverse_conflicts() ──\n",
      "\u001b[31m✖\u001b[39m \u001b[34mdplyr\u001b[39m::\u001b[32mfilter()\u001b[39m masks \u001b[34mstats\u001b[39m::filter()\n",
      "\u001b[31m✖\u001b[39m \u001b[34mdplyr\u001b[39m::\u001b[32mlag()\u001b[39m    masks \u001b[34mstats\u001b[39m::lag()\n",
      "\u001b[36mℹ\u001b[39m Use the conflicted package (\u001b[3m\u001b[34m<http://conflicted.r-lib.org/>\u001b[39m\u001b[23m) to force all conflicts to become errors\n",
      "\n",
      "Attaching package: ‘janitor’\n",
      "\n",
      "\n",
      "The following objects are masked from ‘package:stats’:\n",
      "\n",
      "    chisq.test, fisher.test\n",
      "\n",
      "\n",
      "\n",
      "Attaching package: ‘data.table’\n",
      "\n",
      "\n",
      "The following objects are masked from ‘package:lubridate’:\n",
      "\n",
      "    hour, isoweek, mday, minute, month, quarter, second, wday, week,\n",
      "    yday, year\n",
      "\n",
      "\n",
      "The following objects are masked from ‘package:dplyr’:\n",
      "\n",
      "    between, first, last\n",
      "\n",
      "\n",
      "The following object is masked from ‘package:purrr’:\n",
      "\n",
      "    transpose\n",
      "\n",
      "\n",
      "The following objects are masked from ‘package:reshape2’:\n",
      "\n",
      "    dcast, melt\n",
      "\n",
      "\n"
     ]
    }
   ],
   "source": [
    "#Set up the environment\n",
    "library(reshape2)\n",
    "library(tidyverse)\n",
    "library(janitor)\n",
    "library(data.table)"
   ]
  },
  {
   "cell_type": "code",
   "execution_count": 2,
   "metadata": {
    "vscode": {
     "languageId": "r"
    }
   },
   "outputs": [],
   "source": [
    "#First, load in the guide-level data\n",
    "setwd(\"../data\")\n",
    "replicate.map = read.table(\"21q4_Achilles_replicate_map.csv\", sep = \",\", header = T)\n",
    "guide.map = read.table(\"21q4_Achilles_guide_map.csv\", sep = \",\", header = T)\n",
    "guide.level.data = fread(\"21q4_Achilles_logfold_change.csv\", sep = \",\", header = T, check.names = FALSE)"
   ]
  },
  {
   "cell_type": "code",
   "execution_count": 3,
   "metadata": {
    "vscode": {
     "languageId": "r"
    }
   },
   "outputs": [],
   "source": [
    "#Load in the ancestry information and create two vectors with the EAS and EUR lines\n",
    "#Load in the ancestry data\n",
    "setwd(\"../data\")\n",
    "ancestry.information = read.table(\"collapsed.ancestry.information.txt\", sep = \"\\t\", header = T)\n",
    "\n",
    "#Get a vector of the EAS and EUR cell lines\n",
    "eas.lines = ancestry.information %>% filter(EAS >= 0.8) %>% pull(sample)\n",
    "eur.lines = ancestry.information %>% filter(EUR >= 0.8) %>% pull(sample)"
   ]
  },
  {
   "cell_type": "code",
   "execution_count": 4,
   "metadata": {
    "vscode": {
     "languageId": "r"
    }
   },
   "outputs": [],
   "source": [
    "###Get a vector of all of the ancestry-associated genes\n",
    "\n",
    "#Load in the lineage-corrected ancestry-associated p-value data frame\n",
    "setwd(\"../data\")\n",
    "lineage.corrected.pvals = read.table(\"lm_ancestry_associated_dependency_pvals.txt\", sep = \"\\t\", header = T)\n",
    "\n",
    "ancestry.associated.genes = lineage.corrected.pvals %>%\n",
    "filter(afr_fdr < 0.05 | amr_fdr < 0.05 | eas_fdr < 0.05 | eur_fdr < 0.05 | sas_fdr < 0.05) %>%\n",
    "pull(gene)"
   ]
  },
  {
   "cell_type": "code",
   "execution_count": 5,
   "metadata": {
    "vscode": {
     "languageId": "r"
    }
   },
   "outputs": [
    {
     "name": "stderr",
     "output_type": "stream",
     "text": [
      "Warning message:\n",
      "“The melt generic in data.table has been passed a data.frame and will attempt to redirect to the relevant reshape2 method; please note that reshape2 is superseded and is no longer actively developed, and this redirection is now deprecated. To continue using melt methods from reshape2 while both libraries are attached, e.g. melt.list, you can prepend the namespace, i.e. reshape2::melt(.). In the next version, this warning will become an error.”\n",
      "\u001b[1m\u001b[22m`summarise()` has grouped output by 'sample'. You can override using the\n",
      "`.groups` argument.\n",
      "Warning message:\n",
      "“The dcast generic in data.table has been passed a grouped_df and will attempt to redirect to the relevant reshape2 method; please note that reshape2 is superseded and is no longer actively developed, and this redirection is now deprecated. Please do this redirection yourself like reshape2::dcast(.). In the next version, this warning will become an error.”\n",
      "Using 'mean(value)' as value column. Use 'value.var' to override\n",
      "\n"
     ]
    }
   ],
   "source": [
    "#Get a list of guides that we want to keep\n",
    "guides.to.keep = guide.map %>%\n",
    "mutate(gene = word(gene, 1)) %>%\n",
    "filter(gene %in% ancestry.associated.genes) %>%\n",
    "pull(sgrna)\n",
    "\n",
    "#First, subset the logfc data so that it only includes the guides we are interested in.\n",
    "#Then collapse and average by sample\n",
    "guide.level.data = guide.level.data %>%\n",
    "rename(\"sgrna\" = 1) %>%\n",
    "filter(sgrna %in% guides.to.keep) %>%\n",
    "t() %>%\n",
    "data.frame() %>% \n",
    "row_to_names(1, remove_rows_above = FALSE) %>%\n",
    "rownames_to_column(\"sample\") %>%\n",
    "mutate(sample = plyr::mapvalues(sample, from = replicate.map$replicate_ID, to = replicate.map$DepMap_ID, warn_missing = FALSE)) %>%\n",
    "melt(id = \"sample\") %>%\n",
    "mutate(value = as.numeric(value)) %>%\n",
    "group_by(sample, variable) %>%\n",
    "summarise(mean(value)) %>%\n",
    "dcast(sample ~ variable)"
   ]
  },
  {
   "cell_type": "code",
   "execution_count": 6,
   "metadata": {
    "vscode": {
     "languageId": "r"
    }
   },
   "outputs": [
    {
     "name": "stderr",
     "output_type": "stream",
     "text": [
      "Warning message:\n",
      "“\u001b[1m\u001b[22mThere was 1 warning in `filter()`.\n",
      "\u001b[1m\u001b[22m\u001b[36mℹ\u001b[39m In argument: `sample %in% all_of(eur.lines)`.\n",
      "Caused by warning:\n",
      "\u001b[1m\u001b[22m\u001b[33m!\u001b[39m Using `all_of()` outside of a selecting function was deprecated in tidyselect\n",
      "  1.2.0.\n",
      "\u001b[36mℹ\u001b[39m See details at\n",
      "  <https://tidyselect.r-lib.org/reference/faq-selection-context.html>”\n"
     ]
    }
   ],
   "source": [
    "###Now split the dataset into EAS and EUR cell lines and perform a t-test for each sgRNA\n",
    "\n",
    "#Split the dataset\n",
    "eur.scores = guide.level.data %>%\n",
    "filter(sample %in% all_of(eur.lines))\n",
    "\n",
    "eas.scores = guide.level.data %>%\n",
    "filter(sample %in% all_of(eas.lines))"
   ]
  },
  {
   "cell_type": "code",
   "execution_count": 7,
   "metadata": {
    "vscode": {
     "languageId": "r"
    }
   },
   "outputs": [],
   "source": [
    "#First, calculate the difference in median across all of the guides\n",
    "eur.median = eur.scores[2:ncol(eur.scores)] %>% apply(2, median)\n",
    "eas.median = eas.scores[2:ncol(eas.scores)] %>% apply(2, median)\n",
    "median.difference = eas.median - eur.median\n",
    "\n",
    "#Now calculate a t-test between the two\n",
    "t.test.vector = NULL\n",
    "for(i in 2:ncol(eur.scores)){\n",
    "    eas.vector = eas.scores[,i] #get a vector of sgRNA scores for the EAS lines\n",
    "    eur.vector = eur.scores[,i] #get a vector of sgRNA scores for the EUR lines\n",
    "    t.test.score = t.test(x = eas.vector, y = eur.vector, alternative = \"two.sided\")$p.value\n",
    "    t.test.vector = c(t.test.vector, t.test.score)\n",
    "}"
   ]
  },
  {
   "cell_type": "code",
   "execution_count": 8,
   "metadata": {
    "vscode": {
     "languageId": "r"
    }
   },
   "outputs": [],
   "source": [
    "#Load in the avana bed file\n",
    "setwd(\"../data\")\n",
    "avana.bed <- read.table('Avana14_filtering.bed', sep = \"\\t\", header = F) %>%\n",
    "rename(\"chr\" = 1, \"start\" = 2, \"end\" = 3, \"sgrna\" = 4) "
   ]
  },
  {
   "cell_type": "code",
   "execution_count": 9,
   "metadata": {
    "vscode": {
     "languageId": "r"
    }
   },
   "outputs": [],
   "source": [
    "#Compile everything into a single data frame\n",
    "#Also add the guide start and end position\n",
    "sgrna.names = names(guide.level.data)[2:ncol(guide.level.data)]\n",
    "\n",
    "compiled.difference.df = cbind(sgrna.names, eur.median, eas.median, t.test.vector) %>%\n",
    "data.frame() %>%\n",
    "mutate(eur.median = as.numeric(eur.median)) %>%\n",
    "mutate(eas.median = as.numeric(eas.median)) %>%\n",
    "mutate(\"pval\" = as.numeric(t.test.vector)) %>%\n",
    "rename(\"sgrna\" = 1, \"eur_median\" = 2, \"eas_median\" = 3) %>%\n",
    "mutate(\"differential\" = eur_median - eas_median) %>%\n",
    "mutate(\"guide_start_pos\" = plyr::mapvalues(from = avana.bed$sgrna, to = avana.bed$start, sgrna, warn_missing = FALSE), .after = sgrna) %>%\n",
    "mutate(\"guide_end_pos\" = plyr::mapvalues(from = avana.bed$sgrna, to = avana.bed$end, sgrna, warn_missing = FALSE), .after = guide_start_pos) %>%\n",
    "mutate(\"guide_chr\" = plyr::mapvalues(from = avana.bed$sgrna, to = avana.bed$chr, sgrna, warn_missing = FALSE), .after = sgrna)\n",
    "row.names(compiled.difference.df) = NULL"
   ]
  },
  {
   "cell_type": "code",
   "execution_count": 10,
   "metadata": {
    "vscode": {
     "languageId": "r"
    }
   },
   "outputs": [],
   "source": [
    "#Load in the pre-correction chronos scores\n",
    "setwd(\"../data\")\n",
    "chronos.21q4 = fread(\"21q4_crispr_gene_effect.csv\", sep = \",\", header = T, check.names = FALSE) %>%\n",
    "setNames(word(names(.), 1)) %>%\n",
    "rename(\"sample\" = 1)"
   ]
  },
  {
   "cell_type": "code",
   "execution_count": 12,
   "metadata": {
    "vscode": {
     "languageId": "r"
    }
   },
   "outputs": [],
   "source": [
    "#First, load in the ccle variants and format the dataset so that it looks nice\n",
    "setwd(\"../data\")\n",
    "ccle.variant.calls = read.table(\"snps.in.all.avana.guides.vcf.gz\", sep = \"\\t\") %>%\n",
    "filter(V7 %in% \"PASS\") %>%\n",
    "select(-V1, -V2, -V4, -V5, -V6, -V7, -V8, -V9)\n",
    "\n",
    "#Reformat the genotyping data\n",
    "ccle.variant.calls[2:ncol(ccle.variant.calls)] = apply(ccle.variant.calls[2:ncol(ccle.variant.calls)], 2, function(x){gsub(\":..*\", \"\", x) })\n",
    "ccle.variant.calls[2:ncol(ccle.variant.calls)] = apply(ccle.variant.calls[2:ncol(ccle.variant.calls)], 2, function(x){gsub(\"0\\\\|0\", 0, x) })\n",
    "ccle.variant.calls[2:ncol(ccle.variant.calls)] = apply(ccle.variant.calls[2:ncol(ccle.variant.calls)], 2, function(x){gsub(\"0\\\\|1\", 1, x) })\n",
    "ccle.variant.calls[2:ncol(ccle.variant.calls)] = apply(ccle.variant.calls[2:ncol(ccle.variant.calls)], 2, function(x){gsub(\"1\\\\|0\", 1, x) })\n",
    "ccle.variant.calls[2:ncol(ccle.variant.calls)] = apply(ccle.variant.calls[2:ncol(ccle.variant.calls)], 2, function(x){gsub(\"1\\\\|1\", 2, x) })\n",
    "\n",
    "\n",
    "\n",
    "#Then fix the names on that dataset\n",
    "setwd(\"../data\")\n",
    "sample.names = read.table(\"ccle.vcf.sample.names.txt\", sep = \"\\t\") %>%\n",
    "pull(1)\n",
    "\n",
    "\n",
    "final.ancestry.snp.genotyping.matrix = ccle.variant.calls\n",
    "colnames(final.ancestry.snp.genotyping.matrix) = c(\"snp\", sample.names)"
   ]
  },
  {
   "cell_type": "code",
   "execution_count": 13,
   "metadata": {
    "vscode": {
     "languageId": "r"
    }
   },
   "outputs": [],
   "source": [
    "#Filter the genotyping matrix so that it only contains the \"eas\" or \"eur\" cell lines\n",
    "eas.eur.lines.to.keep = c(eas.lines, eur.lines)\n",
    "\n",
    "genotype.matrix.eas.eur = final.ancestry.snp.genotyping.matrix %>%\n",
    "select(snp, all_of(eas.eur.lines.to.keep))"
   ]
  },
  {
   "cell_type": "code",
   "execution_count": 14,
   "metadata": {
    "vscode": {
     "languageId": "r"
    }
   },
   "outputs": [],
   "source": [
    "###Next step is to figure out if any snp in genotype.matrix.eas.eur maps to a guide in compiled.difference.df\n",
    "snp.in.guide.vector = NULL\n",
    "for(i in 1:nrow(compiled.difference.df)){\n",
    "    \n",
    "    #store some useful information as variables\n",
    "    guide.of.interest = compiled.difference.df[i, 1] %>% as.character()\n",
    "    chr.of.interest = compiled.difference.df[i, 2] %>% as.character()\n",
    "    guide.start.pos = compiled.difference.df[i, 3] %>% as.numeric()\n",
    "    guide.end.pos = compiled.difference.df[i, 4] %>% as.numeric()\n",
    "    \n",
    "    #Filter genotype.matrix.eas.eur so that it only includes variants that fall within the guide of interest\n",
    "    variants.in.guide.of.interest = genotype.matrix.eas.eur %>%\n",
    "    separate(snp, sep = \":\", into = c(\"chr\", \"pos\", \"ref\", \"alt\")) %>%\n",
    "    filter(chr %in% all_of(chr.of.interest)) %>%\n",
    "    filter(pos >= all_of(guide.start.pos)) %>%\n",
    "    filter(pos <= all_of(guide.end.pos))\n",
    "    \n",
    "    #Calculate the number of variants that map to that guide, then save that to a vector outside of the loop\n",
    "    num.variants = nrow(variants.in.guide.of.interest)\n",
    "    snp.in.guide.vector[i] = num.variants\n",
    "    \n",
    "}"
   ]
  },
  {
   "cell_type": "code",
   "execution_count": 15,
   "metadata": {
    "vscode": {
     "languageId": "r"
    }
   },
   "outputs": [],
   "source": [
    "#create a bridging file for sgrna to gene\n",
    "sgrna.gene.bridge = guide.map %>%\n",
    "mutate(gene = word(gene, 1)) %>%\n",
    "select(sgrna, gene)\n",
    "\n",
    "#Add the snp information to the main data frame\n",
    "compiled.difference.with.snp = compiled.difference.df %>%\n",
    "mutate(\"snp_status\" = snp.in.guide.vector) %>%\n",
    "mutate(\"gene\" = plyr::mapvalues(from = sgrna.gene.bridge$sgrna, to = sgrna.gene.bridge$gene, sgrna, warn_missing = FALSE), .after = sgrna) %>%\n",
    "arrange(pval) %>%\n",
    "select(-t.test.vector) %>%\n",
    "mutate(snp_status = ifelse(snp_status >= 1, 1, 0)) %>%\n",
    "mutate(snp_status = as.character(snp_status)) %>%\n",
    "mutate(\"fdr\" = p.adjust(pval, method = \"BY\", n = length(pval)), .after = pval)"
   ]
  },
  {
   "cell_type": "code",
   "execution_count": 19,
   "metadata": {
    "vscode": {
     "languageId": "r"
    }
   },
   "outputs": [],
   "source": [
    "#Write the dataset used for  generating figure 3a\n",
    "setwd('../output')\n",
    "write.table(compiled.difference.with.snp, \"figure_3a_compiled_difference.txt\", sep = \"\\t\", col.names = TRUE, row.names = FALSE, quote = FALSE)"
   ]
  },
  {
   "cell_type": "code",
   "execution_count": 18,
   "metadata": {
    "vscode": {
     "languageId": "r"
    }
   },
   "outputs": [
    {
     "data": {
      "image/png": "[encoded data removed]",
      "text/plain": [
       "plot without title"
      ]
     },
     "metadata": {
      "image/png": {
       "height": 420,
       "width": 420
      }
     },
     "output_type": "display_data"
    }
   ],
   "source": [
    "#Make the figure\n",
    "compiled.difference.with.snp %>%\n",
    "ggplot(aes(x = abs(differential), y = -log10(fdr), color = snp_status)) +\n",
    "geom_point() +\n",
    "geom_hline(yintercept = 1.301, linetype = 2) +\n",
    "theme_bw() +\n",
    "\n",
    "scale_color_manual(values = c(\"grey\", \"firebrick\")) +\n",
    "\n",
    "theme(\n",
    "panel.grid.major = element_blank(),\n",
    "panel.grid.minor = element_blank(), \n",
    ") +\n",
    "\n",
    "theme(\n",
    "axis.title.x = element_text(size = 12),\n",
    "axis.title.y = element_text(size = 12)\n",
    ") +\n",
    "\n",
    "theme(\n",
    "axis.text = element_text(size = 12),\n",
    "axis.title = element_text(size = 12)\n",
    ") +\n",
    "\n",
    "theme(\n",
    "legend.title = element_text(size = 12),\n",
    "legend.text = element_text(size = 12)\n",
    ") +\n",
    "\n",
    "ylab(\"Association between ancestry and guide depletion score (FDR)\") +\n",
    "xlab(\"Difference in guide depletion score (EAS vs EUR)\")\n",
    "\n",
    "\n",
    "#Export it to the google bucket\n",
    "setwd('../output')\n",
    "ggsave(\"figure_3a.pdf\", width = 4, height = 2)"
   ]
  },
  {
   "cell_type": "code",
   "execution_count": 17,
   "metadata": {
    "vscode": {
     "languageId": "r"
    }
   },
   "outputs": [
    {
     "data": {
      "text/html": [
       "<table class=\"dataframe\">\n",
       "<caption>A data.frame: 2 × 2</caption>\n",
       "<thead>\n",
       "\t<tr><th></th><th scope=col>with.snp</th><th scope=col>without.snp</th></tr>\n",
       "\t<tr><th></th><th scope=col>&lt;int&gt;</th><th scope=col>&lt;int&gt;</th></tr>\n",
       "</thead>\n",
       "<tbody>\n",
       "\t<tr><th scope=row>above.line</th><td>15</td><td> 15</td></tr>\n",
       "\t<tr><th scope=row>below.line</th><td>10</td><td>162</td></tr>\n",
       "</tbody>\n",
       "</table>\n"
      ],
      "text/latex": [
       "A data.frame: 2 × 2\n",
       "\\begin{tabular}{r|ll}\n",
       "  & with.snp & without.snp\\\\\n",
       "  & <int> & <int>\\\\\n",
       "\\hline\n",
       "\tabove.line & 15 &  15\\\\\n",
       "\tbelow.line & 10 & 162\\\\\n",
       "\\end{tabular}\n"
      ],
      "text/markdown": [
       "\n",
       "A data.frame: 2 × 2\n",
       "\n",
       "| <!--/--> | with.snp &lt;int&gt; | without.snp &lt;int&gt; |\n",
       "|---|---|---|\n",
       "| above.line | 15 |  15 |\n",
       "| below.line | 10 | 162 |\n",
       "\n"
      ],
      "text/plain": [
       "           with.snp without.snp\n",
       "above.line 15        15        \n",
       "below.line 10       162        "
      ]
     },
     "metadata": {},
     "output_type": "display_data"
    },
    {
     "data": {
      "text/plain": [
       "\n",
       "\tFisher's Exact Test for Count Data\n",
       "\n",
       "data:  fisher.matrix\n",
       "p-value = 1.335e-08\n",
       "alternative hypothesis: true odds ratio is not equal to 1\n",
       "95 percent confidence interval:\n",
       "  5.577822 47.257751\n",
       "sample estimates:\n",
       "odds ratio \n",
       "  15.78174 \n"
      ]
     },
     "metadata": {},
     "output_type": "display_data"
    }
   ],
   "source": [
    "#Compute a p-value for enrichment\n",
    "with.snp.above.line = compiled.difference.with.snp %>% filter(snp_status %in% 1) %>% filter(fdr < 0.05) %>% nrow()\n",
    "with.snp.below.line = compiled.difference.with.snp %>% filter(snp_status %in% 1) %>% filter(fdr > 0.05) %>% nrow()\n",
    "without.snp.above.line = compiled.difference.with.snp %>% filter(snp_status %in% 0) %>% filter(fdr < 0.05) %>% nrow()\n",
    "without.snp.below.line = compiled.difference.with.snp %>% filter(snp_status %in% 0) %>% filter(fdr > 0.05) %>% nrow()\n",
    "\n",
    "fisher.matrix <- data.frame(\n",
    "  \"with.snp\" = c(with.snp.above.line, with.snp.below.line),\n",
    "  \"without.snp\" = c(without.snp.above.line, without.snp.below.line),\n",
    "  row.names = c(\"above.line\", \"below.line\"),\n",
    "  stringsAsFactors = FALSE\n",
    ")\n",
    "\n",
    "fisher.matrix\n",
    "\n",
    "fisher.test(fisher.matrix)"
   ]
  }
 ],
 "metadata": {
  "kernelspec": {
   "display_name": "R",
   "language": "R",
   "name": "ir"
  },
  "language_info": {
   "codemirror_mode": "r",
   "file_extension": ".r",
   "mimetype": "text/x-r-source",
   "name": "R",
   "pygments_lexer": "r",
   "version": "4.3.2"
  }
 },
 "nbformat": 4,
 "nbformat_minor": 2
}
