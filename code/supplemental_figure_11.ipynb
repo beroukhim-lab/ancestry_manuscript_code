{
 "cells": [
  {
   "cell_type": "code",
   "execution_count": 1,
   "metadata": {
    "vscode": {
     "languageId": "r"
    }
   },
   "outputs": [
    {
     "name": "stderr",
     "output_type": "stream",
     "text": [
      "── \u001b[1mAttaching core tidyverse packages\u001b[22m ──────────────────────── tidyverse 2.0.0 ──\n",
      "\u001b[32m✔\u001b[39m \u001b[34mdplyr    \u001b[39m 1.1.4     \u001b[32m✔\u001b[39m \u001b[34mreadr    \u001b[39m 2.1.5\n",
      "\u001b[32m✔\u001b[39m \u001b[34mforcats  \u001b[39m 1.0.0     \u001b[32m✔\u001b[39m \u001b[34mstringr  \u001b[39m 1.5.1\n",
      "\u001b[32m✔\u001b[39m \u001b[34mggplot2  \u001b[39m 3.5.0     \u001b[32m✔\u001b[39m \u001b[34mtibble   \u001b[39m 3.2.1\n",
      "\u001b[32m✔\u001b[39m \u001b[34mlubridate\u001b[39m 1.9.3     \u001b[32m✔\u001b[39m \u001b[34mtidyr    \u001b[39m 1.3.1\n",
      "\u001b[32m✔\u001b[39m \u001b[34mpurrr    \u001b[39m 1.0.2     \n",
      "── \u001b[1mConflicts\u001b[22m ────────────────────────────────────────── tidyverse_conflicts() ──\n",
      "\u001b[31m✖\u001b[39m \u001b[34mdplyr\u001b[39m::\u001b[32mfilter()\u001b[39m masks \u001b[34mstats\u001b[39m::filter()\n",
      "\u001b[31m✖\u001b[39m \u001b[34mdplyr\u001b[39m::\u001b[32mlag()\u001b[39m    masks \u001b[34mstats\u001b[39m::lag()\n",
      "\u001b[36mℹ\u001b[39m Use the conflicted package (\u001b[3m\u001b[34m<http://conflicted.r-lib.org/>\u001b[39m\u001b[23m) to force all conflicts to become errors\n",
      "\n",
      "Attaching package: ‘reshape2’\n",
      "\n",
      "\n",
      "The following object is masked from ‘package:tidyr’:\n",
      "\n",
      "    smiths\n",
      "\n",
      "\n",
      "\n",
      "Attaching package: ‘data.table’\n",
      "\n",
      "\n",
      "The following objects are masked from ‘package:reshape2’:\n",
      "\n",
      "    dcast, melt\n",
      "\n",
      "\n",
      "The following objects are masked from ‘package:lubridate’:\n",
      "\n",
      "    hour, isoweek, mday, minute, month, quarter, second, wday, week,\n",
      "    yday, year\n",
      "\n",
      "\n",
      "The following objects are masked from ‘package:dplyr’:\n",
      "\n",
      "    between, first, last\n",
      "\n",
      "\n",
      "The following object is masked from ‘package:purrr’:\n",
      "\n",
      "    transpose\n",
      "\n",
      "\n"
     ]
    }
   ],
   "source": [
    "#Set up the environment\n",
    "library(tidyverse)\n",
    "library(reshape2)\n",
    "library(data.table)"
   ]
  },
  {
   "cell_type": "code",
   "execution_count": null,
   "metadata": {
    "vscode": {
     "languageId": "r"
    }
   },
   "outputs": [],
   "source": [
    "#Load in the data and format it\n",
    "setwd(\"../data\")\n",
    "ccle.chronos = read.table(\"22q1_crispr_gene_effect.csv\", sep = \",\", header = TRUE, check.names = FALSE) %>%\n",
    "setNames(word(names(.), 1)) \n",
    "\n",
    "#Load in the 22Q2 chronos scores\n",
    "setwd(\"../data\")\n",
    "ccle.chronos.new = read.table(\"22q2_crispr_gene_effect.csv\", sep = \",\", header = TRUE, check.names = FALSE) %>%\n",
    "setNames(word(names(.), 1))"
   ]
  },
  {
   "cell_type": "code",
   "execution_count": null,
   "metadata": {
    "vscode": {
     "languageId": "r"
    }
   },
   "outputs": [],
   "source": [
    "#First, calculate the overlapping set of samples between the two datasets\n",
    "overlapping.samples = intersect(ccle.chronos$sample, ccle.chronos.new$sample)\n",
    "\n",
    "#Calculate the mean chronos score for all genes for 22q1\n",
    "chronos.score.22q1 = ccle.chronos %>%\n",
    "filter(sample %in% all_of(overlapping.samples)) %>%\n",
    "select(-sample) %>%\n",
    "apply(2, mean) %>%\n",
    "data.frame() %>%\n",
    "rename(\"mean_22q1_score\" = 1) %>%\n",
    "mutate(\"gene\" = colnames(ccle.chronos)[2:ncol(ccle.chronos)])\n",
    "\n",
    "#Now do the same for 22q2\n",
    "chronos.score.22q2 = ccle.chronos.new %>%\n",
    "filter(sample %in% all_of(overlapping.samples)) %>%\n",
    "select(-sample) %>%\n",
    "apply(2, mean) %>%\n",
    "data.frame() %>%\n",
    "rename(\"mean_22q2_score\" = 1) %>%\n",
    "mutate(\"gene\" = colnames(ccle.chronos)[2:ncol(ccle.chronos)])\n",
    "\n",
    "\n",
    "#Now merge the two datasets together and add a bit of extra information\n",
    "merged.mean.chronos.scores = inner_join(chronos.score.22q1, chronos.score.22q2, by = \"gene\") %>%\n",
    "drop_na() %>%\n",
    "mutate(\"differential\" = mean_22q2_score - mean_22q1_score) \n",
    "\n",
    "tail(merged.mean.chronos.scores)"
   ]
  },
  {
   "cell_type": "code",
   "execution_count": null,
   "metadata": {
    "vscode": {
     "languageId": "r"
    }
   },
   "outputs": [],
   "source": [
    "#Filter the two datasets so that they have overlapping samples and genes (again)\n",
    "chronos.22q1.filtered = ccle.chronos %>%\n",
    "filter(sample %in% all_of(overlapping.samples)) %>%\n",
    "select(-sample)\n",
    "\n",
    "chronos.22q2.filtered = ccle.chronos.new %>%\n",
    "filter(sample %in% all_of(overlapping.samples)) %>%\n",
    "select(-sample)"
   ]
  },
  {
   "cell_type": "code",
   "execution_count": null,
   "metadata": {
    "vscode": {
     "languageId": "r"
    }
   },
   "outputs": [],
   "source": [
    "#Compute the p-values between the two data frames \n",
    "pvals = Map(wilcox.test, chronos.22q1.filtered, chronos.22q2.filtered)\n",
    "\n",
    "extracted.pvals = pvals %>% lapply(function(x){\n",
    "    val = x$p.value\n",
    "    return(val)\n",
    "}) %>%\n",
    "unlist() %>%\n",
    "as.numeric()"
   ]
  },
  {
   "cell_type": "code",
   "execution_count": null,
   "metadata": {
    "vscode": {
     "languageId": "r"
    }
   },
   "outputs": [],
   "source": [
    "#Create a data frame with the p-values and the mean differences\n",
    "difference.between.22q1.22q2.df = cbind(colnames(chronos.22q1.filtered), extracted.pvals, merged.mean.chronos.scores$differential) %>%\n",
    "data.frame() %>%\n",
    "rename(\"gene\" = 1, \"pval\" = 2, \"differential\" = 3) %>%\n",
    "mutate(pval = as.numeric(pval)) %>%\n",
    "mutate(differential = as.numeric(differential)) %>%\n",
    "mutate(\"fdr\" = p.adjust(pval, method = \"BH\", n = length(pval)))"
   ]
  },
  {
   "cell_type": "code",
   "execution_count": null,
   "metadata": {
    "vscode": {
     "languageId": "r"
    }
   },
   "outputs": [],
   "source": [
    "#Calculate the total number of significant differences\n",
    "difference.between.22q1.22q2.df %>% \n",
    "filter(fdr < 0.05) %>%\n",
    "pull(gene) %>%\n",
    "unique() %>%\n",
    "length()"
   ]
  },
  {
   "cell_type": "code",
   "execution_count": null,
   "metadata": {
    "vscode": {
     "languageId": "r"
    }
   },
   "outputs": [],
   "source": [
    "#Plot the volcano plot\n",
    "difference.between.22q1.22q2.df %>%\n",
    "ggplot(aes(x = differential, y = -log10(fdr))) +\n",
    "geom_point() +\n",
    "theme_bw() +\n",
    "\n",
    "scale_color_manual(values = c(\"black\", \"blue\")) +\n",
    "scale_fill_manual(values = c(\"black\", \"blue\")) +\n",
    "\n",
    "theme(\n",
    "panel.grid.major = element_blank(),\n",
    "panel.grid.minor = element_blank(), \n",
    ") +\n",
    "\n",
    "theme(\n",
    "axis.title.x = element_text(size = 12),\n",
    "axis.title.y = element_text(size = 12)\n",
    ") +\n",
    "\n",
    "theme(\n",
    "axis.text = element_text(size = 12),\n",
    "axis.title = element_text(size = 12)\n",
    ") +\n",
    "\n",
    "theme(\n",
    "legend.title = element_text(size = 12),\n",
    "legend.text = element_text(size = 12)\n",
    ") +\n",
    "\n",
    "ylab(\"Significance of difference between pre-correction and post-correction (FDR)\") +\n",
    "xlab(\"Difference in Chronos score (pre-correction vs post-correction)\")\n",
    "\n",
    "#Export it to the google bucket\n",
    "setwd('../output')\n",
    "ggsave(\"supplemental_figure_11.pdf\", width = 5, height = 5)"
   ]
  },
  {
   "cell_type": "code",
   "execution_count": null,
   "metadata": {
    "vscode": {
     "languageId": "r"
    }
   },
   "outputs": [],
   "source": [
    "#Export the df\n",
    "setwd(\"../output\")\n",
    "write.table(difference.between.22q1.22q2.df, \"supplemental_figure_11_df.txt\", sep = \"\\t\", col.names = TRUE, row.names = FALSE, quote = FALSE)"
   ]
  }
 ],
 "metadata": {
  "kernelspec": {
   "display_name": "R",
   "language": "R",
   "name": "ir"
  },
  "language_info": {
   "codemirror_mode": "r",
   "file_extension": ".r",
   "mimetype": "text/x-r-source",
   "name": "R",
   "pygments_lexer": "r",
   "version": "4.3.3"
  }
 },
 "nbformat": 4,
 "nbformat_minor": 2
}
