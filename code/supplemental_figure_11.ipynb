{
 "cells": [
  {
   "cell_type": "code",
   "execution_count": 3,
   "metadata": {
    "vscode": {
     "languageId": "r"
    }
   },
   "outputs": [],
   "source": [
    "#Set up the environment\n",
    "library(tidyverse)\n",
    "library(reshape2)\n",
    "library(data.table)"
   ]
  },
  {
   "cell_type": "code",
   "execution_count": 7,
   "metadata": {
    "vscode": {
     "languageId": "r"
    }
   },
   "outputs": [],
   "source": [
    "#Load in the data and format it\n",
    "setwd(\"../data\")\n",
    "ccle.chronos = fread(\"22q1_crispr_gene_effect.csv\", sep = \",\", header = TRUE, check.names = FALSE) %>%\n",
    "setNames(word(names(.), 1)) %>%\n",
    "rename(\"sample\" = 1)\n",
    "\n",
    "#Load in the 22Q2 chronos scores\n",
    "setwd(\"../data\")\n",
    "ccle.chronos.new = fread(\"22q2_crispr_gene_effect.csv\", sep = \",\", header = TRUE, check.names = FALSE) %>%\n",
    "setNames(word(names(.), 1)) %>%\n",
    "rename(\"sample\" = 1)"
   ]
  },
  {
   "cell_type": "code",
   "execution_count": 8,
   "metadata": {
    "vscode": {
     "languageId": "r"
    }
   },
   "outputs": [],
   "source": [
    "#First, calculate the overlapping set of samples between the two datasets\n",
    "overlapping.samples = intersect(ccle.chronos$sample, ccle.chronos.new$sample)\n",
    "\n",
    "#Calculate the mean chronos score for all genes for 22q1\n",
    "chronos.score.22q1 = ccle.chronos %>%\n",
    "filter(sample %in% all_of(overlapping.samples)) %>%\n",
    "select(-sample) %>%\n",
    "apply(2, mean) %>%\n",
    "data.frame() %>%\n",
    "rename(\"mean_22q1_score\" = 1) %>%\n",
    "mutate(\"gene\" = colnames(ccle.chronos)[2:ncol(ccle.chronos)])\n",
    "\n",
    "#Now do the same for 22q2\n",
    "chronos.score.22q2 = ccle.chronos.new %>%\n",
    "filter(sample %in% all_of(overlapping.samples)) %>%\n",
    "select(-sample) %>%\n",
    "apply(2, mean) %>%\n",
    "data.frame() %>%\n",
    "rename(\"mean_22q2_score\" = 1) %>%\n",
    "mutate(\"gene\" = colnames(ccle.chronos)[2:ncol(ccle.chronos)])\n",
    "\n",
    "\n",
    "#Now merge the two datasets together and add a bit of extra information\n",
    "merged.mean.chronos.scores = inner_join(chronos.score.22q1, chronos.score.22q2, by = \"gene\") %>%\n",
    "drop_na() %>%\n",
    "mutate(\"differential\" = mean_22q2_score - mean_22q1_score) "
   ]
  },
  {
   "cell_type": "code",
   "execution_count": 9,
   "metadata": {
    "vscode": {
     "languageId": "r"
    }
   },
   "outputs": [],
   "source": [
    "#Filter the two datasets so that they have overlapping samples and genes (again)\n",
    "chronos.22q1.filtered = ccle.chronos %>%\n",
    "filter(sample %in% all_of(overlapping.samples)) %>%\n",
    "select(-sample)\n",
    "\n",
    "chronos.22q2.filtered = ccle.chronos.new %>%\n",
    "filter(sample %in% all_of(overlapping.samples)) %>%\n",
    "select(-sample)"
   ]
  },
  {
   "cell_type": "code",
   "execution_count": 10,
   "metadata": {
    "vscode": {
     "languageId": "r"
    }
   },
   "outputs": [],
   "source": [
    "#Compute the p-values between the two data frames \n",
    "pvals = Map(wilcox.test, chronos.22q1.filtered, chronos.22q2.filtered)\n",
    "\n",
    "extracted.pvals = pvals %>% lapply(function(x){\n",
    "    val = x$p.value\n",
    "    return(val)\n",
    "}) %>%\n",
    "unlist() %>%\n",
    "as.numeric()"
   ]
  },
  {
   "cell_type": "code",
   "execution_count": 11,
   "metadata": {
    "vscode": {
     "languageId": "r"
    }
   },
   "outputs": [
    {
     "name": "stderr",
     "output_type": "stream",
     "text": [
      "Warning message in cbind(colnames(chronos.22q1.filtered), extracted.pvals, merged.mean.chronos.scores$differential):\n",
      "“number of rows of result is not a multiple of vector length (arg 3)”\n"
     ]
    }
   ],
   "source": [
    "#Create a data frame with the p-values and the mean differences\n",
    "difference.between.22q1.22q2.df = cbind(colnames(chronos.22q1.filtered), extracted.pvals, merged.mean.chronos.scores$differential) %>%\n",
    "data.frame() %>%\n",
    "rename(\"gene\" = 1, \"pval\" = 2, \"differential\" = 3) %>%\n",
    "mutate(pval = as.numeric(pval)) %>%\n",
    "mutate(differential = as.numeric(differential)) %>%\n",
    "mutate(\"fdr\" = p.adjust(pval, method = \"BH\", n = length(pval)))"
   ]
  },
  {
   "cell_type": "code",
   "execution_count": 12,
   "metadata": {
    "vscode": {
     "languageId": "r"
    }
   },
   "outputs": [
    {
     "data": {
      "text/html": [
       "2223"
      ],
      "text/latex": [
       "2223"
      ],
      "text/markdown": [
       "2223"
      ],
      "text/plain": [
       "[1] 2223"
      ]
     },
     "metadata": {},
     "output_type": "display_data"
    }
   ],
   "source": [
    "#Calculate the total number of significant differences\n",
    "difference.between.22q1.22q2.df %>% \n",
    "filter(fdr < 0.05) %>%\n",
    "pull(gene) %>%\n",
    "unique() %>%\n",
    "length()"
   ]
  },
  {
   "cell_type": "code",
   "execution_count": 13,
   "metadata": {
    "vscode": {
     "languageId": "r"
    }
   },
   "outputs": [
    {
     "data": {
      "image/png": "[encoded data removed]",
      "text/plain": [
       "plot without title"
      ]
     },
     "metadata": {
      "image/png": {
       "height": 420,
       "width": 420
      }
     },
     "output_type": "display_data"
    }
   ],
   "source": [
    "#Plot the volcano plot\n",
    "difference.between.22q1.22q2.df %>%\n",
    "ggplot(aes(x = differential, y = -log10(fdr))) +\n",
    "geom_point() +\n",
    "theme_bw() +\n",
    "\n",
    "scale_color_manual(values = c(\"black\", \"blue\")) +\n",
    "scale_fill_manual(values = c(\"black\", \"blue\")) +\n",
    "\n",
    "theme(\n",
    "panel.grid.major = element_blank(),\n",
    "panel.grid.minor = element_blank(), \n",
    ") +\n",
    "\n",
    "theme(\n",
    "axis.title.x = element_text(size = 12),\n",
    "axis.title.y = element_text(size = 12)\n",
    ") +\n",
    "\n",
    "theme(\n",
    "axis.text = element_text(size = 12),\n",
    "axis.title = element_text(size = 12)\n",
    ") +\n",
    "\n",
    "theme(\n",
    "legend.title = element_text(size = 12),\n",
    "legend.text = element_text(size = 12)\n",
    ") +\n",
    "\n",
    "ylab(\"Significance of difference between pre-correction and post-correction (FDR)\") +\n",
    "xlab(\"Difference in Chronos score (pre-correction vs post-correction)\")\n",
    "\n",
    "#Export it to the google bucket\n",
    "setwd('../output')\n",
    "ggsave(\"supplemental_figure_11.pdf\", width = 5, height = 5)"
   ]
  },
  {
   "cell_type": "code",
   "execution_count": 15,
   "metadata": {
    "vscode": {
     "languageId": "r"
    }
   },
   "outputs": [],
   "source": [
    "#Export the df\n",
    "setwd(\"../output\")\n",
    "write.table(difference.between.22q1.22q2.df, \"supplemental_figure_11_df.txt\", sep = \"\\t\", col.names = TRUE, row.names = FALSE, quote = FALSE)"
   ]
  }
 ],
 "metadata": {
  "kernelspec": {
   "display_name": "R",
   "language": "R",
   "name": "ir"
  },
  "language_info": {
   "codemirror_mode": "r",
   "file_extension": ".r",
   "mimetype": "text/x-r-source",
   "name": "R",
   "pygments_lexer": "r",
   "version": "4.3.3"
  }
 },
 "nbformat": 4,
 "nbformat_minor": 2
}
