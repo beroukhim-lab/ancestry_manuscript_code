{
 "cells": [
  {
   "cell_type": "code",
   "execution_count": 1,
   "metadata": {
    "vscode": {
     "languageId": "r"
    }
   },
   "outputs": [
    {
     "name": "stderr",
     "output_type": "stream",
     "text": [
      "── \u001b[1mAttaching core tidyverse packages\u001b[22m ──────────────────────── tidyverse 2.0.0 ──\n",
      "\u001b[32m✔\u001b[39m \u001b[34mdplyr    \u001b[39m 1.1.4     \u001b[32m✔\u001b[39m \u001b[34mreadr    \u001b[39m 2.1.5\n",
      "\u001b[32m✔\u001b[39m \u001b[34mforcats  \u001b[39m 1.0.0     \u001b[32m✔\u001b[39m \u001b[34mstringr  \u001b[39m 1.5.1\n",
      "\u001b[32m✔\u001b[39m \u001b[34mggplot2  \u001b[39m 3.5.0     \u001b[32m✔\u001b[39m \u001b[34mtibble   \u001b[39m 3.2.1\n",
      "\u001b[32m✔\u001b[39m \u001b[34mlubridate\u001b[39m 1.9.3     \u001b[32m✔\u001b[39m \u001b[34mtidyr    \u001b[39m 1.3.1\n",
      "\u001b[32m✔\u001b[39m \u001b[34mpurrr    \u001b[39m 1.0.2     \n",
      "── \u001b[1mConflicts\u001b[22m ────────────────────────────────────────── tidyverse_conflicts() ──\n",
      "\u001b[31m✖\u001b[39m \u001b[34mdplyr\u001b[39m::\u001b[32mfilter()\u001b[39m masks \u001b[34mstats\u001b[39m::filter()\n",
      "\u001b[31m✖\u001b[39m \u001b[34mdplyr\u001b[39m::\u001b[32mlag()\u001b[39m    masks \u001b[34mstats\u001b[39m::lag()\n",
      "\u001b[36mℹ\u001b[39m Use the conflicted package (\u001b[3m\u001b[34m<http://conflicted.r-lib.org/>\u001b[39m\u001b[23m) to force all conflicts to become errors\n"
     ]
    }
   ],
   "source": [
    "#Set up the environment\n",
    "library(reshape2)\n",
    "library(tidyverse)"
   ]
  },
  {
   "cell_type": "code",
   "execution_count": 4,
   "metadata": {
    "vscode": {
     "languageId": "r"
    }
   },
   "outputs": [],
   "source": [
    "#Load in the rfmix data\n",
    "setwd(\"../data\")\n",
    "rfmix.file.list = list.files(path = \".\", pattern = \"rfmix.output.rfmix.Q\")\n",
    "\n",
    "#Compile it all into a single object\n",
    "rfmix.data = NULL #create an empty object to hold the data\n",
    "index = 0 #define the for loop index\n",
    "for(file in rfmix.file.list){\n",
    "    index = index + 1 #increase the index\n",
    "    \n",
    "    \n",
    "    #Load in and format the data\n",
    "    individual.chromosome = read.table(file, fill = TRUE) %>%\n",
    "    rename(\"sample\" = 1, \"African (AFR)\" = 2, \"American (AMR)\" = 3, \"East Asian (EAS)\" = 4, \"European (EUR)\" = 5, \"South Asian (SAS)\" = 6) %>%\n",
    "    select(-sample)\n",
    "    \n",
    "    \n",
    "    \n",
    "    #Add the data to the main data frame\n",
    "    if(index == 1) {\n",
    "        rfmix.data = individual.chromosome\n",
    "    } else {\n",
    "        rfmix.data = rfmix.data + individual.chromosome\n",
    "    }\n",
    "    \n",
    "    \n",
    "    \n",
    "    #Divide the data by the number of chromosomes to get the ancestry fraction across the genome\n",
    "    if(index == length(rfmix.file.list)) {\n",
    "        rfmix.data = rfmix.data/length(rfmix.file.list)\n",
    "    }\n",
    "    \n",
    "    \n",
    "    \n",
    "    #Re-add the sample names\n",
    "    if(index == length(rfmix.file.list)){\n",
    "        sample.names = read.table(file, fill = TRUE) %>%\n",
    "        rename(\"sample\" = 1) %>%\n",
    "        pull(sample) \n",
    "        \n",
    "    rfmix.data = rfmix.data %>%\n",
    "        mutate(sample = sample.names, .before = \"African (AFR)\")\n",
    "    }\n",
    "    \n",
    "}"
   ]
  },
  {
   "cell_type": "code",
   "execution_count": 5,
   "metadata": {
    "vscode": {
     "languageId": "r"
    }
   },
   "outputs": [],
   "source": [
    "#Export the compiled ancestry data\n",
    "setwd(\"../output\")\n",
    "rfmix.data.for.export = rfmix.data %>%\n",
    "rename(\"cell_line\" = 1, \"AFR\" = 2, \"AMR\" = 3, \"EAS\" = 4, \"EUR\" = 5, \"SAS\" = 6) %>%\n",
    "write.table(\"collapsed_snp6_ancestry_calls.txt\", sep = \"\\t\", col.names = TRUE, row.names = FALSE, quote = FALSE)"
   ]
  },
  {
   "cell_type": "code",
   "execution_count": 7,
   "metadata": {
    "vscode": {
     "languageId": "r"
    }
   },
   "outputs": [],
   "source": [
    "#First,cluster the data and re-order it based upon those clusters.\n",
    "\n",
    "#Generate the cluster order\n",
    "clustering.order = rfmix.data %>%\n",
    "select(-sample) %>%\n",
    "dist() %>%\n",
    "hclust(method = \"complete\")\n",
    "clustering.order = clustering.order$order\n",
    "\n",
    "#Re-order the data based upon those clusters\n",
    "rfmix.data.clustered = rfmix.data[clustering.order, ] %>%\n",
    "mutate(sample = rep(1:nrow(rfmix.data))) %>%\n",
    "mutate(sample = factor(sample))"
   ]
  },
  {
   "cell_type": "code",
   "execution_count": 8,
   "metadata": {
    "vscode": {
     "languageId": "r"
    }
   },
   "outputs": [
    {
     "data": {
      "text/html": [
       "952"
      ],
      "text/latex": [
       "952"
      ],
      "text/markdown": [
       "952"
      ],
      "text/plain": [
       "[1] 952"
      ]
     },
     "metadata": {},
     "output_type": "display_data"
    },
    {
     "data": {
      "text/html": [
       "42"
      ],
      "text/latex": [
       "42"
      ],
      "text/markdown": [
       "42"
      ],
      "text/plain": [
       "[1] 42"
      ]
     },
     "metadata": {},
     "output_type": "display_data"
    },
    {
     "data": {
      "text/html": [
       "0.0422535211267606"
      ],
      "text/latex": [
       "0.0422535211267606"
      ],
      "text/markdown": [
       "0.0422535211267606"
      ],
      "text/plain": [
       "[1] 0.04225352"
      ]
     },
     "metadata": {},
     "output_type": "display_data"
    }
   ],
   "source": [
    "#Calculate the minor ancestry fraction\n",
    "minor.ancestry.fraction = rfmix.data %>%\n",
    "select(-sample) %>%\n",
    "rename(\"AFR\" = 1, \"AMR\" = 2, \"EAS\" = 3, \"EUR\" = 4, \"SAS\" = 5) %>%\n",
    "apply(1, max)\n",
    "\n",
    "#Calculate the number of cell lines that are mostly one ancestry\n",
    "mostly.single.ancestry = minor.ancestry.fraction[minor.ancestry.fraction >= 0.8] %>% length()\n",
    "mostly.single.ancestry\n",
    "\n",
    "#Calculate the number of cell lines that are significantly admixed\n",
    "number.of.admixed.lines = nrow(rfmix.data) - mostly.single.ancestry\n",
    "number.of.admixed.lines\n",
    "\n",
    "#Calculate the fraction of cell lines that are significantly admixed\n",
    "fraction.admixed = number.of.admixed.lines/(mostly.single.ancestry + number.of.admixed.lines)\n",
    "fraction.admixed"
   ]
  },
  {
   "cell_type": "code",
   "execution_count": 9,
   "metadata": {
    "vscode": {
     "languageId": "r"
    }
   },
   "outputs": [
    {
     "data": {
      "text/html": [
       "0.912474849094567"
      ],
      "text/latex": [
       "0.912474849094567"
      ],
      "text/markdown": [
       "0.912474849094567"
      ],
      "text/plain": [
       "[1] 0.9124748"
      ]
     },
     "metadata": {},
     "output_type": "display_data"
    },
    {
     "data": {
      "text/html": [
       "0.61066398390342"
      ],
      "text/latex": [
       "0.61066398390342"
      ],
      "text/markdown": [
       "0.61066398390342"
      ],
      "text/plain": [
       "[1] 0.610664"
      ]
     },
     "metadata": {},
     "output_type": "display_data"
    },
    {
     "data": {
      "text/html": [
       "0.301810865191147"
      ],
      "text/latex": [
       "0.301810865191147"
      ],
      "text/markdown": [
       "0.301810865191147"
      ],
      "text/plain": [
       "[1] 0.3018109"
      ]
     },
     "metadata": {},
     "output_type": "display_data"
    }
   ],
   "source": [
    "#Calculate the number of cell lines that are east asian or european\n",
    "num.eas.or.eur = rfmix.data %>%\n",
    "select(-sample) %>%\n",
    "rename(\"AFR\" = 1, \"AMR\" = 2, \"EAS\" = 3, \"EUR\" = 4, \"SAS\" = 5) %>%\n",
    "filter(EAS >= 0.8 | EUR >= 0.8) %>%\n",
    "nrow(.)\n",
    "fraction.eas.or.eur = num.eas.or.eur/nrow(rfmix.data)\n",
    "fraction.eas.or.eur\n",
    "\n",
    "#Calculate the fraction of cell lines that are european\n",
    "fraction.european = rfmix.data %>%\n",
    "select(-sample) %>%\n",
    "rename(\"AFR\" = 1, \"AMR\" = 2, \"EAS\" = 3, \"EUR\" = 4, \"SAS\" = 5) %>%\n",
    "filter(EUR >= 0.8) %>%\n",
    "nrow(.)\n",
    "fraction.european = fraction.european/nrow(rfmix.data)\n",
    "fraction.european\n",
    "\n",
    "#Calculate the fraction of cell lines that are east asian\n",
    "fraction.eas = rfmix.data %>%\n",
    "select(-sample) %>%\n",
    "rename(\"AFR\" = 1, \"AMR\" = 2, \"EAS\" = 3, \"EUR\" = 4, \"SAS\" = 5) %>%\n",
    "filter(EAS >= 0.8) %>%\n",
    "nrow(.)\n",
    "fraction.eas = fraction.eas/nrow(rfmix.data)\n",
    "fraction.eas"
   ]
  },
  {
   "cell_type": "code",
   "execution_count": 13,
   "metadata": {
    "vscode": {
     "languageId": "r"
    }
   },
   "outputs": [
    {
     "name": "stderr",
     "output_type": "stream",
     "text": [
      "Using sample, ancestry_group as id variables\n",
      "\n"
     ]
    }
   ],
   "source": [
    "#Write the data that was used to generate the plot\n",
    "df_for_plot = rfmix.data %>%\n",
    "rename(\"AFR\" = 2, \"AMR\" = 3, \"EAS\" = 4, \"EUR\" = 5, \"SAS\" = 6) %>%\n",
    "mutate(ancestry_group = ifelse(AMR >= 0.8, \"AMR\", \n",
    "                        ifelse(AFR >= 0.8, \"AFR\",\n",
    "                        ifelse(EAS >= 0.8, \"EAS\",\n",
    "                        ifelse(EUR >= 0.8, \"EUR\",\n",
    "                        ifelse(SAS >= 0.8, \"SAS\", \"Admixed\")))))) %>%\n",
    "melt() %>%\n",
    "mutate(ancestry_group = factor(ancestry_group, levels = c(\"EUR\", \"EAS\", \"AFR\", \"SAS\", \"AMR\", \"Admixed\")))\n",
    "\n",
    "setwd(\"../output\")\n",
    "write.table(df_for_plot, \"figure_1b_data.txt\", sep = \"\\t\", col.names = TRUE, row.names = FALSE, quote = FALSE)"
   ]
  },
  {
   "cell_type": "code",
   "execution_count": 10,
   "metadata": {
    "vscode": {
     "languageId": "r"
    }
   },
   "outputs": [
    {
     "name": "stderr",
     "output_type": "stream",
     "text": [
      "Using sample, ancestry_group as id variables\n",
      "\n",
      "\u001b[1m\u001b[22mSaving 6.67 x 4 in image\n"
     ]
    },
    {
     "data": {
      "image/png": "[encoded data removed]",
      "text/plain": [
       "plot without title"
      ]
     },
     "metadata": {
      "image/png": {
       "height": 420,
       "width": 420
      }
     },
     "output_type": "display_data"
    }
   ],
   "source": [
    "#Create the color vector\n",
    "group.colors <- c(\"darkorange2\", \"firebrick4\", \"chartreuse4\", \"dodgerblue4\", \"darkorchid4\")\n",
    "\n",
    "#Plot the data\n",
    "rfmix.data %>%\n",
    "rename(\"AFR\" = 2, \"AMR\" = 3, \"EAS\" = 4, \"EUR\" = 5, \"SAS\" = 6) %>%\n",
    "mutate(ancestry_group = ifelse(AMR >= 0.8, \"AMR\", \n",
    "                        ifelse(AFR >= 0.8, \"AFR\",\n",
    "                        ifelse(EAS >= 0.8, \"EAS\",\n",
    "                        ifelse(EUR >= 0.8, \"EUR\",\n",
    "                        ifelse(SAS >= 0.8, \"SAS\", \"Admixed\")))))) %>%\n",
    "melt() %>%\n",
    "mutate(ancestry_group = factor(ancestry_group, levels = c(\"EUR\", \"EAS\", \"AFR\", \"SAS\", \"AMR\", \"Admixed\"))) %>%\n",
    "ggplot(aes(as.factor(sample), value, fill = variable)) + \n",
    "geom_col() +\n",
    "facet_grid(. ~ ancestry_group, scales = \"free\", space = \"free_x\") +\n",
    "\n",
    "\n",
    "scale_fill_manual(values = group.colors) +\n",
    "\n",
    "theme_bw() +\n",
    "\n",
    "theme(\n",
    "panel.border = element_blank(), panel.grid.major = element_blank(),\n",
    "panel.grid.minor = element_blank(), axis.line = element_line(color = \"black\")\n",
    ") +\n",
    "\n",
    "theme(\n",
    "axis.title.x = element_text(color = \"black\", size = 14, face = \"bold\"),\n",
    "axis.title.y = element_text(color = \"black\", size = 14, face = \"bold\")\n",
    ") +\n",
    "\n",
    "theme(\n",
    "axis.text.x = element_blank(),\n",
    "axis.ticks.x = element_blank()\n",
    ") +\n",
    "\n",
    "theme(\n",
    "axis.text=element_text(size = 12, face = \"bold\"),\n",
    "axis.title=element_text(size = 14,face = \"bold\")\n",
    ") +\n",
    "\n",
    "theme(\n",
    "  legend.title = element_text(size = 14, face = \"bold\"),\n",
    "  legend.text = element_text(size = 10, face = \"bold\")\n",
    "  ) +\n",
    "\n",
    "ylab(\"Ancestry Fraction\") +\n",
    "xlab(\"994 Cancer Cell Lines\") +\n",
    "labs(fill='Ancestry Group') +\n",
    "scale_y_continuous(expand = c(0,0))\n",
    "\n",
    "\n",
    "#Export it to the google bucket\n",
    "setwd(\"../output\")\n",
    "ggsave(\"figure_1b.pdf\", height = 4)\n"
   ]
  },
  {
   "cell_type": "markdown",
   "metadata": {},
   "source": [
    "Also compute some useful information to include in the paper text"
   ]
  },
  {
   "cell_type": "code",
   "execution_count": 11,
   "metadata": {
    "vscode": {
     "languageId": "r"
    }
   },
   "outputs": [
    {
     "name": "stdout",
     "output_type": "stream",
     "text": [
      "[1] \"There are  41  African cell lines. This is 4.12474849094567 % of the dataset\"\n",
      "[1] \"There are  0  American cell lines. This is 0 % of the dataset\"\n",
      "[1] \"There are  300  East Asian cell lines. This is 30.1810865191147 % of the dataset\"\n",
      "[1] \"There are  607  European cell lines. This is 61.066398390342 % of the dataset\"\n",
      "[1] \"There are  4  South Asian cell lines. This is 0.402414486921529 % of the dataset\"\n",
      "[1] \"There are  42  Admixed cell lines. This is 4.22535211267606 % of the dataset\"\n"
     ]
    }
   ],
   "source": [
    "#Assemble the dataset\n",
    "df.for.counting = rfmix.data %>%\n",
    "rename(\"AFR\" = 2, \"AMR\" = 3, \"EAS\" = 4, \"EUR\" = 5, \"SAS\" = 6) %>%\n",
    "mutate(ancestry_group = ifelse(AMR >= 0.8, \"AMR\", \n",
    "                        ifelse(AFR >= 0.8, \"AFR\",\n",
    "                        ifelse(EAS >= 0.8, \"EAS\",\n",
    "                        ifelse(EUR >= 0.8, \"EUR\",\n",
    "                        ifelse(SAS >= 0.8, \"SAS\", \"Admixed\"))))))\n",
    "\n",
    "\n",
    "#Now count the number of cell lines\n",
    "num.afr = df.for.counting %>% filter(ancestry_group %in% \"AFR\") %>% pull(sample) %>% unique() %>% length() #AFR\n",
    "num.amr = df.for.counting %>% filter(ancestry_group %in% \"AMR\") %>% pull(sample) %>% unique() %>% length() #AMR\n",
    "num.eas = df.for.counting %>% filter(ancestry_group %in% \"EAS\") %>% pull(sample) %>% unique() %>% length() #EAS\n",
    "num.eur = df.for.counting %>% filter(ancestry_group %in% \"EUR\") %>% pull(sample) %>% unique() %>% length() #EUR\n",
    "num.sas = df.for.counting %>% filter(ancestry_group %in% \"SAS\") %>% pull(sample) %>% unique() %>% length() #SAS\n",
    "num.adm = df.for.counting %>% filter(ancestry_group %in% \"Admixed\") %>% pull(sample) %>% unique() %>% length() #admixed\n",
    "num.lines = df.for.counting %>% pull(sample) %>% length()\n",
    "\n",
    "#Calculate the fractions\n",
    "fraction.afr = num.afr/num.lines\n",
    "fraction.amr = num.amr/num.lines\n",
    "fraction.eas = num.eas/num.lines\n",
    "fraction.eur = num.eur/num.lines\n",
    "fraction.sas = num.sas/num.lines\n",
    "fraction.adm = num.adm/num.lines\n",
    "\n",
    "#Print the results\n",
    "paste(\"There are \", num.afr, \" African cell lines. This is\", fraction.afr*100, \"% of the dataset\") %>% print()\n",
    "paste(\"There are \", num.amr, \" American cell lines. This is\", fraction.amr*100, \"% of the dataset\") %>% print()\n",
    "paste(\"There are \", num.eas, \" East Asian cell lines. This is\", fraction.eas*100, \"% of the dataset\") %>% print()\n",
    "paste(\"There are \", num.eur, \" European cell lines. This is\", fraction.eur*100, \"% of the dataset\") %>% print()\n",
    "paste(\"There are \", num.sas, \" South Asian cell lines. This is\", fraction.sas*100, \"% of the dataset\") %>% print()\n",
    "paste(\"There are \", num.adm, \" Admixed cell lines. This is\", fraction.adm*100, \"% of the dataset\") %>% print()\n"
   ]
  },
  {
   "cell_type": "code",
   "execution_count": 12,
   "metadata": {
    "vscode": {
     "languageId": "r"
    }
   },
   "outputs": [
    {
     "data": {
      "text/html": [
       "<table class=\"dataframe\">\n",
       "<caption>A data.frame: 6 × 6</caption>\n",
       "<thead>\n",
       "\t<tr><th></th><th scope=col>sample</th><th scope=col>afr</th><th scope=col>amr</th><th scope=col>eas</th><th scope=col>eur</th><th scope=col>sas</th></tr>\n",
       "\t<tr><th></th><th scope=col>&lt;chr&gt;</th><th scope=col>&lt;dbl&gt;</th><th scope=col>&lt;dbl&gt;</th><th scope=col>&lt;dbl&gt;</th><th scope=col>&lt;dbl&gt;</th><th scope=col>&lt;dbl&gt;</th></tr>\n",
       "</thead>\n",
       "<tbody>\n",
       "\t<tr><th scope=row>1</th><td>ACH-000654  </td><td>1.0000000</td><td>0.0000000000</td><td>0.0000000000</td><td>0.0000000000</td><td>0.0000000000</td></tr>\n",
       "\t<tr><th scope=row>2</th><td>ACH-000707  </td><td>0.9993091</td><td>0.0000000000</td><td>0.0000000000</td><td>0.0006909091</td><td>0.0000000000</td></tr>\n",
       "\t<tr><th scope=row>3</th><td>ACH-001318  </td><td>0.9991477</td><td>0.0005959091</td><td>0.0000000000</td><td>0.0000000000</td><td>0.0002563636</td></tr>\n",
       "\t<tr><th scope=row>4</th><td>ACH-001318.1</td><td>0.9991477</td><td>0.0005959091</td><td>0.0000000000</td><td>0.0000000000</td><td>0.0002563636</td></tr>\n",
       "\t<tr><th scope=row>5</th><td>ACH-001064  </td><td>0.9987423</td><td>0.0002563636</td><td>0.0003309091</td><td>0.0006700000</td><td>0.0000000000</td></tr>\n",
       "\t<tr><th scope=row>6</th><td>ACH-000877  </td><td>0.9985082</td><td>0.0002563636</td><td>0.0000000000</td><td>0.0009209091</td><td>0.0003145455</td></tr>\n",
       "</tbody>\n",
       "</table>\n"
      ],
      "text/latex": [
       "A data.frame: 6 × 6\n",
       "\\begin{tabular}{r|llllll}\n",
       "  & sample & afr & amr & eas & eur & sas\\\\\n",
       "  & <chr> & <dbl> & <dbl> & <dbl> & <dbl> & <dbl>\\\\\n",
       "\\hline\n",
       "\t1 & ACH-000654   & 1.0000000 & 0.0000000000 & 0.0000000000 & 0.0000000000 & 0.0000000000\\\\\n",
       "\t2 & ACH-000707   & 0.9993091 & 0.0000000000 & 0.0000000000 & 0.0006909091 & 0.0000000000\\\\\n",
       "\t3 & ACH-001318   & 0.9991477 & 0.0005959091 & 0.0000000000 & 0.0000000000 & 0.0002563636\\\\\n",
       "\t4 & ACH-001318.1 & 0.9991477 & 0.0005959091 & 0.0000000000 & 0.0000000000 & 0.0002563636\\\\\n",
       "\t5 & ACH-001064   & 0.9987423 & 0.0002563636 & 0.0003309091 & 0.0006700000 & 0.0000000000\\\\\n",
       "\t6 & ACH-000877   & 0.9985082 & 0.0002563636 & 0.0000000000 & 0.0009209091 & 0.0003145455\\\\\n",
       "\\end{tabular}\n"
      ],
      "text/markdown": [
       "\n",
       "A data.frame: 6 × 6\n",
       "\n",
       "| <!--/--> | sample &lt;chr&gt; | afr &lt;dbl&gt; | amr &lt;dbl&gt; | eas &lt;dbl&gt; | eur &lt;dbl&gt; | sas &lt;dbl&gt; |\n",
       "|---|---|---|---|---|---|---|\n",
       "| 1 | ACH-000654   | 1.0000000 | 0.0000000000 | 0.0000000000 | 0.0000000000 | 0.0000000000 |\n",
       "| 2 | ACH-000707   | 0.9993091 | 0.0000000000 | 0.0000000000 | 0.0006909091 | 0.0000000000 |\n",
       "| 3 | ACH-001318   | 0.9991477 | 0.0005959091 | 0.0000000000 | 0.0000000000 | 0.0002563636 |\n",
       "| 4 | ACH-001318.1 | 0.9991477 | 0.0005959091 | 0.0000000000 | 0.0000000000 | 0.0002563636 |\n",
       "| 5 | ACH-001064   | 0.9987423 | 0.0002563636 | 0.0003309091 | 0.0006700000 | 0.0000000000 |\n",
       "| 6 | ACH-000877   | 0.9985082 | 0.0002563636 | 0.0000000000 | 0.0009209091 | 0.0003145455 |\n",
       "\n"
      ],
      "text/plain": [
       "  sample       afr       amr          eas          eur          sas         \n",
       "1 ACH-000654   1.0000000 0.0000000000 0.0000000000 0.0000000000 0.0000000000\n",
       "2 ACH-000707   0.9993091 0.0000000000 0.0000000000 0.0006909091 0.0000000000\n",
       "3 ACH-001318   0.9991477 0.0005959091 0.0000000000 0.0000000000 0.0002563636\n",
       "4 ACH-001318.1 0.9991477 0.0005959091 0.0000000000 0.0000000000 0.0002563636\n",
       "5 ACH-001064   0.9987423 0.0002563636 0.0003309091 0.0006700000 0.0000000000\n",
       "6 ACH-000877   0.9985082 0.0002563636 0.0000000000 0.0009209091 0.0003145455"
      ]
     },
     "metadata": {},
     "output_type": "display_data"
    },
    {
     "data": {
      "text/html": [
       "0.892541696230599"
      ],
      "text/latex": [
       "0.892541696230599"
      ],
      "text/markdown": [
       "0.892541696230599"
      ],
      "text/plain": [
       "[1] 0.8925417"
      ]
     },
     "metadata": {},
     "output_type": "display_data"
    },
    {
     "data": {
      "text/html": [
       "0.985641352403774"
      ],
      "text/latex": [
       "0.985641352403774"
      ],
      "text/markdown": [
       "0.985641352403774"
      ],
      "text/plain": [
       "[1] 0.9856414"
      ]
     },
     "metadata": {},
     "output_type": "display_data"
    },
    {
     "data": {
      "text/html": [
       "0.988722090909091"
      ],
      "text/latex": [
       "0.988722090909091"
      ],
      "text/markdown": [
       "0.988722090909091"
      ],
      "text/plain": [
       "[1] 0.9887221"
      ]
     },
     "metadata": {},
     "output_type": "display_data"
    },
    {
     "data": {
      "text/html": [
       "0.162911688311688"
      ],
      "text/latex": [
       "0.162911688311688"
      ],
      "text/markdown": [
       "0.162911688311688"
      ],
      "text/plain": [
       "[1] 0.1629117"
      ]
     },
     "metadata": {},
     "output_type": "display_data"
    }
   ],
   "source": [
    "rfmix.data %>% \n",
    "rename(\"afr\" = 2, \"amr\" = 3, \"eas\" = 4, \"eur\" = 5, \"sas\" = 6) %>%\n",
    "arrange(-afr) %>%\n",
    "head()\n",
    "\n",
    "#Calculate the average African ancestry fraction for all African cell lines\n",
    "rfmix.data %>% \n",
    "rename(\"afr\" = 2, \"amr\" = 3, \"eas\" = 4, \"eur\" = 5, \"sas\" = 6) %>%\n",
    "filter(afr > 0.8) %>%\n",
    "pull(afr) %>%\n",
    "mean()\n",
    "\n",
    "#Calculate the average European ancestry fraction for all European cell lines\n",
    "rfmix.data %>% \n",
    "rename(\"afr\" = 2, \"amr\" = 3, \"eas\" = 4, \"eur\" = 5, \"sas\" = 6) %>%\n",
    "filter(eur > 0.8) %>%\n",
    "pull(eur) %>%\n",
    "mean()\n",
    "\n",
    "#Calculate the average European ancestry fraction for all European cell lines\n",
    "rfmix.data %>% \n",
    "rename(\"afr\" = 2, \"amr\" = 3, \"eas\" = 4, \"eur\" = 5, \"sas\" = 6) %>%\n",
    "filter(eas > 0.8) %>%\n",
    "pull(eas) %>%\n",
    "mean()\n",
    "\n",
    "#For admixed cell lines, calculate the average American ancestry across all cell lines\n",
    "rfmix.data %>%\n",
    "rename(\"afr\" = 2, \"amr\" = 3, \"eas\" = 4, \"eur\" = 5, \"sas\" = 6) %>%\n",
    "filter(amr < 0.8) %>%\n",
    "filter(afr < 0.8) %>%\n",
    "filter(eas < 0.8) %>%\n",
    "filter(eur < 0.8) %>%\n",
    "filter(sas < 0.8) %>%\n",
    "pull(amr) %>%\n",
    "mean()\n",
    "\n"
   ]
  }
 ],
 "metadata": {
  "kernelspec": {
   "display_name": "R",
   "language": "R",
   "name": "ir"
  },
  "language_info": {
   "codemirror_mode": "r",
   "file_extension": ".r",
   "mimetype": "text/x-r-source",
   "name": "R",
   "pygments_lexer": "r",
   "version": "4.3.2"
  }
 },
 "nbformat": 4,
 "nbformat_minor": 2
}
