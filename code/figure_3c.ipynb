{
 "cells": [
  {
   "cell_type": "code",
   "execution_count": 5,
   "metadata": {
    "vscode": {
     "languageId": "r"
    }
   },
   "outputs": [
    {
     "name": "stderr",
     "output_type": "stream",
     "text": [
      "\n",
      "Attaching package: ‘data.table’\n",
      "\n",
      "\n",
      "The following objects are masked from ‘package:lubridate’:\n",
      "\n",
      "    hour, isoweek, mday, minute, month, quarter, second, wday, week,\n",
      "    yday, year\n",
      "\n",
      "\n",
      "The following objects are masked from ‘package:dplyr’:\n",
      "\n",
      "    between, first, last\n",
      "\n",
      "\n",
      "The following object is masked from ‘package:purrr’:\n",
      "\n",
      "    transpose\n",
      "\n",
      "\n",
      "The following objects are masked from ‘package:reshape2’:\n",
      "\n",
      "    dcast, melt\n",
      "\n",
      "\n"
     ]
    }
   ],
   "source": [
    "#Set up the environment\n",
    "library(reshape2)\n",
    "library(tidyverse)\n",
    "library(data.table)"
   ]
  },
  {
   "cell_type": "code",
   "execution_count": 9,
   "metadata": {
    "vscode": {
     "languageId": "r"
    }
   },
   "outputs": [],
   "source": [
    "#Load in the depmap guide blacklist data (from sequencing)\n",
    "setwd(\"../data\")\n",
    "avana.blacklist = fread(\"OmicsGuideMutationsBinaryAvana.csv\", sep = \",\", header = T)\n",
    "humagne.blacklist = fread(\"OmicsGuideMutationsBinaryHumagne.csv\", sep = \",\", header = T)\n",
    "ky.blacklist = fread(\"OmicsGuideMutationsBinaryKY.csv\", sep = \",\", header = T)\n",
    "\n",
    "#Load in the guide map data\n",
    "setwd(\"../data\")\n",
    "avana.guide.map = fread(\"AvanaGuideMap.csv\", sep = \",\", header = T) %>% mutate(Gene = word(Gene, 1))\n",
    "humagne.guide.map = fread(\"HumagneGuideMap.csv\", sep = \",\", header = T) %>% mutate(Gene = word(Gene, 1))\n",
    "ky.guide.map = fread(\"KYGuideMap.csv\", sep = \",\", header = T) %>% mutate(Gene = word(Gene, 1))"
   ]
  },
  {
   "cell_type": "code",
   "execution_count": 12,
   "metadata": {
    "vscode": {
     "languageId": "r"
    }
   },
   "outputs": [],
   "source": [
    "#Calculate the total number of lines a guide is blacklisted in \n",
    "avana.affected.rate = avana.blacklist %>%\n",
    "select(-chrom, -start, -end, -sgRNA) %>%\n",
    "apply(1, sum) %>%\n",
    "cbind(avana.blacklist$sgRNA, .) %>%\n",
    "data.frame() %>%\n",
    "rename(\"sgrna\" = 1, \"num_affected\" = 2) %>%\n",
    "mutate(\"gene\" = plyr::mapvalues(from = avana.guide.map$sgRNA, to = avana.guide.map$Gene, sgrna, warn_missing = FALSE)) %>%\n",
    "mutate(\"dataset\" = \"avana\")\n",
    "\n",
    "\n",
    "humagne.affected.rate = humagne.blacklist %>%\n",
    "select(-chrom, -start, -end, -sgRNA) %>%\n",
    "apply(1, sum) %>%\n",
    "cbind(humagne.blacklist$sgRNA, .) %>%\n",
    "data.frame() %>%\n",
    "rename(\"sgrna\" = 1, \"num_affected\" = 2) %>%\n",
    "mutate(\"gene\" = plyr::mapvalues(from = humagne.guide.map$sgRNA, to = humagne.guide.map$Gene, sgrna, warn_missing = FALSE)) %>%\n",
    "mutate(\"dataset\" = \"humange\")\n",
    "\n",
    "\n",
    "ky.affected.rate = ky.blacklist %>%\n",
    "select(-chrom, -start, -end, -sgRNA) %>%\n",
    "apply(1, sum) %>%\n",
    "cbind(ky.blacklist$sgRNA, .) %>%\n",
    "data.frame() %>%\n",
    "rename(\"sgrna\" = 1, \"num_affected\" = 2) %>%\n",
    "mutate(\"gene\" = plyr::mapvalues(from = ky.guide.map$sgRNA, to = ky.guide.map$Gene, sgrna, warn_missing = FALSE)) %>%\n",
    "mutate(\"dataset\" = \"ky\")\n"
   ]
  },
  {
   "cell_type": "code",
   "execution_count": 13,
   "metadata": {
    "vscode": {
     "languageId": "r"
    }
   },
   "outputs": [
    {
     "data": {
      "text/html": [
       "<table class=\"dataframe\">\n",
       "<caption>A data.frame: 6 × 4</caption>\n",
       "<thead>\n",
       "\t<tr><th></th><th scope=col>chr</th><th scope=col>start</th><th scope=col>end</th><th scope=col>sgrna</th></tr>\n",
       "\t<tr><th></th><th scope=col>&lt;chr&gt;</th><th scope=col>&lt;int&gt;</th><th scope=col>&lt;dbl&gt;</th><th scope=col>&lt;chr&gt;</th></tr>\n",
       "</thead>\n",
       "<tbody>\n",
       "\t<tr><th scope=row>1</th><td>chr1</td><td> 69527</td><td> 69550</td><td>TCTCCATTCGGTGAGCCAGT</td></tr>\n",
       "\t<tr><th scope=row>2</th><td>chr1</td><td>168646</td><td>168669</td><td>TGTAGTCCCAGCTACTCAGG</td></tr>\n",
       "\t<tr><th scope=row>3</th><td>chr1</td><td>383420</td><td>383443</td><td>GAGAATCTCTTGAACCCGGG</td></tr>\n",
       "\t<tr><th scope=row>4</th><td>chr1</td><td>424270</td><td>424293</td><td>TGTAATCCCAGTACTTTGGG</td></tr>\n",
       "\t<tr><th scope=row>5</th><td>chr1</td><td>451271</td><td>451294</td><td>ATAATGGTCAGATAGTGGAG</td></tr>\n",
       "\t<tr><th scope=row>6</th><td>chr1</td><td>451344</td><td>451367</td><td>TCTCCACACCACCAACGACG</td></tr>\n",
       "</tbody>\n",
       "</table>\n"
      ],
      "text/latex": [
       "A data.frame: 6 × 4\n",
       "\\begin{tabular}{r|llll}\n",
       "  & chr & start & end & sgrna\\\\\n",
       "  & <chr> & <int> & <dbl> & <chr>\\\\\n",
       "\\hline\n",
       "\t1 & chr1 &  69527 &  69550 & TCTCCATTCGGTGAGCCAGT\\\\\n",
       "\t2 & chr1 & 168646 & 168669 & TGTAGTCCCAGCTACTCAGG\\\\\n",
       "\t3 & chr1 & 383420 & 383443 & GAGAATCTCTTGAACCCGGG\\\\\n",
       "\t4 & chr1 & 424270 & 424293 & TGTAATCCCAGTACTTTGGG\\\\\n",
       "\t5 & chr1 & 451271 & 451294 & ATAATGGTCAGATAGTGGAG\\\\\n",
       "\t6 & chr1 & 451344 & 451367 & TCTCCACACCACCAACGACG\\\\\n",
       "\\end{tabular}\n"
      ],
      "text/markdown": [
       "\n",
       "A data.frame: 6 × 4\n",
       "\n",
       "| <!--/--> | chr &lt;chr&gt; | start &lt;int&gt; | end &lt;dbl&gt; | sgrna &lt;chr&gt; |\n",
       "|---|---|---|---|---|\n",
       "| 1 | chr1 |  69527 |  69550 | TCTCCATTCGGTGAGCCAGT |\n",
       "| 2 | chr1 | 168646 | 168669 | TGTAGTCCCAGCTACTCAGG |\n",
       "| 3 | chr1 | 383420 | 383443 | GAGAATCTCTTGAACCCGGG |\n",
       "| 4 | chr1 | 424270 | 424293 | TGTAATCCCAGTACTTTGGG |\n",
       "| 5 | chr1 | 451271 | 451294 | ATAATGGTCAGATAGTGGAG |\n",
       "| 6 | chr1 | 451344 | 451367 | TCTCCACACCACCAACGACG |\n",
       "\n"
      ],
      "text/plain": [
       "  chr  start  end    sgrna               \n",
       "1 chr1  69527  69550 TCTCCATTCGGTGAGCCAGT\n",
       "2 chr1 168646 168669 TGTAGTCCCAGCTACTCAGG\n",
       "3 chr1 383420 383443 GAGAATCTCTTGAACCCGGG\n",
       "4 chr1 424270 424293 TGTAATCCCAGTACTTTGGG\n",
       "5 chr1 451271 451294 ATAATGGTCAGATAGTGGAG\n",
       "6 chr1 451344 451367 TCTCCACACCACCAACGACG"
      ]
     },
     "metadata": {},
     "output_type": "display_data"
    }
   ],
   "source": [
    "#Load in the avana bed file\n",
    "setwd(\"../data\")\n",
    "avana.bed <- read.table('Avana14_filtering.bed', sep = \"\\t\", header = F) %>%\n",
    "rename(\"chr\" = 1, \"start\" = 2, \"end\" = 3, \"sgrna\" = 4) \n",
    "head(avana.bed)"
   ]
  },
  {
   "cell_type": "code",
   "execution_count": 14,
   "metadata": {
    "vscode": {
     "languageId": "r"
    }
   },
   "outputs": [
    {
     "name": "stderr",
     "output_type": "stream",
     "text": [
      "Warning message:\n",
      "“\u001b[1m\u001b[22mThere was 1 warning in `filter()`.\n",
      "\u001b[1m\u001b[22m\u001b[36mℹ\u001b[39m In argument: `sgrna %in% all_of(avana.bed$sgrna)`.\n",
      "Caused by warning:\n",
      "\u001b[1m\u001b[22m\u001b[33m!\u001b[39m Using `all_of()` outside of a selecting function was deprecated in tidyselect\n",
      "  1.2.0.\n",
      "\u001b[36mℹ\u001b[39m See details at\n",
      "  <https://tidyselect.r-lib.org/reference/faq-selection-context.html>”\n"
     ]
    },
    {
     "data": {
      "image/png": "[encoded data removed]",
      "text/plain": [
       "plot without title"
      ]
     },
     "metadata": {
      "image/png": {
       "height": 420,
       "width": 420
      }
     },
     "output_type": "display_data"
    }
   ],
   "source": [
    "#Plot the plot\n",
    "avana.affected.rate %>%\n",
    "data.frame() %>%\n",
    "filter(!str_detect(gene, 'INTERGENIC')) %>%\n",
    "mutate(num_affected = as.numeric(num_affected)) %>%\n",
    "filter(sgrna %in% all_of(avana.bed$sgrna)) %>%\n",
    "mutate(\"is_affected\" = ifelse(num_affected >= 1, 1, 0)) %>%\n",
    "group_by(gene) %>%\n",
    "summarise(\"num_guides_affected\" = sum(is_affected)) %>%\n",
    "group_by(num_guides_affected) %>%\n",
    "summarise(\"num_genes_in_class\" = n()) %>%\n",
    "filter(num_guides_affected <= 4) %>%\n",
    "ggplot(aes(x = as.character(num_guides_affected), y = num_genes_in_class)) +\n",
    "geom_bar(stat = \"identity\") +\n",
    "\n",
    "theme_bw() +\n",
    "\n",
    "theme(\n",
    "panel.grid.major = element_blank(),\n",
    "panel.grid.minor = element_blank(), \n",
    ") +\n",
    "\n",
    "theme(\n",
    "axis.title.x = element_text(color = \"black\", size = 12),\n",
    "axis.title.y = element_text(color = \"black\", size = 12)\n",
    ") +\n",
    "\n",
    "theme(\n",
    "axis.text = element_text(size = 12),\n",
    "axis.title = element_text(size = 12)\n",
    ") +\n",
    "\n",
    "theme(\n",
    "legend.title = element_text(size = 12),\n",
    "legend.text = element_text(size = 12)\n",
    ") +\n",
    "\n",
    "scale_y_continuous(breaks = seq(1, 6, by = 1)) +\n",
    "\n",
    "ylab(\"Number of genes\") +\n",
    "xlab(\"Number of guides with mismatch\")\n",
    "\n",
    "#Export it to the google bucket\n",
    "setwd('../output')\n",
    "ggsave(\"figure_3c.pdf\", width = 5, height = 3)"
   ]
  },
  {
   "cell_type": "code",
   "execution_count": 15,
   "metadata": {
    "vscode": {
     "languageId": "r"
    }
   },
   "outputs": [],
   "source": [
    "#Also export the df\n",
    "df_for_export = avana.affected.rate %>%\n",
    "data.frame() %>%\n",
    "filter(!str_detect(gene, 'INTERGENIC')) %>%\n",
    "mutate(num_affected = as.numeric(num_affected)) %>%\n",
    "filter(sgrna %in% all_of(avana.bed$sgrna)) %>%\n",
    "mutate(\"is_affected\" = ifelse(num_affected >= 1, 1, 0)) %>%\n",
    "group_by(gene) %>%\n",
    "summarise(\"num_guides_affected\" = sum(is_affected)) %>%\n",
    "group_by(num_guides_affected) %>%\n",
    "summarise(\"num_genes_in_class\" = n()) %>%\n",
    "filter(num_guides_affected <= 4)\n",
    "\n",
    "setwd(\"../output\")\n",
    "write.table(df_for_export, \"figure_3c_avana_affected_rate.txt\", sep = \"\\t\", col.names = TRUE, row.names = FALSE, quote = FALSE)"
   ]
  }
 ],
 "metadata": {
  "kernelspec": {
   "display_name": "R",
   "language": "R",
   "name": "ir"
  },
  "language_info": {
   "codemirror_mode": "r",
   "file_extension": ".r",
   "mimetype": "text/x-r-source",
   "name": "R",
   "pygments_lexer": "r",
   "version": "4.3.3"
  }
 },
 "nbformat": 4,
 "nbformat_minor": 2
}
