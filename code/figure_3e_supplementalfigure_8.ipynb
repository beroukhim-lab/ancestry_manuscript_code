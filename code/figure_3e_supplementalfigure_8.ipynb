{
 "cells": [
  {
   "cell_type": "code",
   "execution_count": 13,
   "metadata": {
    "vscode": {
     "languageId": "r"
    }
   },
   "outputs": [
    {
     "name": "stderr",
     "output_type": "stream",
     "text": [
      "\n",
      "Attaching package: ‘janitor’\n",
      "\n",
      "\n",
      "The following objects are masked from ‘package:stats’:\n",
      "\n",
      "    chisq.test, fisher.test\n",
      "\n",
      "\n"
     ]
    }
   ],
   "source": [
    "#Set up the environment\n",
    "library(reshape2)\n",
    "library(tidyverse)\n",
    "library(data.table)\n",
    "library(janitor)"
   ]
  },
  {
   "cell_type": "code",
   "execution_count": 2,
   "metadata": {
    "vscode": {
     "languageId": "r"
    }
   },
   "outputs": [],
   "source": [
    "#Load in the avana bed file\n",
    "setwd(\"../data\")\n",
    "avana.bed <- read.table('Avana14_filtering.bed', sep = \"\\t\", header = F) %>%\n",
    "rename(\"chr\" = 1, \"start\" = 2, \"end\" = 3, \"sgrna\" = 4)"
   ]
  },
  {
   "cell_type": "code",
   "execution_count": 3,
   "metadata": {
    "vscode": {
     "languageId": "r"
    }
   },
   "outputs": [],
   "source": [
    "#First, load in the guide map so that we can figure out which guides are on the plus or minus strand\n",
    "setwd(\"../data\")\n",
    "guide.map = read.table(\"21q4_Achilles_guide_map.csv\", header = T, sep = \",\") %>%\n",
    "select(sgrna, genome_alignment) %>%\n",
    "mutate(genome_alignment = gsub(\"..*_\", \"\", genome_alignment)) %>%\n",
    "rename(\"strand\" = genome_alignment) %>%\n",
    "distinct(sgrna, .keep_all = TRUE)\n",
    "\n",
    "#Load in the Avana bed file to get positions for the ancestry-associated guides\n",
    "#Also add the annotation information from guides.to.keep to the avana.bed matrix\n",
    "#Also flip the start and end positions if the sgrna is on the minus strand\n",
    "setwd(\"../data\")\n",
    "avana.bed <- read.table('Avana14_filtering.bed', sep = \"\\t\", header = F) %>%\n",
    "rename(\"chr\" = 1, \"start\" = 2, \"end\" = 3, \"sgrna\" = 4) %>%\n",
    "inner_join(guide.map, by = \"sgrna\") %>%\n",
    "mutate(\"true_start\" = ifelse(strand %in% \"+\", start, end)) %>%\n",
    "mutate(\"true_end\" = ifelse(strand %in% \"+\", end, start))%>% #This line and the line above will create two new columns to flip the start and end if the sgrna is on the minus strand\n",
    "select(chr, true_start, true_end, sgrna) %>%\n",
    "rename(\"start\" = true_start) %>%\n",
    "rename(\"end\" = true_end)"
   ]
  },
  {
   "cell_type": "code",
   "execution_count": null,
   "metadata": {
    "vscode": {
     "languageId": "r"
    }
   },
   "outputs": [],
   "source": [
    "#Filter the ccle variant calls so that it only includes SNPs that map to at least one sgRNA targeting sequence\n",
    "#Now use bcftools to subset the big ccle snp matrix to only include SNPs in that range\n",
    "#system(glue::glue(\"\n",
    "#cd /home/jupyter/Ancestry/rfmix\n",
    "#/home/jupyter/Ancestry/software/bcftools/bcftools view -R /home/jupyter/Ancestry/filtered_output/avana14/Avana14_filtering.bed split.all_chroms.maf.subset.reheader.vcf.gz -o /home/jupyter/Ancestry/analysis/map_ccle_snps_to_avana_guides/snps.in.all.avana.guides.vcf.gz -Oz\n",
    "#\"))"
   ]
  },
  {
   "cell_type": "code",
   "execution_count": 6,
   "metadata": {
    "vscode": {
     "languageId": "r"
    }
   },
   "outputs": [],
   "source": [
    "#First, load in the ccle variants and format the dataset so that it looks nice\n",
    "setwd(\"../data\")\n",
    "ccle.variant.calls = read.table(\"snps.in.all.avana.guides.vcf.gz\", sep = \"\\t\") %>%\n",
    "filter(V7 %in% \"PASS\") %>%\n",
    "select(-V1, -V2, -V4, -V5, -V6, -V7, -V8, -V9)\n",
    "\n",
    "#Reformat the genotyping data\n",
    "ccle.variant.calls[2:ncol(ccle.variant.calls)] = apply(ccle.variant.calls[2:ncol(ccle.variant.calls)], 2, function(x){gsub(\":..*\", \"\", x) })\n",
    "ccle.variant.calls[2:ncol(ccle.variant.calls)] = apply(ccle.variant.calls[2:ncol(ccle.variant.calls)], 2, function(x){gsub(\"0\\\\|0\", 0, x) })\n",
    "ccle.variant.calls[2:ncol(ccle.variant.calls)] = apply(ccle.variant.calls[2:ncol(ccle.variant.calls)], 2, function(x){gsub(\"0\\\\|1\", 1, x) })\n",
    "ccle.variant.calls[2:ncol(ccle.variant.calls)] = apply(ccle.variant.calls[2:ncol(ccle.variant.calls)], 2, function(x){gsub(\"1\\\\|0\", 1, x) })\n",
    "ccle.variant.calls[2:ncol(ccle.variant.calls)] = apply(ccle.variant.calls[2:ncol(ccle.variant.calls)], 2, function(x){gsub(\"1\\\\|1\", 2, x) })\n",
    "\n",
    "#Fix the SNP column\n",
    "ccle.variant.calls = ccle.variant.calls %>%\n",
    "separate(V3, sep = \":\", into = c(\"chr\", \"pos\", \"ref\", \"alt\"))\n",
    "\n",
    "\n",
    "#Then fix the names on that dataset\n",
    "#First extract the sample names from the vcf file, then load them into R\n",
    "#system(glue::glue(\"\n",
    "#cd /home/jupyter/Ancestry/analysis/map_ccle_snps_to_avana_guides\n",
    "#/home/jupyter/Ancestry/software/bcftools/bcftools query -l /home/jupyter/Ancestry/analysis/map_ccle_snps_to_avana_guides/snps.in.ancestry.guides.vcf.gz > ccle.vcf.sample.names.txt\n",
    "#\"))\n",
    "\n",
    "#Load in the sample names\n",
    "setwd(\"../data\")\n",
    "sample.names = read.table(\"ccle.vcf.sample.names.txt\", sep = \"\\t\") %>%\n",
    "pull(1)\n",
    "\n",
    "#Add the sample names\n",
    "ccle.variant.calls = ccle.variant.calls\n",
    "colnames(ccle.variant.calls) = c(\"chr\", \"pos\", \"ref\", \"alt\", sample.names)"
   ]
  },
  {
   "cell_type": "code",
   "execution_count": 7,
   "metadata": {
    "vscode": {
     "languageId": "r"
    }
   },
   "outputs": [],
   "source": [
    "#For each guide in avana.bed calculate if there is a snp in the guide, then calculate the position of that SNP\n",
    "snp.in.guide.list = NULL\n",
    "for(i in 1:nrow(avana.bed)){\n",
    "  \n",
    "    #get information for the guide of interest\n",
    "    guide.start = avana.bed$start[i] %>% as.numeric() #get the position of the guide\n",
    "    guide.chrom = avana.bed$chr[i] #get the chromosome that the guide is on\n",
    "    sgrna.barcode = avana.bed$sgrna[i] #get the barcode sequence\n",
    "    \n",
    "    #subset out subset.ccle.snps so that it only includes snps on that chromsome\n",
    "    subset.to.chr = ccle.variant.calls %>% filter(chr %in% guide.chrom)\n",
    "    \n",
    "    #now calculate the differential and add it to the list outside of the loop\n",
    "    snp.position = guide.start - as.numeric(subset.to.chr$pos)\n",
    "    snp.in.guide.list[[i]] = snp.position\n",
    "}\n",
    "names(snp.in.guide.list) = avana.bed$sgrna #Then name the list with the corresponding sgrna sequence"
   ]
  },
  {
   "cell_type": "code",
   "execution_count": 8,
   "metadata": {
    "vscode": {
     "languageId": "r"
    }
   },
   "outputs": [],
   "source": [
    "#Assign the SNP ID as names for each vector\n",
    "\n",
    "annotated.snp.in.guide.list = NULL\n",
    "for(i in 1:length(snp.in.guide.list)){\n",
    "        \n",
    "    chromosome = avana.bed$chr[i] #get the chromosome which that guide targets\n",
    "    \n",
    "    #Now get a vector of snp positions and annotate the relative snp position vector with that information\n",
    "    vector.to.annotate = snp.in.guide.list[[i]] #grab the vector that we need to annotate in this loop\n",
    "    snp.vector = ccle.variant.calls %>% filter(chr %in% chromosome) %>% mutate(snp = paste(chr, \":\", pos, \":\", ref, \":\", alt, sep = \"\")) %>% pull(snp) #make a vector that contains the snp information\n",
    "    names(vector.to.annotate) = snp.vector #now apply that annotation to the vector of snp positions\n",
    "    \n",
    "    #Report the information outside of the loop\n",
    "    annotated.snp.in.guide.list[[i]] = vector.to.annotate\n",
    "    \n",
    "}\n",
    "\n",
    "names(annotated.snp.in.guide.list) = avana.bed$sgrna #Then name the list with the corresponding sgrna sequence"
   ]
  },
  {
   "cell_type": "code",
   "execution_count": 9,
   "metadata": {
    "vscode": {
     "languageId": "r"
    }
   },
   "outputs": [],
   "source": [
    "#Go through the list and remove the SNPs that don't map to a sgrna\n",
    "pruned.snp.list = annotated.snp.in.guide.list %>%\n",
    "lapply(function(x){\n",
    "    vector = abs(x)\n",
    "    val.to.return = vector[vector %in% 0:22]\n",
    "    return(val.to.return)\n",
    "}) %>% compact(1) #compact is part of the purrr package and will remove guides that don't have a SNP"
   ]
  },
  {
   "cell_type": "code",
   "execution_count": 10,
   "metadata": {
    "vscode": {
     "languageId": "r"
    }
   },
   "outputs": [],
   "source": [
    "#Now let's go through and create a nice data frame from this list.\n",
    "\n",
    "snp.in.guide.df = NULL\n",
    "for(i in 1:length(pruned.snp.list)){\n",
    "    \n",
    "   sgrna = pruned.snp.list[[i]] #this is a vector (normally length = 1, sometimes more with all of the snps that map to a vector)\n",
    "   \n",
    "    #If there is only one snp that maps to that sgrna, simply construct the vector and add it to the data frame\n",
    "    #If there is more than one snp, then we need to get a little more fancy and construct a data frame first\n",
    "    if(length(sgrna) == 1){\n",
    "        sgrna = names(pruned.snp.list[i]) #get the sgrna for this iteration of the loop\n",
    "        snp = names(pruned.snp.list[[i]]) #get the snp code for this iteration of the loop\n",
    "        position = pruned.snp.list[[i]] #Get the relative position of the SNP on the guide for this iteration of the loop\n",
    "        vector.to.add = c(sgrna, snp, position) #Make a vector of values to add to the data frame\n",
    "        snp.in.guide.df = rbind(snp.in.guide.df, vector.to.add) %>% data.frame() %>% #Then add that vector to the data frame\n",
    "        rename(\"sgrna\" = 1, \"snp\" = 2, \"position\" = 3)  \n",
    "    } else {\n",
    "        sgrna = names(pruned.snp.list[i]) #get the sgrna for this iteration of the loop\n",
    "        sgrna.vector = rep(sgrna, length(pruned.snp.list[[i]])) #get a vector that contains the sgrna now, length = #snps\n",
    "        snp.vector = names(pruned.snp.list[[i]]) #get the snp code for this iteration of the loop\n",
    "        position.vector = pruned.snp.list[[i]] #Get the relative position of the SNP on the guide for this iteration of the loop\n",
    "        df.to.add = cbind(sgrna.vector, snp.vector, position.vector) %>% data.frame() %>%\n",
    "        rename(\"sgrna\" = 1, \"snp\" = 2, \"position\" = 3) #bind it all into a data frame\n",
    "        snp.in.guide.df = rbind(snp.in.guide.df, df.to.add) %>% data.frame() %>%\n",
    "        rename(\"sgrna\" = 1, \"snp\" = 2, \"position\" = 3)\n",
    " }\n",
    "}\n",
    "\n",
    "row.names(snp.in.guide.df) = NULL #remove the row names on the new df since they are useless"
   ]
  },
  {
   "cell_type": "code",
   "execution_count": 11,
   "metadata": {
    "vscode": {
     "languageId": "r"
    }
   },
   "outputs": [],
   "source": [
    "#First, load in the guide-level data\n",
    "setwd(\"../data\")\n",
    "replicate.map = read.table(\"21q4_Achilles_replicate_map.csv\", sep = \",\", header = T)\n",
    "guide.map = read.table(\"21q4_Achilles_guide_map.csv\", sep = \",\", header = T)\n",
    "guide.level.data = fread(\"21q4_Achilles_logfold_change.csv\", sep = \",\", header = T, check.names = FALSE)"
   ]
  },
  {
   "cell_type": "code",
   "execution_count": 14,
   "metadata": {
    "vscode": {
     "languageId": "r"
    }
   },
   "outputs": [
    {
     "name": "stderr",
     "output_type": "stream",
     "text": [
      "Warning message:\n",
      "“The melt generic in data.table has been passed a data.frame and will attempt to redirect to the relevant reshape2 method; please note that reshape2 is superseded and is no longer actively developed, and this redirection is now deprecated. To continue using melt methods from reshape2 while both libraries are attached, e.g. melt.list, you can prepend the namespace, i.e. reshape2::melt(.). In the next version, this warning will become an error.”\n",
      "\u001b[1m\u001b[22m`summarise()` has grouped output by 'sample'. You can override using the\n",
      "`.groups` argument.\n",
      "Warning message:\n",
      "“The dcast generic in data.table has been passed a grouped_df and will attempt to redirect to the relevant reshape2 method; please note that reshape2 is superseded and is no longer actively developed, and this redirection is now deprecated. Please do this redirection yourself like reshape2::dcast(.). In the next version, this warning will become an error.”\n",
      "Using 'mean(value)' as value column. Use 'value.var' to override\n",
      "\n"
     ]
    }
   ],
   "source": [
    "#Get a list of guides that we want to keep\n",
    "guides.to.keep = snp.in.guide.df %>%\n",
    "pull(sgrna)\n",
    "\n",
    "\n",
    "#First, subset the logfc data so that it only includes the guides we are interested in.\n",
    "#Then collapse and average by sample\n",
    "guide.level.data = guide.level.data %>%\n",
    "rename(\"sgrna\" = 1) %>%\n",
    "filter(sgrna %in% guides.to.keep) %>%\n",
    "t() %>%\n",
    "data.frame() %>% \n",
    "row_to_names(1, remove_rows_above = FALSE) %>%\n",
    "rownames_to_column(\"sample\") %>%\n",
    "mutate(sample = plyr::mapvalues(sample, from = replicate.map$replicate_ID, to = replicate.map$DepMap_ID, warn_missing = FALSE)) %>%\n",
    "melt(id = \"sample\") %>%\n",
    "mutate(value = as.numeric(value)) %>%\n",
    "group_by(sample, variable) %>%\n",
    "summarise(mean(value)) %>%\n",
    "dcast(sample ~ variable)"
   ]
  },
  {
   "cell_type": "code",
   "execution_count": 15,
   "metadata": {
    "vscode": {
     "languageId": "r"
    }
   },
   "outputs": [],
   "source": [
    "#Process ccle.variant.calls so that it is ready for doing our analysis.\n",
    "ccle.variant.calls.for.analysis = ccle.variant.calls %>%\n",
    "mutate(snp = paste(chr, \":\", pos, \":\", ref, \":\", alt, sep =\"\"), .before = chr) %>%\n",
    "select(-chr, -pos, -ref, -alt)"
   ]
  },
  {
   "cell_type": "code",
   "execution_count": 16,
   "metadata": {
    "vscode": {
     "languageId": "r"
    }
   },
   "outputs": [],
   "source": [
    "#Now loop through all of the variants in 'snp.in.guide.df' and calculate whether that SNP is associated with the guide \n",
    "\n",
    "pval.output = NULL\n",
    "for(i in 1:nrow(snp.in.guide.df)){\n",
    "  \n",
    "    \n",
    "    sgrna.of.interest = snp.in.guide.df$sgrna[i] #get the sgrna we are interested in\n",
    "    snp.of.interest = snp.in.guide.df$snp[i] #get the snp we are interested in\n",
    "    \n",
    "    #First get two vectors of cell line IDs with or without the SNP\n",
    "    lines.with.snp = ccle.variant.calls.for.analysis %>%\n",
    "    filter(snp %in% snp.of.interest) %>%\n",
    "    select(-snp) %>%\n",
    "    apply(2, as.numeric) %>%\n",
    "    .[. > 0] %>%\n",
    "    names(.)\n",
    "\n",
    "    lines.without.snp = setdiff(colnames(ccle.variant.calls.for.analysis[2:ncol(ccle.variant.calls.for.analysis)]), lines.with.snp)\n",
    "\n",
    "    \n",
    "    #Get vectors of values for the sgrna scores for cell lines with or without the snp\n",
    "    with.snp.scores = guide.level.data %>%\n",
    "    select(sample, all_of(sgrna.of.interest)) %>%\n",
    "    rename(\"sgrna\" = 2) %>%\n",
    "    filter(sample %in% lines.with.snp) %>%\n",
    "    pull(sgrna) %>%\n",
    "    as.numeric(.)\n",
    "    \n",
    "    without.snp.scores = guide.level.data %>%\n",
    "    select(sample, all_of(sgrna.of.interest)) %>%\n",
    "    rename(\"sgrna\" = 2) %>%\n",
    "    filter(sample %in% lines.without.snp) %>%\n",
    "    pull(sgrna) %>%\n",
    "    as.numeric(.)\n",
    "    \n",
    "    \n",
    "    #Perform a t-test\n",
    "    \n",
    "    if(length(with.snp.scores) >= 10 && length(without.snp.scores) >= 10){\n",
    "    pval = t.test(with.snp.scores, without.snp.scores, alternative = \"two.sided\")$p.value } else {\n",
    "    pval = 1\n",
    "    }\n",
    "    \n",
    "    \n",
    "    #return the data to the object outside of the loop\n",
    "    pval.output = c(pval.output, pval)\n",
    "}"
   ]
  },
  {
   "cell_type": "code",
   "execution_count": 17,
   "metadata": {
    "vscode": {
     "languageId": "r"
    }
   },
   "outputs": [],
   "source": [
    "#bind the p-values back into the main data frame and calculate fdr\n",
    "final.df = snp.in.guide.df %>%\n",
    "mutate(pval = pval.output) %>%\n",
    "mutate(\"fdr\" = p.adjust(pval.output, method = \"BH\", n = length(pval.output))) %>%\n",
    "mutate(position = factor(position, levels = 0:22)) %>%\n",
    "rename(\"pval\" = 4, \"fdr\" = 5) "
   ]
  },
  {
   "cell_type": "code",
   "execution_count": 19,
   "metadata": {
    "vscode": {
     "languageId": "r"
    }
   },
   "outputs": [],
   "source": [
    "#Write this as an output file\n",
    "setwd(\"../output\")\n",
    "write.table(final.df, \"snv_position_single_guide_finaldf.txt\", sep = \"\\t\", col.names = TRUE, row.names = FALSE, quote = FALSE)"
   ]
  },
  {
   "cell_type": "code",
   "execution_count": 21,
   "metadata": {
    "vscode": {
     "languageId": "r"
    }
   },
   "outputs": [],
   "source": [
    "#Load in the John Doench data\n",
    "setwd(\"../data\")\n",
    "doench.data = read.table(\"Doench_Data.txt\", sep = \"\\t\", header = T)"
   ]
  },
  {
   "cell_type": "code",
   "execution_count": 22,
   "metadata": {
    "vscode": {
     "languageId": "r"
    }
   },
   "outputs": [],
   "source": [
    "#Calculate the median pval at each site\n",
    "doench.median.pvals = doench.data %>%\n",
    "group_by(Position) %>%\n",
    "summarise(median(t.test.p.value)) %>%\n",
    "data.frame() %>%\n",
    "rename(\"position\" = 1, \"median_pval\" = 2) %>%\n",
    "mutate(index = seq(from = 0, to = 19, by = 1))"
   ]
  },
  {
   "cell_type": "code",
   "execution_count": 23,
   "metadata": {
    "vscode": {
     "languageId": "r"
    }
   },
   "outputs": [
    {
     "name": "stderr",
     "output_type": "stream",
     "text": [
      "Warning message:\n",
      "“\u001b[1m\u001b[22mRemoved 255 rows containing non-finite outside the scale range\n",
      "(`stat_boxplot()`).”\n",
      "Warning message:\n",
      "“\u001b[1m\u001b[22mRemoved 255 rows containing non-finite outside the scale range\n",
      "(`stat_boxplot()`).”\n"
     ]
    },
    {
     "data": {
      "image/png": "[encoded data removed]",
      "text/plain": [
       "plot without title"
      ]
     },
     "metadata": {
      "image/png": {
       "height": 420,
       "width": 420
      }
     },
     "output_type": "display_data"
    }
   ],
   "source": [
    "#Now plot the plot\n",
    "final.df %>%\n",
    "filter(position %in% c(0:19)) %>%\n",
    "ggplot() +\n",
    "geom_boxplot(outlier.shape = NA, aes(x = position, y = -log10(pval))) +\n",
    "geom_point(data = doench.median.pvals, shape = 19, size = 3, color = \"blue\", aes(x = position, y = -log10(median_pval))) +\n",
    "theme_bw() +\n",
    "\n",
    "theme(\n",
    "panel.grid.major = element_blank(),\n",
    "panel.grid.minor = element_blank(), \n",
    "axis.line = element_line(color = \"black\")\n",
    ") +\n",
    "\n",
    "theme(\n",
    "axis.title.x = element_text(size = 12),\n",
    "axis.title.y = element_text(size = 12,)\n",
    ") +\n",
    "\n",
    "theme(\n",
    "axis.text=element_text(size = 12),\n",
    "axis.title=element_text(size = 12)\n",
    ") +\n",
    "\n",
    "theme(\n",
    "legend.title = element_text(size = 12),\n",
    "legend.text = element_text(size = 12)\n",
    ") +\n",
    "\n",
    "scale_y_continuous(breaks = seq(0, 15, by = 3), limits = c(0,15)) +\n",
    "\n",
    "ylab(\"Associations between SNV and sgRNA score (p-value)\") +\n",
    "xlab(\"Position on sgRNA\")\n",
    "\n",
    "\n",
    "#Export it to the google bucket\n",
    "setwd('../output')\n",
    "ggsave(\"figure_3e.pdf\", width = 3.5, height = 2)"
   ]
  },
  {
   "cell_type": "code",
   "execution_count": 27,
   "metadata": {
    "vscode": {
     "languageId": "r"
    }
   },
   "outputs": [],
   "source": [
    "#Write the dataset that went into making this plot\n",
    "fig_3e_df_for_export = final.df %>%\n",
    "filter(position %in% c(0:19))\n",
    "\n",
    "setwd(\"../output\")\n",
    "write.table(fig_3e_df_for_export, \"figure3_plotting_df.txt\", sep = \"\\t\", col.names = TRUE, row.names = FALSE, quote = FALSE)"
   ]
  },
  {
   "cell_type": "code",
   "execution_count": 24,
   "metadata": {
    "vscode": {
     "languageId": "r"
    }
   },
   "outputs": [],
   "source": [
    "#Calculate the number of guides where there is a significant association between a SNV and that guide\n",
    "number.with.snp = final.df %>%\n",
    "filter(fdr < 0.05) %>%\n",
    "pull(sgrna) %>%\n",
    "unique() %>%\n",
    "length()\n",
    "\n",
    "#Calculate some values\n",
    "num.unique.snippy.guides = final.df$sgrna %>% unique() %>% length()\n",
    "fraction.of.all.guides = number.with.snp/nrow(avana.bed)\n",
    "fraction.of.snippy.guides = number.with.snp/num.unique.snippy.guides"
   ]
  },
  {
   "cell_type": "code",
   "execution_count": 25,
   "metadata": {
    "vscode": {
     "languageId": "r"
    }
   },
   "outputs": [
    {
     "data": {
      "text/plain": [
       "\n",
       "\tPearson's product-moment correlation\n",
       "\n",
       "data:  ours.doench.merged$median_pval and ours.doench.merged$doench_median_pval\n",
       "t = 3.6823, df = 17, p-value = 0.001847\n",
       "alternative hypothesis: true correlation is not equal to 0\n",
       "95 percent confidence interval:\n",
       " 0.3038316 0.8600971\n",
       "sample estimates:\n",
       "      cor \n",
       "0.6661149 \n"
      ]
     },
     "metadata": {},
     "output_type": "display_data"
    }
   ],
   "source": [
    "#First, collapse the final.df data so that it is in the same format as the doench.median.pvals dataset\n",
    "final.df.medians = final.df %>%\n",
    "select(position, pval) %>%\n",
    "group_by(position) %>%\n",
    "summarise(median(pval))%>%\n",
    "rename(\"median_pval\" = 2) %>%\n",
    "mutate(position = as.numeric(position))\n",
    "\n",
    "final.doench.medians = doench.median.pvals %>%\n",
    "select(-position) %>%\n",
    "rename(\"doench_median_pval\" = median_pval, \"position\" = index)\n",
    "\n",
    "\n",
    "#Merge the two datasets together\n",
    "ours.doench.merged = inner_join(final.df.medians, final.doench.medians, by = \"position\")\n",
    "\n",
    "\n",
    "#Perform correlation and get a p-val to report in the paper\n",
    "cor.test(ours.doench.merged$median_pval, ours.doench.merged$doench_median_pval)"
   ]
  },
  {
   "cell_type": "code",
   "execution_count": 26,
   "metadata": {
    "vscode": {
     "languageId": "r"
    }
   },
   "outputs": [
    {
     "name": "stderr",
     "output_type": "stream",
     "text": [
      "\u001b[1m\u001b[22m`geom_smooth()` using formula = 'y ~ x'\n",
      "\u001b[1m\u001b[22m`geom_smooth()` using formula = 'y ~ x'\n"
     ]
    },
    {
     "data": {
      "image/png": "[encoded data removed]",
      "text/plain": [
       "plot without title"
      ]
     },
     "metadata": {
      "image/png": {
       "height": 420,
       "width": 420
      }
     },
     "output_type": "display_data"
    }
   ],
   "source": [
    "#Generate a correlation plot\n",
    "ours.doench.merged %>%\n",
    "ggplot(aes(x = -log10(median_pval), y = -log10(doench_median_pval))) +\n",
    "geom_point() +\n",
    "geom_smooth(method=lm) +\n",
    "theme_bw() +\n",
    "\n",
    "theme(\n",
    "panel.grid.major = element_blank(),\n",
    "panel.grid.minor = element_blank(), \n",
    "axis.line = element_line(color = \"black\")\n",
    ") +\n",
    "\n",
    "theme(\n",
    "axis.title.x = element_text(size = 12),\n",
    "axis.title.y = element_text(size = 12)\n",
    ") +\n",
    "\n",
    "theme(\n",
    "axis.text=element_text(size = 12),\n",
    "axis.title=element_text(size = 12)\n",
    ") +\n",
    "\n",
    "theme(\n",
    "legend.title = element_text(size = 12),\n",
    "legend.text = element_text(size = 12)\n",
    ") +\n",
    "\n",
    "xlab(\"DepMap median p-value\") +\n",
    "ylab(\"Doench median p-value\") \n",
    "\n",
    "\n",
    "#Export it to the google bucket\n",
    "setwd(\"../output\")\n",
    "ggsave(\"supplemental_figure_8.pdf\", width = 4, height = 4)"
   ]
  },
  {
   "cell_type": "code",
   "execution_count": 28,
   "metadata": {
    "vscode": {
     "languageId": "r"
    }
   },
   "outputs": [],
   "source": [
    "#Write the dataset that went into making this plot\n",
    "sup_fig_8_df_for_export = ours.doench.merged %>%\n",
    "filter(position %in% c(0:19))\n",
    "\n",
    "setwd(\"../output\")\n",
    "write.table(ours.doench.merged, \"supplemental_figure_8_ours_doench_merged.txt\", sep = \"\\t\", col.names = TRUE, row.names = FALSE, quote = FALSE)"
   ]
  }
 ],
 "metadata": {
  "kernelspec": {
   "display_name": "R",
   "language": "R",
   "name": "ir"
  },
  "language_info": {
   "codemirror_mode": "r",
   "file_extension": ".r",
   "mimetype": "text/x-r-source",
   "name": "R",
   "pygments_lexer": "r",
   "version": "4.3.3"
  }
 },
 "nbformat": 4,
 "nbformat_minor": 2
}
