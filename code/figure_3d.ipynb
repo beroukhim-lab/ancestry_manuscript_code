{
 "cells": [
  {
   "cell_type": "code",
   "execution_count": 1,
   "metadata": {
    "vscode": {
     "languageId": "r"
    }
   },
   "outputs": [
    {
     "name": "stderr",
     "output_type": "stream",
     "text": [
      "── \u001b[1mAttaching core tidyverse packages\u001b[22m ──────────────────────── tidyverse 2.0.0 ──\n",
      "\u001b[32m✔\u001b[39m \u001b[34mdplyr    \u001b[39m 1.1.4     \u001b[32m✔\u001b[39m \u001b[34mreadr    \u001b[39m 2.1.5\n",
      "\u001b[32m✔\u001b[39m \u001b[34mforcats  \u001b[39m 1.0.0     \u001b[32m✔\u001b[39m \u001b[34mstringr  \u001b[39m 1.5.1\n",
      "\u001b[32m✔\u001b[39m \u001b[34mggplot2  \u001b[39m 3.5.0     \u001b[32m✔\u001b[39m \u001b[34mtibble   \u001b[39m 3.2.1\n",
      "\u001b[32m✔\u001b[39m \u001b[34mlubridate\u001b[39m 1.9.3     \u001b[32m✔\u001b[39m \u001b[34mtidyr    \u001b[39m 1.3.1\n",
      "\u001b[32m✔\u001b[39m \u001b[34mpurrr    \u001b[39m 1.0.2     \n",
      "── \u001b[1mConflicts\u001b[22m ────────────────────────────────────────── tidyverse_conflicts() ──\n",
      "\u001b[31m✖\u001b[39m \u001b[34mdplyr\u001b[39m::\u001b[32mfilter()\u001b[39m masks \u001b[34mstats\u001b[39m::filter()\n",
      "\u001b[31m✖\u001b[39m \u001b[34mdplyr\u001b[39m::\u001b[32mlag()\u001b[39m    masks \u001b[34mstats\u001b[39m::lag()\n",
      "\u001b[36mℹ\u001b[39m Use the conflicted package (\u001b[3m\u001b[34m<http://conflicted.r-lib.org/>\u001b[39m\u001b[23m) to force all conflicts to become errors\n",
      "\n",
      "Attaching package: ‘reshape2’\n",
      "\n",
      "\n",
      "The following object is masked from ‘package:tidyr’:\n",
      "\n",
      "    smiths\n",
      "\n",
      "\n",
      "\n",
      "Attaching package: ‘data.table’\n",
      "\n",
      "\n",
      "The following objects are masked from ‘package:reshape2’:\n",
      "\n",
      "    dcast, melt\n",
      "\n",
      "\n",
      "The following objects are masked from ‘package:lubridate’:\n",
      "\n",
      "    hour, isoweek, mday, minute, month, quarter, second, wday, week,\n",
      "    yday, year\n",
      "\n",
      "\n",
      "The following objects are masked from ‘package:dplyr’:\n",
      "\n",
      "    between, first, last\n",
      "\n",
      "\n",
      "The following object is masked from ‘package:purrr’:\n",
      "\n",
      "    transpose\n",
      "\n",
      "\n"
     ]
    }
   ],
   "source": [
    "#Set up the environment\n",
    "library(tidyverse)\n",
    "library(reshape2)\n",
    "library(data.table)"
   ]
  },
  {
   "cell_type": "code",
   "execution_count": 2,
   "metadata": {
    "vscode": {
     "languageId": "r"
    }
   },
   "outputs": [],
   "source": [
    "#Get a list of all of the somatic files\n",
    "setwd(\"../tcga_somatic\")\n",
    "somatic.vcf.file.list = list.files(path = \".\", pattern = \"avana.filtered\")"
   ]
  },
  {
   "cell_type": "code",
   "execution_count": 3,
   "metadata": {
    "vscode": {
     "languageId": "r"
    }
   },
   "outputs": [],
   "source": [
    "#Loop through all of the files, load them, filter to passing variants, then calculate the number of variants\n",
    "setwd(\"../tcga_somatic\")\n",
    "num.somatic.variants.in.avana.guides.vector = NULL\n",
    "for(file in somatic.vcf.file.list){\n",
    "    \n",
    "    num.variants = read.table(file, sep = \"\\t\") %>% filter(V7 %in% \"PASS\") %>% nrow() #Load the file and calculate the number of rows (which corresponds to the number of SNVs)\n",
    "    num.somatic.variants.in.avana.guides.vector = c(num.somatic.variants.in.avana.guides.vector, num.variants) #Add this number to the vector outside of the loop\n",
    "}"
   ]
  },
  {
   "cell_type": "code",
   "execution_count": 4,
   "metadata": {
    "vscode": {
     "languageId": "r"
    }
   },
   "outputs": [
    {
     "name": "stderr",
     "output_type": "stream",
     "text": [
      "Warning message:\n",
      "“\u001b[1m\u001b[22mExpected 2 pieces. Missing pieces filled with `NA` in 10 rows [1023, 1032,\n",
      "1039, 1046, 6238, 6240, 6241, 6250, 6291, 10008].”\n",
      "Warning message:\n",
      "“\u001b[1m\u001b[22mExpected 2 pieces. Missing pieces filled with `NA` in 10 rows [1023, 1032,\n",
      "1039, 1046, 6238, 6240, 6241, 6250, 6291, 10008].”\n"
     ]
    }
   ],
   "source": [
    "#Load in the sample information sheet for the vcf files\n",
    "setwd(\"../tcga_somatic\")\n",
    "somatic.vcf.sample.information.sheet = read.table(\"vcf_sample_sheet.tsv\", sep = \"\\t\", header = T) %>%\n",
    "select(File.ID, File.Name,  Project.ID, Sample.ID, Sample.Type) %>%\n",
    "rename(\"file_id\" = 1, \"file_name\" = 2, \"project_id\" = 3, \"sample_id\" = 4, \"sample_type\" = 5) %>%\n",
    "separate(sample_type,  sep = \", \", into = c(\"sample_type_1\", \"sample_type_2\")) %>%\n",
    "separate(sample_id, sep = \", \", into = c(\"sample_id_1\", \"sample_id_2\")) %>%\n",
    "mutate(\"tumor_id\" = ifelse(sample_type_1 %in% \"Primary Tumor\", sample_id_1, \n",
    "                          ifelse(sample_type_2 %in% \"Primary Tumor\", sample_id_2, NA))) %>%\n",
    "\n",
    "mutate(\"normal_id\" = ifelse(sample_type_1 %in% \"Primary Tumor\", sample_id_2, \n",
    "                          ifelse(sample_type_2 %in% \"Primary Tumor\", sample_id_1, NA))) %>%\n",
    "\n",
    "select(file_id, file_name, project_id, tumor_id, normal_id)"
   ]
  },
  {
   "cell_type": "code",
   "execution_count": 5,
   "metadata": {
    "vscode": {
     "languageId": "r"
    }
   },
   "outputs": [],
   "source": [
    "#Assemble a data frame with the somatic variants \n",
    "somatic.variant.in.avana.guide.df = cbind(somatic.vcf.file.list, num.somatic.variants.in.avana.guides.vector) %>%\n",
    "data.frame() %>%\n",
    "rename(\"file_name\" = 1, \"num_somatic_var\" = 2) %>%\n",
    "mutate(num_somatic_var = as.numeric(num_somatic_var)) %>%\n",
    "mutate(file_name = gsub(\"avana.filtered.\", \"\", file_name)) %>%\n",
    "inner_join(somatic.vcf.sample.information.sheet, by = \"file_name\")"
   ]
  },
  {
   "cell_type": "code",
   "execution_count": 6,
   "metadata": {
    "vscode": {
     "languageId": "r"
    }
   },
   "outputs": [],
   "source": [
    "#Load in the sample names\n",
    "setwd(\"../tcga_germline\")\n",
    "germline.sample.names = read.table(\"tcga_germline_sample_names.txt\", sep = \"\\t\") %>% pull(V1)\n",
    "\n",
    "#Load the germline data into R\n",
    "setwd(\"../tcga_germline\")\n",
    "tcga.germline.mutations.in.avana.guides = fread('tcga_germline_variants_in_avana_guides.vcf.gz', sep = \"\\t\", header = FALSE) \n",
    "tcga.germline.mutations.in.avana.guides = tcga.germline.mutations.in.avana.guides[(256:.N),, drop = FALSE]"
   ]
  },
  {
   "cell_type": "code",
   "execution_count": 8,
   "metadata": {
    "vscode": {
     "languageId": "r"
    }
   },
   "outputs": [
    {
     "ename": "ERROR",
     "evalue": "\u001b[1m\u001b[33mError\u001b[39m in `dplyr::select()`:\u001b[22m\n\u001b[33m!\u001b[39m Can't select columns past the end.\n\u001b[1m\u001b[22m\u001b[36mℹ\u001b[39m Location 2 doesn't exist.\n\u001b[36mℹ\u001b[39m There is only 1 column.\n",
     "output_type": "error",
     "traceback": [
      "\u001b[1m\u001b[33mError\u001b[39m in `dplyr::select()`:\u001b[22m\n\u001b[33m!\u001b[39m Can't select columns past the end.\n\u001b[1m\u001b[22m\u001b[36mℹ\u001b[39m Location 2 doesn't exist.\n\u001b[36mℹ\u001b[39m There is only 1 column.\nTraceback:\n",
      "1. tcga.germline.mutations.in.avana.guides %>% dplyr::select(-1, \n .     -2, -3, -4, -5, -6, -7, -8, -9) %>% mutate(across(everything(), \n .     gsub, pattern = \":..*\", replacement = \"\"))",
      "2. mutate(., across(everything(), gsub, pattern = \":..*\", replacement = \"\"))",
      "3. dplyr::select(., -1, -2, -3, -4, -5, -6, -7, -8, -9)",
      "4. select.data.frame(., -1, -2, -3, -4, -5, -6, -7, -8, -9)",
      "5. tidyselect::eval_select(expr(c(...)), data = .data, error_call = error_call)",
      "6. eval_select_impl(data, names(data), as_quosure(expr, env), include = include, \n .     exclude = exclude, strict = strict, name_spec = name_spec, \n .     allow_rename = allow_rename, allow_empty = allow_empty, allow_predicates = allow_predicates, \n .     error_call = error_call, )",
      "7. with_subscript_errors(out <- vars_select_eval(vars, expr, strict = strict, \n .     data = x, name_spec = name_spec, uniquely_named = uniquely_named, \n .     allow_rename = allow_rename, allow_empty = allow_empty, allow_predicates = allow_predicates, \n .     type = type, error_call = error_call), type = type)",
      "8. withCallingHandlers(expr, vctrs_error_subscript = function(cnd) {\n .     cnd$subscript_action <- subscript_action(type)\n .     cnd$subscript_elt <- \"column\"\n .     cnd_signal(cnd)\n . })",
      "9. vars_select_eval(vars, expr, strict = strict, data = x, name_spec = name_spec, \n .     uniquely_named = uniquely_named, allow_rename = allow_rename, \n .     allow_empty = allow_empty, allow_predicates = allow_predicates, \n .     type = type, error_call = error_call)",
      "10. walk_data_tree(expr, data_mask, context_mask)",
      "11. eval_c(expr, data_mask, context_mask)",
      "12. reduce_sels(node, data_mask, context_mask, init = init)",
      "13. sel_diff(out, new, vars, error_call = error_call)",
      "14. loc_validate(y, vars, call = error_call)",
      "15. vctrs::vec_as_location(pos, n = length(vars), call = call)",
      "16. (function () \n  . stop_subscript_oob(i = i, subscript_type = subscript_type, size = size, \n  .     subscript_action = subscript_action, subscript_arg = subscript_arg, \n  .     call = call))()",
      "17. stop_subscript_oob(i = i, subscript_type = subscript_type, size = size, \n  .     subscript_action = subscript_action, subscript_arg = subscript_arg, \n  .     call = call)",
      "18. stop_subscript(class = \"vctrs_error_subscript_oob\", i = i, subscript_type = subscript_type, \n  .     ..., call = call)",
      "19. abort(class = c(class, \"vctrs_error_subscript\"), i = i, ..., \n  .     call = call)",
      "20. signal_abort(cnd, .file)",
      "21. signalCondition(cnd)",
      "22. (function (cnd) \n  . {\n  .     cnd$subscript_action <- subscript_action(type)\n  .     cnd$subscript_elt <- \"column\"\n  .     cnd_signal(cnd)\n  . })(structure(list(message = \"\", trace = structure(list(call = list(\n  .     IRkernel::main(), kernel$run(), handle_shell(), executor$execute(msg), \n  .     tryCatch(evaluate(request$content$code, envir = .GlobalEnv, \n  .         output_handler = oh, stop_on_error = 1L), interrupt = function(cond) {\n  .         log_debug(\"Interrupt during execution\")\n  .         interrupted <<- TRUE\n  .     }, error = .self$handle_error), tryCatchList(expr, classes, \n  .         parentenv, handlers), tryCatchOne(tryCatchList(expr, \n  .         names[-nh], parentenv, handlers[-nh]), names[nh], parentenv, \n  .         handlers[[nh]]), doTryCatch(return(expr), name, parentenv, \n  .         handler), tryCatchList(expr, names[-nh], parentenv, handlers[-nh]), \n  .     tryCatchOne(expr, names, parentenv, handlers[[1L]]), doTryCatch(return(expr), \n  .         name, parentenv, handler), evaluate(request$content$code, \n  .         envir = .GlobalEnv, output_handler = oh, stop_on_error = 1L), \n  .     evaluate_call(expr, parsed$src[[i]], envir = envir, enclos = enclos, \n  .         debug = debug, last = i == length(out), use_try = stop_on_error != \n  .             2L, keep_warning = keep_warning, keep_message = keep_message, \n  .         log_echo = log_echo, log_warning = log_warning, output_handler = output_handler, \n  .         include_timing = include_timing), timing_fn(handle(ev <- withCallingHandlers(withVisible(eval_with_user_handlers(expr, \n  .         envir, enclos, user_handlers)), warning = wHandler, error = eHandler, \n  .         message = mHandler))), handle(ev <- withCallingHandlers(withVisible(eval_with_user_handlers(expr, \n  .         envir, enclos, user_handlers)), warning = wHandler, error = eHandler, \n  .         message = mHandler)), try(f, silent = TRUE), tryCatch(expr, \n  .         error = function(e) {\n  .             call <- conditionCall(e)\n  .             if (!is.null(call)) {\n  .                 if (identical(call[[1L]], quote(doTryCatch))) \n  .                   call <- sys.call(-4L)\n  .                 dcall <- deparse(call, nlines = 1L)\n  .                 prefix <- paste(\"Error in\", dcall, \": \")\n  .                 LONG <- 75L\n  .                 sm <- strsplit(conditionMessage(e), \"\\n\")[[1L]]\n  .                 w <- 14L + nchar(dcall, type = \"w\") + nchar(sm[1L], \n  .                   type = \"w\")\n  .                 if (is.na(w)) \n  .                   w <- 14L + nchar(dcall, type = \"b\") + nchar(sm[1L], \n  .                     type = \"b\")\n  .                 if (w > LONG) \n  .                   prefix <- paste0(prefix, \"\\n  \")\n  .             }\n  .             else prefix <- \"Error : \"\n  .             msg <- paste0(prefix, conditionMessage(e), \"\\n\")\n  .             .Internal(seterrmessage(msg[1L]))\n  .             if (!silent && isTRUE(getOption(\"show.error.messages\"))) {\n  .                 cat(msg, file = outFile)\n  .                 .Internal(printDeferredWarnings())\n  .             }\n  .             invisible(structure(msg, class = \"try-error\", condition = e))\n  .         }), tryCatchList(expr, classes, parentenv, handlers), \n  .     tryCatchOne(expr, names, parentenv, handlers[[1L]]), doTryCatch(return(expr), \n  .         name, parentenv, handler), withCallingHandlers(withVisible(eval_with_user_handlers(expr, \n  .         envir, enclos, user_handlers)), warning = wHandler, error = eHandler, \n  .         message = mHandler), withVisible(eval_with_user_handlers(expr, \n  .         envir, enclos, user_handlers)), eval_with_user_handlers(expr, \n  .         envir, enclos, user_handlers), eval(expr, envir, enclos), \n  .     eval(expr, envir, enclos), tcga.germline.mutations.in.avana.guides %>% \n  .         dplyr::select(-1, -2, -3, -4, -5, -6, -7, -8, -9) %>% \n  .         mutate(across(everything(), gsub, pattern = \":..*\", replacement = \"\")), \n  .     mutate(., across(everything(), gsub, pattern = \":..*\", replacement = \"\")), \n  .     dplyr::select(., -1, -2, -3, -4, -5, -6, -7, -8, -9), select.data.frame(., \n  .         -1, -2, -3, -4, -5, -6, -7, -8, -9), tidyselect::eval_select(expr(c(...)), \n  .         data = .data, error_call = error_call), eval_select_impl(data, \n  .         names(data), as_quosure(expr, env), include = include, \n  .         exclude = exclude, strict = strict, name_spec = name_spec, \n  .         allow_rename = allow_rename, allow_empty = allow_empty, \n  .         allow_predicates = allow_predicates, error_call = error_call, \n  .         ), with_subscript_errors(out <- vars_select_eval(vars, \n  .         expr, strict = strict, data = x, name_spec = name_spec, \n  .         uniquely_named = uniquely_named, allow_rename = allow_rename, \n  .         allow_empty = allow_empty, allow_predicates = allow_predicates, \n  .         type = type, error_call = error_call), type = type), \n  .     withCallingHandlers(expr, vctrs_error_subscript = function(cnd) {\n  .         cnd$subscript_action <- subscript_action(type)\n  .         cnd$subscript_elt <- \"column\"\n  .         cnd_signal(cnd)\n  .     }), vars_select_eval(vars, expr, strict = strict, data = x, \n  .         name_spec = name_spec, uniquely_named = uniquely_named, \n  .         allow_rename = allow_rename, allow_empty = allow_empty, \n  .         allow_predicates = allow_predicates, type = type, error_call = error_call), \n  .     walk_data_tree(expr, data_mask, context_mask), eval_c(expr, \n  .         data_mask, context_mask), reduce_sels(node, data_mask, \n  .         context_mask, init = init), sel_diff(out, new, vars, \n  .         error_call = error_call), loc_validate(y, vars, call = error_call), \n  .     vctrs::vec_as_location(pos, n = length(vars), call = call), \n  .     `<fn>`(), stop_subscript_oob(i = i, subscript_type = subscript_type, \n  .         size = size, subscript_action = subscript_action, subscript_arg = subscript_arg, \n  .         call = call), stop_subscript(class = \"vctrs_error_subscript_oob\", \n  .         i = i, subscript_type = subscript_type, ..., call = call), \n  .     abort(class = c(class, \"vctrs_error_subscript\"), i = i, ..., \n  .         call = call)), parent = c(0L, 1L, 2L, 3L, 4L, 5L, 6L, \n  . 7L, 6L, 9L, 10L, 4L, 12L, 13L, 13L, 15L, 16L, 17L, 18L, 19L, \n  . 13L, 13L, 13L, 23L, 24L, 0L, 0L, 0L, 0L, 29L, 30L, 31L, 32L, \n  . 31L, 34L, 35L, 36L, 37L, 38L, 39L, 0L, 41L, 42L, 43L), visible = c(TRUE, \n  . TRUE, TRUE, TRUE, TRUE, TRUE, TRUE, TRUE, TRUE, TRUE, TRUE, TRUE, \n  . TRUE, TRUE, TRUE, TRUE, TRUE, TRUE, TRUE, TRUE, TRUE, TRUE, TRUE, \n  . TRUE, TRUE, TRUE, TRUE, TRUE, TRUE, FALSE, FALSE, FALSE, FALSE, \n  . FALSE, FALSE, FALSE, FALSE, FALSE, FALSE, FALSE, FALSE, FALSE, \n  . FALSE, FALSE), namespace = c(\"IRkernel\", NA, \"IRkernel\", NA, \n  . \"base\", \"base\", \"base\", \"base\", \"base\", \"base\", \"base\", \"evaluate\", \n  . \"evaluate\", \"evaluate\", \"evaluate\", \"base\", \"base\", \"base\", \"base\", \n  . \"base\", \"base\", \"base\", \"evaluate\", \"base\", \"base\", NA, \"dplyr\", \n  . \"dplyr\", \"dplyr\", \"tidyselect\", \"tidyselect\", \"tidyselect\", \"base\", \n  . \"tidyselect\", \"tidyselect\", \"tidyselect\", \"tidyselect\", \"tidyselect\", \n  . \"tidyselect\", \"vctrs\", \"vctrs\", \"vctrs\", \"vctrs\", \"rlang\"), scope = c(\"::\", \n  . NA, \"local\", NA, \"::\", \"local\", \"local\", \"local\", \"local\", \"local\", \n  . \"local\", \"::\", \":::\", \"local\", \"local\", \"::\", \"::\", \"local\", \n  . \"local\", \"local\", \"::\", \"::\", \":::\", \"::\", \"::\", NA, \"::\", \"::\", \n  . \":::\", \"::\", \":::\", \":::\", \"::\", \":::\", \":::\", \":::\", \":::\", \n  . \":::\", \":::\", \"::\", \"local\", \":::\", \":::\", \"::\"), error_frame = c(FALSE, \n  . FALSE, FALSE, FALSE, FALSE, FALSE, FALSE, FALSE, FALSE, FALSE, \n  . FALSE, FALSE, FALSE, FALSE, FALSE, FALSE, FALSE, FALSE, FALSE, \n  . FALSE, FALSE, FALSE, FALSE, FALSE, FALSE, FALSE, FALSE, FALSE, \n  . TRUE, FALSE, FALSE, FALSE, FALSE, FALSE, FALSE, FALSE, FALSE, \n  . FALSE, FALSE, FALSE, FALSE, FALSE, FALSE, FALSE)), row.names = c(NA, \n  . -44L), version = 2L, class = c(\"rlang_trace\", \"rlib_trace\", \"tbl\", \n  . \"data.frame\")), parent = NULL, i = 2L, subscript_type = \"numeric\", \n  .     size = 1L, subscript_action = NULL, subscript_arg = \"pos\", \n  .     rlang = list(inherit = TRUE), call = dplyr::select(., -1, \n  .         -2, -3, -4, -5, -6, -7, -8, -9)), class = c(\"vctrs_error_subscript_oob\", \n  . \"vctrs_error_subscript\", \"rlang_error\", \"error\", \"condition\")))",
      "23. cnd_signal(cnd)",
      "24. signal_abort(cnd)"
     ]
    }
   ],
   "source": [
    "#Format the dataset so that it is in a format that makes it easy to count\n",
    "num.germline.variants.per.sample = tcga.germline.mutations.in.avana.guides %>%\n",
    "dplyr::select(-V1, -V2, -V3, -V4, -V5, -V6, -V7, -V8, -V9) %>%\n",
    "mutate(across(everything(), gsub, pattern = \":..*\", replacement = \"\")) #Fix all of the encodings for the variants"
   ]
  },
  {
   "cell_type": "code",
   "execution_count": null,
   "metadata": {
    "vscode": {
     "languageId": "r"
    }
   },
   "outputs": [],
   "source": [
    "#Create and write a data frame that has the number of germline variants per sample\n",
    "germline.variants.per.sample.df = cbind(germline.sample.names, variants.per.sample) %>%\n",
    "data.frame() %>%\n",
    "rename(\"sample\" = 1, \"num_germline_variants\" = 2)\n",
    "\n",
    "#Write the data frame\n",
    "setwd(\"../output\")\n",
    "write.table(germline.variants.per.sample.df, \"figure_3d_germline.txt\", sep = \"\\t\", col.names = TRUE, row.names = FALSE, quote = FALSE)"
   ]
  },
  {
   "cell_type": "code",
   "execution_count": null,
   "metadata": {
    "vscode": {
     "languageId": "r"
    }
   },
   "outputs": [],
   "source": [
    "#Format the germline.variants.per.sample.df dataset so that it is in the correct format for merging with the somatic data\n",
    "processed.germline.variants.per.sample.df = germline.variants.per.sample.df %>%\n",
    "separate(sample, sep = \"-\", into = c(\"sample_1\", \"sample_2\", \"sample_3\", \"sample_4\", \"sample_5\", \"sample_6\", \"sample_7\")) %>% #I don't know how to use regex\n",
    "mutate(sample = paste(sample_1, \"-\", sample_2, \"-\", sample_3, \"-\", sample_4, sep = \"\"), .before = 1) %>% #I don't know how to use regex\n",
    "select(-sample_1, -sample_2, -sample_3, -sample_4, -sample_5, -sample_6, -sample_7) #I don't know how to use regex"
   ]
  },
  {
   "cell_type": "code",
   "execution_count": null,
   "metadata": {
    "vscode": {
     "languageId": "r"
    }
   },
   "outputs": [],
   "source": [
    "#Merge the germline and the somatic datasets together\n",
    "merged.tcga.germline.somatic.in.avana = processed.germline.variants.per.sample.df %>%\n",
    "rename(\"normal_id\" = sample) %>%\n",
    "inner_join(somatic.variant.in.avana.guide.df, by = \"normal_id\") %>%\n",
    "mutate(project_id = gsub(\"TCGA-\", \"\", project_id))"
   ]
  },
  {
   "cell_type": "code",
   "execution_count": null,
   "metadata": {
    "vscode": {
     "languageId": "r"
    }
   },
   "outputs": [],
   "source": [
    "#Calculate the mean number of somatic mutations per cancer type\n",
    "somatic.mutations.per.cancer.type = merged.tcga.germline.somatic.in.avana %>%\n",
    "group_by(project_id) %>% \n",
    "summarise(\"num_somatic\" = median(num_somatic_var)) %>%\n",
    "arrange(num_somatic) %>%\n",
    "mutate(project_id = factor(project_id))"
   ]
  },
  {
   "cell_type": "code",
   "execution_count": null,
   "metadata": {
    "vscode": {
     "languageId": "r"
    }
   },
   "outputs": [],
   "source": [
    "#Plot the plot\n",
    "merged.tcga.germline.somatic.in.avana %>%\n",
    "mutate(project_id = factor(project_id, levels = somatic.mutations.per.cancer.type$project_id)) %>%\n",
    "ggplot() +\n",
    "geom_boxplot(aes(x = project_id, y = log10(num_germline_variants)), color = \"firebrick\") +\n",
    "geom_boxplot(aes(x = project_id, y = log10(num_somatic_var)), color = \"grey\") +\n",
    "\n",
    "coord_flip() +\n",
    "\n",
    "theme_bw() +\n",
    "\n",
    "\n",
    "theme(\n",
    "panel.grid.major = element_blank(),\n",
    "panel.grid.minor = element_blank(), \n",
    ") +\n",
    "\n",
    "theme(\n",
    "axis.title.x = element_text(color = \"black\", size = 12),\n",
    "axis.title.y = element_text(color = \"black\", size = 12)\n",
    ") +\n",
    "\n",
    "theme(\n",
    "axis.text = element_text(size = 12),\n",
    "axis.title = element_text(size = 12)\n",
    ") +\n",
    "\n",
    "theme(\n",
    "legend.title = element_text(size = 12),\n",
    "legend.text = element_text(size = 12)\n",
    ") +\n",
    "\n",
    "ylab(\"Number of variants in Avana guides\") +\n",
    "xlab(\"Cancer type\")\n",
    "\n",
    "#Export it to the google bucket\n",
    "setwd('../output')\n",
    "ggsave(\"figure_3d.pdf\", width = 5, height = 6)"
   ]
  },
  {
   "cell_type": "code",
   "execution_count": null,
   "metadata": {
    "vscode": {
     "languageId": "r"
    }
   },
   "outputs": [],
   "source": [
    "#Also write the output df\n",
    "df_for_output = merged.tcga.germline.somatic.in.avana %>%\n",
    "mutate(project_id = factor(project_id, levels = somatic.mutations.per.cancer.type$project_id))\n",
    "\n",
    "setwd(\"../output\")\n",
    "write.table(df_for_output, \"figure_3d_germline_somatic.txt\", sep = \"\\t\", col.names = TRUE, row.names = FALSE, quote = FALSE)"
   ]
  }
 ],
 "metadata": {
  "kernelspec": {
   "display_name": "R",
   "language": "R",
   "name": "ir"
  },
  "language_info": {
   "codemirror_mode": "r",
   "file_extension": ".r",
   "mimetype": "text/x-r-source",
   "name": "R",
   "pygments_lexer": "r",
   "version": "4.3.2"
  }
 },
 "nbformat": 4,
 "nbformat_minor": 2
}
