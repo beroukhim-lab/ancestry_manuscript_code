{
 "cells": [
  {
   "cell_type": "code",
   "execution_count": 1,
   "metadata": {
    "vscode": {
     "languageId": "r"
    }
   },
   "outputs": [
    {
     "name": "stderr",
     "output_type": "stream",
     "text": [
      "── \u001b[1mAttaching core tidyverse packages\u001b[22m ──────────────────────── tidyverse 2.0.0 ──\n",
      "\u001b[32m✔\u001b[39m \u001b[34mdplyr    \u001b[39m 1.1.4     \u001b[32m✔\u001b[39m \u001b[34mreadr    \u001b[39m 2.1.5\n",
      "\u001b[32m✔\u001b[39m \u001b[34mforcats  \u001b[39m 1.0.0     \u001b[32m✔\u001b[39m \u001b[34mstringr  \u001b[39m 1.5.1\n",
      "\u001b[32m✔\u001b[39m \u001b[34mggplot2  \u001b[39m 3.5.0     \u001b[32m✔\u001b[39m \u001b[34mtibble   \u001b[39m 3.2.1\n",
      "\u001b[32m✔\u001b[39m \u001b[34mlubridate\u001b[39m 1.9.3     \u001b[32m✔\u001b[39m \u001b[34mtidyr    \u001b[39m 1.3.1\n",
      "\u001b[32m✔\u001b[39m \u001b[34mpurrr    \u001b[39m 1.0.2     \n",
      "── \u001b[1mConflicts\u001b[22m ────────────────────────────────────────── tidyverse_conflicts() ──\n",
      "\u001b[31m✖\u001b[39m \u001b[34mdplyr\u001b[39m::\u001b[32mfilter()\u001b[39m masks \u001b[34mstats\u001b[39m::filter()\n",
      "\u001b[31m✖\u001b[39m \u001b[34mdplyr\u001b[39m::\u001b[32mlag()\u001b[39m    masks \u001b[34mstats\u001b[39m::lag()\n",
      "\u001b[36mℹ\u001b[39m Use the conflicted package (\u001b[3m\u001b[34m<http://conflicted.r-lib.org/>\u001b[39m\u001b[23m) to force all conflicts to become errors\n",
      "\n",
      "Attaching package: ‘reshape2’\n",
      "\n",
      "\n",
      "The following object is masked from ‘package:tidyr’:\n",
      "\n",
      "    smiths\n",
      "\n",
      "\n"
     ]
    }
   ],
   "source": [
    "#Set up the environment\n",
    "library(tidyverse)\n",
    "library(reshape2)"
   ]
  },
  {
   "cell_type": "code",
   "execution_count": null,
   "metadata": {
    "vscode": {
     "languageId": "r"
    }
   },
   "outputs": [],
   "source": [
    "#Get a list of all of the somatic files\n",
    "setwd(\"../tcga_somatic\")\n",
    "somatic.vcf.file.list = list.files(path = \".\", pattern = \"avana.filtered\")"
   ]
  },
  {
   "cell_type": "code",
   "execution_count": null,
   "metadata": {
    "vscode": {
     "languageId": "r"
    }
   },
   "outputs": [],
   "source": [
    "#Loop through all of the files, load them, filter to passing variants, then calculate the number of variants\n",
    "num.somatic.variants.in.avana.guides.vector = NULL\n",
    "for(file in somatic.vcf.file.list){\n",
    "    \n",
    "    num.variants = read.table(file, sep = \"\\t\") %>% filter(V7 %in% \"PASS\") %>% nrow() #Load the file and calculate the number of rows (which corresponds to the number of SNVs)\n",
    "    num.somatic.variants.in.avana.guides.vector = c(num.somatic.variants.in.avana.guides.vector, num.variants) #Add this number to the vector outside of the loop\n",
    "}"
   ]
  },
  {
   "cell_type": "code",
   "execution_count": 2,
   "metadata": {
    "vscode": {
     "languageId": "r"
    }
   },
   "outputs": [
    {
     "name": "stderr",
     "output_type": "stream",
     "text": [
      "Warning message:\n",
      "“\u001b[1m\u001b[22mExpected 2 pieces. Missing pieces filled with `NA` in 10 rows [1023, 1032,\n",
      "1039, 1046, 6238, 6240, 6241, 6250, 6291, 10008].”\n",
      "Warning message:\n",
      "“\u001b[1m\u001b[22mExpected 2 pieces. Missing pieces filled with `NA` in 10 rows [1023, 1032,\n",
      "1039, 1046, 6238, 6240, 6241, 6250, 6291, 10008].”\n"
     ]
    }
   ],
   "source": [
    "#Load in the sample information sheet for the vcf files\n",
    "setwd(\"../tcga_somatic\")\n",
    "somatic.vcf.sample.information.sheet = read.table(\"vcf_sample_sheet.tsv\", sep = \"\\t\", header = T) %>%\n",
    "select(File.ID, File.Name,  Project.ID, Sample.ID, Sample.Type) %>%\n",
    "rename(\"file_id\" = 1, \"file_name\" = 2, \"project_id\" = 3, \"sample_id\" = 4, \"sample_type\" = 5) %>%\n",
    "separate(sample_type,  sep = \", \", into = c(\"sample_type_1\", \"sample_type_2\")) %>%\n",
    "separate(sample_id, sep = \", \", into = c(\"sample_id_1\", \"sample_id_2\")) %>%\n",
    "mutate(\"tumor_id\" = ifelse(sample_type_1 %in% \"Primary Tumor\", sample_id_1, \n",
    "                          ifelse(sample_type_2 %in% \"Primary Tumor\", sample_id_2, NA))) %>%\n",
    "\n",
    "mutate(\"normal_id\" = ifelse(sample_type_1 %in% \"Primary Tumor\", sample_id_2, \n",
    "                          ifelse(sample_type_2 %in% \"Primary Tumor\", sample_id_1, NA))) %>%\n",
    "\n",
    "select(file_id, file_name, project_id, tumor_id, normal_id)"
   ]
  },
  {
   "cell_type": "code",
   "execution_count": null,
   "metadata": {
    "vscode": {
     "languageId": "r"
    }
   },
   "outputs": [],
   "source": [
    "#Assemble a data frame with the somatic variants \n",
    "somatic.variant.in.avana.guide.df = cbind(somatic.vcf.file.list, num.somatic.variants.in.avana.guides.vector) %>%\n",
    "data.frame() %>%\n",
    "rename(\"file_name\" = 1, \"num_somatic_var\" = 2) %>%\n",
    "mutate(num_somatic_var = as.numeric(num_somatic_var)) %>%\n",
    "mutate(file_name = gsub(\"avana.filtered.\", \"\", file_name)) %>%\n",
    "inner_join(somatic.vcf.sample.information.sheet, by = \"file_name\")\n",
    "\n",
    "head(somatic.variant.in.avana.guide.df)"
   ]
  },
  {
   "cell_type": "code",
   "execution_count": null,
   "metadata": {
    "vscode": {
     "languageId": "r"
    }
   },
   "outputs": [],
   "source": [
    "#Load in the sample names\n",
    "setwd(\"../tcga_germline\")\n",
    "germline.sample.names = read.table(\"tcga_germline_sample_names.txt\", sep = \"\\t\") %>% pull(V1)\n",
    "\n",
    "#Load the germline data into R\n",
    "setwd(\"../tcga_germline\")\n",
    "tcga.germline.mutations.in.avana.guides = read.table(\"tcga_germline_variants_in_avana_guides.vcf.gz\", sep = \"\\t\")"
   ]
  },
  {
   "cell_type": "code",
   "execution_count": null,
   "metadata": {
    "vscode": {
     "languageId": "r"
    }
   },
   "outputs": [],
   "source": [
    "#Format the dataset so that it is in a format that makes it easy to count\n",
    "num.germline.variants.per.sample = tcga.germline.mutations.in.avana.guides %>%\n",
    "dplyr::select(-V1, -V2, -V3, -V4, -V5, -V6, -V7, -V8, -V9) %>%\n",
    "mutate(across(everything(), gsub, pattern = \":..*\", replacement = \"\")) #Fix all of the encodings for the variants"
   ]
  },
  {
   "cell_type": "code",
   "execution_count": null,
   "metadata": {
    "vscode": {
     "languageId": "r"
    }
   },
   "outputs": [],
   "source": [
    "#Format the dataset so that it is in a format that makes it easy to count\n",
    "num.germline.variants.per.sample = tcga.germline.mutations.in.avana.guides %>%\n",
    "dplyr::select(-V1, -V2, -V3, -V4, -V5, -V6, -V7, -V8, -V9) %>%\n",
    "mutate(across(everything(), gsub, pattern = \":..*\", replacement = \"\")) #Fix all of the encodings for the variants"
   ]
  },
  {
   "cell_type": "code",
   "execution_count": null,
   "metadata": {
    "vscode": {
     "languageId": "r"
    }
   },
   "outputs": [],
   "source": [
    "#Create and write a data frame that has the number of germline variants per sample\n",
    "germline.variants.per.sample.df = cbind(germline.sample.names, variants.per.sample) %>%\n",
    "data.frame() %>%\n",
    "rename(\"sample\" = 1, \"num_germline_variants\" = 2)\n",
    "\n",
    "#Write the data frame\n",
    "setwd(\"../output\")\n",
    "write.table(germline.variants.per.sample.df, \"figure_3d_germline.txt\", sep = \"\\t\", col.names = TRUE, row.names = FALSE, quote = FALSE)"
   ]
  },
  {
   "cell_type": "code",
   "execution_count": null,
   "metadata": {
    "vscode": {
     "languageId": "r"
    }
   },
   "outputs": [],
   "source": [
    "#Format the germline.variants.per.sample.df dataset so that it is in the correct format for merging with the somatic data\n",
    "processed.germline.variants.per.sample.df = germline.variants.per.sample.df %>%\n",
    "separate(sample, sep = \"-\", into = c(\"sample_1\", \"sample_2\", \"sample_3\", \"sample_4\", \"sample_5\", \"sample_6\", \"sample_7\")) %>% #I don't know how to use regex\n",
    "mutate(sample = paste(sample_1, \"-\", sample_2, \"-\", sample_3, \"-\", sample_4, sep = \"\"), .before = 1) %>% #I don't know how to use regex\n",
    "select(-sample_1, -sample_2, -sample_3, -sample_4, -sample_5, -sample_6, -sample_7) #I don't know how to use regex"
   ]
  },
  {
   "cell_type": "code",
   "execution_count": null,
   "metadata": {
    "vscode": {
     "languageId": "r"
    }
   },
   "outputs": [],
   "source": [
    "#Merge the germline and the somatic datasets together\n",
    "merged.tcga.germline.somatic.in.avana = processed.germline.variants.per.sample.df %>%\n",
    "rename(\"normal_id\" = sample) %>%\n",
    "inner_join(somatic.variant.in.avana.guide.df, by = \"normal_id\") %>%\n",
    "mutate(project_id = gsub(\"TCGA-\", \"\", project_id))"
   ]
  },
  {
   "cell_type": "code",
   "execution_count": null,
   "metadata": {
    "vscode": {
     "languageId": "r"
    }
   },
   "outputs": [],
   "source": [
    "#Calculate the mean number of somatic mutations per cancer type\n",
    "somatic.mutations.per.cancer.type = merged.tcga.germline.somatic.in.avana %>%\n",
    "group_by(project_id) %>% \n",
    "summarise(\"num_somatic\" = median(num_somatic_var)) %>%\n",
    "arrange(num_somatic) %>%\n",
    "mutate(project_id = factor(project_id))"
   ]
  },
  {
   "cell_type": "code",
   "execution_count": null,
   "metadata": {
    "vscode": {
     "languageId": "r"
    }
   },
   "outputs": [],
   "source": [
    "#Plot the plot\n",
    "merged.tcga.germline.somatic.in.avana %>%\n",
    "mutate(project_id = factor(project_id, levels = somatic.mutations.per.cancer.type$project_id)) %>%\n",
    "ggplot() +\n",
    "geom_boxplot(aes(x = project_id, y = log10(num_germline_variants)), color = \"firebrick\") +\n",
    "geom_boxplot(aes(x = project_id, y = log10(num_somatic_var)), color = \"grey\") +\n",
    "\n",
    "coord_flip() +\n",
    "\n",
    "theme_bw() +\n",
    "\n",
    "\n",
    "theme(\n",
    "panel.grid.major = element_blank(),\n",
    "panel.grid.minor = element_blank(), \n",
    ") +\n",
    "\n",
    "theme(\n",
    "axis.title.x = element_text(color = \"black\", size = 12),\n",
    "axis.title.y = element_text(color = \"black\", size = 12)\n",
    ") +\n",
    "\n",
    "theme(\n",
    "axis.text = element_text(size = 12),\n",
    "axis.title = element_text(size = 12)\n",
    ") +\n",
    "\n",
    "theme(\n",
    "legend.title = element_text(size = 12),\n",
    "legend.text = element_text(size = 12)\n",
    ") +\n",
    "\n",
    "ylab(\"Number of variants in Avana guides\") +\n",
    "xlab(\"Cancer type\")\n",
    "\n",
    "#Export it to the google bucket\n",
    "setwd('../output')\n",
    "ggsave(\"figure_3d.pdf\", width = 5, height = 6)"
   ]
  },
  {
   "cell_type": "code",
   "execution_count": null,
   "metadata": {
    "vscode": {
     "languageId": "r"
    }
   },
   "outputs": [],
   "source": [
    "#Also write the output df\n",
    "df_for_output = merged.tcga.germline.somatic.in.avana %>%\n",
    "mutate(project_id = factor(project_id, levels = somatic.mutations.per.cancer.type$project_id))\n",
    "\n",
    "setwd(\"../output\")\n",
    "write.table(df_for_output, \"figure_3d_germline_somatic.txt\", sep = \"\\t\", col.names = TRUE, row.names = FALSE, quote = FALSE)"
   ]
  }
 ],
 "metadata": {
  "kernelspec": {
   "display_name": "R",
   "language": "R",
   "name": "ir"
  },
  "language_info": {
   "codemirror_mode": "r",
   "file_extension": ".r",
   "mimetype": "text/x-r-source",
   "name": "R",
   "pygments_lexer": "r",
   "version": "4.3.3"
  }
 },
 "nbformat": 4,
 "nbformat_minor": 2
}
