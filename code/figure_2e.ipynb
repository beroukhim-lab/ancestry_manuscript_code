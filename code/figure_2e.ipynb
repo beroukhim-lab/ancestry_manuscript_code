{
 "cells": [
  {
   "cell_type": "code",
   "execution_count": 1,
   "metadata": {
    "vscode": {
     "languageId": "r"
    }
   },
   "outputs": [
    {
     "name": "stderr",
     "output_type": "stream",
     "text": [
      "── \u001b[1mAttaching core tidyverse packages\u001b[22m ──────────────────────── tidyverse 2.0.0 ──\n",
      "\u001b[32m✔\u001b[39m \u001b[34mdplyr    \u001b[39m 1.1.4     \u001b[32m✔\u001b[39m \u001b[34mreadr    \u001b[39m 2.1.5\n",
      "\u001b[32m✔\u001b[39m \u001b[34mforcats  \u001b[39m 1.0.0     \u001b[32m✔\u001b[39m \u001b[34mstringr  \u001b[39m 1.5.1\n",
      "\u001b[32m✔\u001b[39m \u001b[34mggplot2  \u001b[39m 3.5.0     \u001b[32m✔\u001b[39m \u001b[34mtibble   \u001b[39m 3.2.1\n",
      "\u001b[32m✔\u001b[39m \u001b[34mlubridate\u001b[39m 1.9.3     \u001b[32m✔\u001b[39m \u001b[34mtidyr    \u001b[39m 1.3.1\n",
      "\u001b[32m✔\u001b[39m \u001b[34mpurrr    \u001b[39m 1.0.2     \n",
      "── \u001b[1mConflicts\u001b[22m ────────────────────────────────────────── tidyverse_conflicts() ──\n",
      "\u001b[31m✖\u001b[39m \u001b[34mdplyr\u001b[39m::\u001b[32mfilter()\u001b[39m masks \u001b[34mstats\u001b[39m::filter()\n",
      "\u001b[31m✖\u001b[39m \u001b[34mdplyr\u001b[39m::\u001b[32mlag()\u001b[39m    masks \u001b[34mstats\u001b[39m::lag()\n",
      "\u001b[36mℹ\u001b[39m Use the conflicted package (\u001b[3m\u001b[34m<http://conflicted.r-lib.org/>\u001b[39m\u001b[23m) to force all conflicts to become errors\n"
     ]
    }
   ],
   "source": [
    "#Set up the environment\n",
    "library(reshape2)\n",
    "library(tidyverse)"
   ]
  },
  {
   "cell_type": "code",
   "execution_count": 3,
   "metadata": {
    "vscode": {
     "languageId": "r"
    }
   },
   "outputs": [],
   "source": [
    "#Load in the lineage-corrected ancestry-associated p-value data frame\n",
    "setwd(\"../data\")\n",
    "lineage.corrected.pvals = read.table(\"lm_ancestry_associated_dependency_pvals.txt\", sep = \"\\t\", header = T)\n",
    "\n",
    "#Load in the expression data\n",
    "setwd(\"../data\")\n",
    "ccle.expression.22q1 = read.table(\"22q1_expression.csv\", sep = \",\", header = T, check.names = FALSE) %>%\n",
    "setNames(word(names(.), 1)) %>%\n",
    "rename(\"sample\" = 1)"
   ]
  },
  {
   "cell_type": "code",
   "execution_count": 4,
   "metadata": {
    "vscode": {
     "languageId": "r"
    }
   },
   "outputs": [],
   "source": [
    "#Get a vector that has all of the ancestry-associated gene names\n",
    "ancestry.associated.genes = lineage.corrected.pvals %>%\n",
    "filter(afr_fdr < 0.05 | amr_fdr < 0.05 | eas_fdr < 0.05 | eur_fdr < 0.05 | sas_fdr < 0.05) %>%\n",
    "pull(gene)"
   ]
  },
  {
   "cell_type": "code",
   "execution_count": 5,
   "metadata": {
    "vscode": {
     "languageId": "r"
    }
   },
   "outputs": [],
   "source": [
    "#Load in a list of common-essential genes\n",
    "setwd(\"../data\")\n",
    "common.essentials = read.table(\"common_essentials.csv\", sep = \",\", header = T) %>%\n",
    "setNames(word(names(.), 1)) %>%\n",
    "pull(gene) %>%\n",
    "word(., 1)"
   ]
  },
  {
   "cell_type": "code",
   "execution_count": 6,
   "metadata": {
    "vscode": {
     "languageId": "r"
    }
   },
   "outputs": [],
   "source": [
    "#Compute the median expression of all genes\n",
    "median.expression.all.genes = ccle.expression.22q1 %>%\n",
    "select(-sample) %>%\n",
    "apply(2, median)\n",
    "\n",
    "#Compute the median expression for all of the ancestry associated genes\n",
    "median.expression.ancestry.associated = ccle.expression.22q1 %>%\n",
    "melt(id = \"sample\") %>%\n",
    "filter(variable %in% ancestry.associated.genes) %>%\n",
    "group_by(variable) %>%\n",
    "summarise(\"median_value\" = median(value)) %>%\n",
    "pull(median_value)\n",
    "\n",
    "#Compute the median expression for all of the common essential genes\n",
    "median.expression.common.essential = ccle.expression.22q1 %>%\n",
    "melt(id = \"sample\") %>%\n",
    "filter(variable %in% common.essentials) %>%\n",
    "group_by(variable) %>%\n",
    "summarise(\"median_value\" = median(value)) %>%\n",
    "pull(median_value)"
   ]
  },
  {
   "cell_type": "code",
   "execution_count": 7,
   "metadata": {
    "vscode": {
     "languageId": "r"
    }
   },
   "outputs": [
    {
     "name": "stderr",
     "output_type": "stream",
     "text": [
      "\u001b[1m\u001b[22m`stat_bin()` using `bins = 30`. Pick better value with `binwidth`.\n",
      "\u001b[1m\u001b[22m`stat_bin()` using `bins = 30`. Pick better value with `binwidth`.\n"
     ]
    },
    {
     "data": {
      "image/png": "[encoded data removed]",
      "text/plain": [
       "plot without title"
      ]
     },
     "metadata": {
      "image/png": {
       "height": 420,
       "width": 420
      }
     },
     "output_type": "display_data"
    }
   ],
   "source": [
    "#Compile a data frame that has all of these data\n",
    "class.vector = c(rep(\"all\", length(median.expression.all.genes)), rep(\"ancestry\", length(median.expression.ancestry.associated)), rep(\"ce\", length(median.expression.common.essential)))\n",
    "expression.vector = c(median.expression.all.genes, median.expression.ancestry.associated, median.expression.common.essential)\n",
    "\n",
    "#Plot the plot\n",
    "cbind(class.vector, expression.vector) %>%\n",
    "data.frame() %>%\n",
    "rename(\"gene_class\" = 1, \"expression\" = 2) %>%\n",
    "mutate(expression = as.numeric(expression)) %>%\n",
    "mutate(gene_class = factor(gene_class, levels = c(\"all\", \"ce\", \"ancestry\"))) %>%\n",
    "ggplot(aes(x = expression)) +\n",
    "geom_histogram(position = \"identity\") +\n",
    "facet_grid(gene_class ~ 1, scales = \"free\") +\n",
    "\n",
    "theme_bw() +\n",
    "\n",
    "theme(\n",
    "panel.grid.major = element_blank(),\n",
    "panel.grid.minor = element_blank(), \n",
    ") +\n",
    "\n",
    "theme(\n",
    "axis.title.x = element_text(size = 12),\n",
    "axis.title.y = element_text(size = 12)\n",
    ") +\n",
    "\n",
    "theme(\n",
    "axis.text = element_text(size = 12),\n",
    "axis.title = element_text(size = 12)\n",
    ") +\n",
    "\n",
    "theme(\n",
    "legend.title = element_text(size = 12),\n",
    "legend.text = element_text(size = 12)\n",
    ") +\n",
    "\n",
    "ylab(\"Number of genes\") +\n",
    "xlab(\"Gene expression (log2(TPM))\")\n",
    "\n",
    "\n",
    "#Export it to the google bucket\n",
    "setwd('../output')\n",
    "ggsave(\"figure_2e.pdf\", width = 2, height = 4)\n"
   ]
  },
  {
   "cell_type": "code",
   "execution_count": 8,
   "metadata": {
    "vscode": {
     "languageId": "r"
    }
   },
   "outputs": [],
   "source": [
    "#Export the dataset for making figure 2e\n",
    "\n",
    "#Compile a data frame that has all of these data\n",
    "class.vector = c(rep(\"all\", length(median.expression.all.genes)), rep(\"ancestry\", length(median.expression.ancestry.associated)), rep(\"ce\", length(median.expression.common.essential)))\n",
    "expression.vector = c(median.expression.all.genes, median.expression.ancestry.associated, median.expression.common.essential)\n",
    "\n",
    "#Plot the plot\n",
    "df_for_plotting = cbind(class.vector, expression.vector) %>%\n",
    "data.frame() %>%\n",
    "rename(\"gene_class\" = 1, \"expression\" = 2) %>%\n",
    "mutate(expression = as.numeric(expression)) %>%\n",
    "mutate(gene_class = factor(gene_class, levels = c(\"all\", \"ce\", \"ancestry\")))\n",
    "\n",
    "\n",
    "#Write it out\n",
    "setwd(\"../output\")\n",
    "write.table(df_for_plotting, \"figure_2e_df.txt\", sep = \"\\t\", col.names = TRUE, row.names = FALSE, quote = FALSE)\n"
   ]
  }
 ],
 "metadata": {
  "kernelspec": {
   "display_name": "R",
   "language": "R",
   "name": "ir"
  },
  "language_info": {
   "codemirror_mode": "r",
   "file_extension": ".r",
   "mimetype": "text/x-r-source",
   "name": "R",
   "pygments_lexer": "r",
   "version": "4.3.3"
  }
 },
 "nbformat": 4,
 "nbformat_minor": 2
}
