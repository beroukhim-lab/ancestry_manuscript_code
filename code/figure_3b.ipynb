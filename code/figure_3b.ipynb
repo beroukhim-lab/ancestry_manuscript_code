{
 "cells": [
  {
   "cell_type": "code",
   "execution_count": 1,
   "metadata": {
    "vscode": {
     "languageId": "r"
    }
   },
   "outputs": [
    {
     "name": "stderr",
     "output_type": "stream",
     "text": [
      "── \u001b[1mAttaching core tidyverse packages\u001b[22m ──────────────────────── tidyverse 2.0.0 ──\n",
      "\u001b[32m✔\u001b[39m \u001b[34mdplyr    \u001b[39m 1.1.4     \u001b[32m✔\u001b[39m \u001b[34mreadr    \u001b[39m 2.1.5\n",
      "\u001b[32m✔\u001b[39m \u001b[34mforcats  \u001b[39m 1.0.0     \u001b[32m✔\u001b[39m \u001b[34mstringr  \u001b[39m 1.5.1\n",
      "\u001b[32m✔\u001b[39m \u001b[34mggplot2  \u001b[39m 3.5.0     \u001b[32m✔\u001b[39m \u001b[34mtibble   \u001b[39m 3.2.1\n",
      "\u001b[32m✔\u001b[39m \u001b[34mlubridate\u001b[39m 1.9.3     \u001b[32m✔\u001b[39m \u001b[34mtidyr    \u001b[39m 1.3.1\n",
      "\u001b[32m✔\u001b[39m \u001b[34mpurrr    \u001b[39m 1.0.2     \n",
      "── \u001b[1mConflicts\u001b[22m ────────────────────────────────────────── tidyverse_conflicts() ──\n",
      "\u001b[31m✖\u001b[39m \u001b[34mdplyr\u001b[39m::\u001b[32mfilter()\u001b[39m masks \u001b[34mstats\u001b[39m::filter()\n",
      "\u001b[31m✖\u001b[39m \u001b[34mdplyr\u001b[39m::\u001b[32mlag()\u001b[39m    masks \u001b[34mstats\u001b[39m::lag()\n",
      "\u001b[36mℹ\u001b[39m Use the conflicted package (\u001b[3m\u001b[34m<http://conflicted.r-lib.org/>\u001b[39m\u001b[23m) to force all conflicts to become errors\n",
      "\n",
      "Attaching package: ‘janitor’\n",
      "\n",
      "\n",
      "The following objects are masked from ‘package:stats’:\n",
      "\n",
      "    chisq.test, fisher.test\n",
      "\n",
      "\n",
      "\n",
      "Attaching package: ‘data.table’\n",
      "\n",
      "\n",
      "The following objects are masked from ‘package:lubridate’:\n",
      "\n",
      "    hour, isoweek, mday, minute, month, quarter, second, wday, week,\n",
      "    yday, year\n",
      "\n",
      "\n",
      "The following objects are masked from ‘package:dplyr’:\n",
      "\n",
      "    between, first, last\n",
      "\n",
      "\n",
      "The following object is masked from ‘package:purrr’:\n",
      "\n",
      "    transpose\n",
      "\n",
      "\n",
      "The following objects are masked from ‘package:reshape2’:\n",
      "\n",
      "    dcast, melt\n",
      "\n",
      "\n"
     ]
    }
   ],
   "source": [
    "#Set up the environment\n",
    "library(reshape2)\n",
    "library(tidyverse)\n",
    "library(janitor)\n",
    "library(data.table)"
   ]
  },
  {
   "cell_type": "code",
   "execution_count": 3,
   "metadata": {
    "vscode": {
     "languageId": "r"
    }
   },
   "outputs": [],
   "source": [
    "#Load in the avana bed file\n",
    "setwd(\"../data\")\n",
    "avana.bed = read.table('Avana14_filtering.bed', sep = \"\\t\", header = F) %>%\n",
    "rename(\"chr\" = 1, \"start\" = 2, \"end\" = 3, \"sgrna\" = 4) \n",
    "\n",
    "total.avana.guides = avana.bed %>% pull(sgrna) %>% unique() %>% length()"
   ]
  },
  {
   "cell_type": "code",
   "execution_count": null,
   "metadata": {
    "vscode": {
     "languageId": "r"
    }
   },
   "outputs": [],
   "source": [
    "#Create a special bed file for filtering SNPs\n",
    "avana.bed.for.filtering = avana.bed %>%\n",
    "mutate(start = start - 10, .after = start) %>%\n",
    "mutate(end = end + 10, .after = end)\n",
    "\n",
    "#Write the bed file\n",
    "setwd(\"../data\")\n",
    "write.table(avana.bed.for.filtering, \"avana_filtering_bed_file.bed\", sep = \"\\t\", col.names = FALSE, row.names = FALSE, quote = FALSE)"
   ]
  },
  {
   "cell_type": "code",
   "execution_count": 4,
   "metadata": {
    "vscode": {
     "languageId": "r"
    }
   },
   "outputs": [
    {
     "name": "stderr",
     "output_type": "stream",
     "text": [
      "Warning message:\n",
      "“The melt generic in data.table has been passed a data.frame and will attempt to redirect to the relevant reshape2 method; please note that reshape2 is superseded and is no longer actively developed, and this redirection is now deprecated. To continue using melt methods from reshape2 while both libraries are attached, e.g. melt.list, you can prepend the namespace, i.e. reshape2::melt(.). In the next version, this warning will become an error.”\n"
     ]
    }
   ],
   "source": [
    "#Load in the variant calls\n",
    "setwd(\"../data\")\n",
    "all.ccle.variant.calls = read.table(\"snps.in.all.avana.guides.vcf.gz\", sep = \"\\t\")\n",
    "\n",
    "\n",
    "#Load in the sample names\n",
    "setwd(\"../data\")\n",
    "ccle.sample.names = read.table(\"ccle.vcf.sample.names.txt\", sep = \"\\t\") %>%\n",
    "pull(V1)\n",
    "\n",
    "\n",
    "#Build a nice-looking dataset\n",
    "formatted.avana.ccle.variant.calls = all.ccle.variant.calls %>%\n",
    "rename(\"snp\" = 2, \"qual\" = 7) %>%\n",
    "filter(qual %in% \"PASS\") %>%\n",
    "select(-1, -2, -4, -5, -6, -qual, -8, -9)\n",
    "\n",
    "colnames(formatted.avana.ccle.variant.calls) = c(\"snp\", ccle.sample.names)\n",
    "\n",
    "\n",
    "#Melt the dataset and re-format the variant call encoding\n",
    "melted.avana.ccle.variant.calls = formatted.avana.ccle.variant.calls %>%\n",
    "melt(id = \"snp\") %>%\n",
    "mutate(value = gsub(\":.*\", \"\", value)) %>%\n",
    "mutate(value = gsub(\"0\\\\|0\", \"0\", value)) %>%\n",
    "mutate(value = gsub(\"0\\\\|1\", \"1\", value)) %>%\n",
    "mutate(value = gsub(\"1\\\\|0\", \"1\", value)) %>%\n",
    "mutate(value = gsub(\"1\\\\|1\", \"2\", value)) %>%\n",
    "rename(\"sample\" = 2, \"status\" = 3) %>%\n",
    "separate(snp, sep = \":\", into = c(\"chr\", \"pos\", \"ref\", \"alt\")) %>%\n",
    "select(-ref, -alt) %>%\n",
    "mutate(\"snp\" = paste(chr, \":\", pos, sep = \"\"), .before = 1)"
   ]
  },
  {
   "cell_type": "code",
   "execution_count": 5,
   "metadata": {
    "vscode": {
     "languageId": "r"
    }
   },
   "outputs": [],
   "source": [
    "#Create a megabed that has all possible guide positions\n",
    "avana.megabed = avana.bed %>% \n",
    "apply(1, function(x){\n",
    "    \n",
    "    #define some variables\n",
    "    chr.of.interest = x[1]\n",
    "    start.pos.of.interest = x[2]\n",
    "    end.pos.of.interest = x[3]\n",
    "    sgrna.of.interest = x[4]\n",
    "    \n",
    "    #build some vectors\n",
    "    sequence.vector = seq(from = start.pos.of.interest, to = end.pos.of.interest, by = 1)\n",
    "    chr.vector = rep(chr.of.interest, length(sequence.vector))\n",
    "    sgrna.vector = rep(sgrna.of.interest, length(sequence.vector))\n",
    "    \n",
    "    #assemble the dataframe\n",
    "    df.to.export = cbind(chr.vector, sequence.vector, sgrna.vector) %>% data.frame()\n",
    "    \n",
    "    #export the data frame\n",
    "    return(df.to.export)\n",
    "    \n",
    "}) %>%\n",
    "do.call(rbind, .) %>%\n",
    "rename(\"chr\" = 1, \"pos\" = 2, \"sgrna\" = 3) %>%\n",
    "mutate(\"snp\" = paste(chr, \":\", pos, sep = \"\"), .before = chr)"
   ]
  },
  {
   "cell_type": "code",
   "execution_count": 6,
   "metadata": {
    "vscode": {
     "languageId": "r"
    }
   },
   "outputs": [],
   "source": [
    "#Annotate melted.avana.ccle.variant.calls so that is has the affected guide\n",
    "annotated.avana.ccle.variant.calls = melted.avana.ccle.variant.calls %>%\n",
    "rename(\"snp_status\" = status) %>%\n",
    "mutate(\"affected_sgrna\" = plyr::mapvalues(from = avana.megabed$snp, to = avana.megabed$sgrna, snp, warn_missing = FALSE)) %>%\n",
    "filter(!grepl('chr', affected_sgrna)) %>%\n",
    "mutate(snp_status = as.numeric(snp_status))"
   ]
  },
  {
   "cell_type": "code",
   "execution_count": 7,
   "metadata": {
    "vscode": {
     "languageId": "r"
    }
   },
   "outputs": [],
   "source": [
    "#Load in the pre-correction chronos scores\n",
    "setwd(\"../data\")\n",
    "chronos.22q1 = read.table(\"22q1_crispr_gene_effect.csv\", sep = \",\", header = T, check.names = FALSE) %>%\n",
    "setNames(word(names(.), 1)) %>%\n",
    "rename(\"sample\" = 1)\n",
    "\n",
    "#Get a vector of samples in this dataset\n",
    "chronos.22q1.samples = chronos.22q1 %>% pull(sample)\n",
    "\n",
    "#Get vector of snp6 samples\n",
    "snp6.samples = melted.avana.ccle.variant.calls %>% pull(sample) %>% unique()\n",
    "\n",
    "#Get a vector of intersecting samples between chronos and snp6\n",
    "samples.to.keep = intersect(chronos.22q1.samples, snp6.samples)"
   ]
  },
  {
   "cell_type": "code",
   "execution_count": 9,
   "metadata": {
    "vscode": {
     "languageId": "r"
    }
   },
   "outputs": [
    {
     "name": "stdout",
     "output_type": "stream",
     "text": [
      "[1] \"The total number of affected guides is: 3368\"\n",
      "[1] \"The total number of guides affected in at least 10 cell lines is: 3209\"\n",
      "[1] \"4.57627348940854% of guides are affected in at least one cell line.\"\n",
      "[1] \"4.36023207467696% of guides are affected in at least one cell line.\"\n"
     ]
    }
   ],
   "source": [
    "#Calculate the total number of affected guides\n",
    "total.affected.guides = annotated.avana.ccle.variant.calls %>%\n",
    "filter(snp_status >= 1) %>%\n",
    "filter(sample %in% samples.to.keep) %>%\n",
    "pull(affected_sgrna) %>%\n",
    "unique() %>%\n",
    "length()\n",
    "\n",
    "print(paste(\"The total number of affected guides is:\", total.affected.guides))\n",
    "\n",
    "\n",
    "\n",
    "#Calculate the total number of guides that are affected in at least 10 cell lines\n",
    "total.affected.in.10.lines = annotated.avana.ccle.variant.calls %>%\n",
    "filter(snp_status >= 1) %>%\n",
    "filter(sample %in% samples.to.keep) %>%\n",
    "group_by(affected_sgrna) %>%\n",
    "summarize(\"unique_count\" = n_distinct(sample)) %>%\n",
    "filter(unique_count >= 10) %>%\n",
    "pull(affected_sgrna) %>%\n",
    "unique() %>%\n",
    "length()\n",
    "\n",
    "print(paste(\"The total number of guides affected in at least 10 cell lines is:\", total.affected.in.10.lines))\n",
    "\n",
    "\n",
    "\n",
    "#Calculate the percent of guides that are affected\n",
    "percent.of.guides.affected = (total.affected.guides/total.avana.guides)*100\n",
    "\n",
    "print(paste(percent.of.guides.affected, \"% of guides are affected in at least one cell line.\", sep = \"\"))\n",
    "\n",
    "\n",
    "\n",
    "#calculate the precent of guides that are affected in at least 10 cell lines\n",
    "percent.of.guides.affected.in.10.lines = (total.affected.in.10.lines/total.avana.guides)*100\n",
    "\n",
    "print(paste(percent.of.guides.affected.in.10.lines, \"% of guides are affected in at least one cell line.\", sep = \"\"))"
   ]
  },
  {
   "cell_type": "code",
   "execution_count": 10,
   "metadata": {
    "vscode": {
     "languageId": "r"
    }
   },
   "outputs": [],
   "source": [
    "#Load in the single-guide p-value matrix\n",
    "setwd(\"../data\")\n",
    "single.guide.pval.matrix = read.table(\"snv_position_single_guide_finaldf.txt\", sep = \"\\t\", header = T) %>%\n",
    "mutate(position = factor(position, levels = 0:22))\n",
    "\n",
    "#Get a vector with all of the guides that have a significant association\n",
    "all.significant.guides = single.guide.pval.matrix %>%\n",
    "filter(fdr <= 0.05) %>%\n",
    "pull(sgrna) %>%\n",
    "unique()"
   ]
  },
  {
   "cell_type": "code",
   "execution_count": 11,
   "metadata": {
    "vscode": {
     "languageId": "r"
    }
   },
   "outputs": [
    {
     "name": "stdout",
     "output_type": "stream",
     "text": [
      "[1] \"the percent of guides that are affected by a snp in 10 lines and have a significant association with guide dependency score is: 56.2168899968838\"\n",
      "[1] \"the fraction of depmap that is affected is: 2.45118686902999\"\n"
     ]
    }
   ],
   "source": [
    "#Get a vector that contains the guides that are affected in at least 10 cell lines\n",
    "guides.affected.in.10.lines = annotated.avana.ccle.variant.calls %>%\n",
    "filter(snp_status >= 1) %>%\n",
    "filter(sample %in% all_of(samples.to.keep)) %>%\n",
    "group_by(affected_sgrna) %>%\n",
    "summarize(\"unique_count\" = n_distinct(sample)) %>%\n",
    "filter(unique_count >= 10) %>%\n",
    "pull(affected_sgrna) %>%\n",
    "unique()\n",
    "\n",
    "\n",
    "#Of the guides with a SNP, calculate how many are also significant\n",
    "number.affected.and.significant = setdiff(guides.affected.in.10.lines, all.significant.guides) %>% length()\n",
    "percent.affected.and.significant = (number.affected.and.significant/total.affected.in.10.lines)*100\n",
    "print(paste(\"the percent of guides that are affected by a snp in 10 lines and have a significant association with guide dependency score is:\", percent.affected.and.significant))\n",
    "\n",
    "\n",
    "\n",
    "#Of the above guides, what fraction of DepMap do they make up?\n",
    "fraction.of.depmap = (number.affected.and.significant/total.avana.guides)*100\n",
    "print(paste(\"the fraction of depmap that is affected is:\", fraction.of.depmap))"
   ]
  },
  {
   "cell_type": "code",
   "execution_count": 13,
   "metadata": {
    "vscode": {
     "languageId": "r"
    }
   },
   "outputs": [
    {
     "data": {
      "image/png": "[encoded data removed]",
      "text/plain": [
       "plot without title"
      ]
     },
     "metadata": {
      "image/png": {
       "height": 420,
       "width": 420
      }
     },
     "output_type": "display_data"
    }
   ],
   "source": [
    "#Create a new distribution plot\n",
    "df.for.distribution.plot = annotated.avana.ccle.variant.calls %>%\n",
    "filter(snp_status >= 1) %>%\n",
    "filter(sample %in% all_of(samples.to.keep)) %>%\n",
    "group_by(affected_sgrna) %>%\n",
    "summarize(\"unique_count\" = n_distinct(sample)) %>%\n",
    "mutate(\"fraction_affected\" = unique_count/length(samples.to.keep))\n",
    "\n",
    "\n",
    "#Plot the plot\n",
    "df.for.distribution.plot %>%\n",
    "filter(unique_count >= 10) %>%\n",
    "ggplot(aes(x = fraction_affected, fill = \"firebrick4\")) +\n",
    "geom_histogram(bins = 100) +\n",
    "\n",
    "geom_vline(xintercept = 10/length(samples.to.keep), linetype = 2) +\n",
    "\n",
    "theme_bw() +\n",
    "\n",
    "scale_fill_manual(values = \"firebrick4\") +\n",
    "\n",
    "\n",
    "theme(\n",
    "panel.grid.major = element_blank(),\n",
    "panel.grid.minor = element_blank(), \n",
    "axis.line = element_line(color = \"black\")\n",
    ") +\n",
    "\n",
    "theme(\n",
    "axis.title.x = element_text(size = 7),\n",
    "axis.title.y = element_text(size = 7)\n",
    ") +\n",
    "\n",
    "\n",
    "theme(\n",
    "axis.text=element_text(size = 7),\n",
    "axis.title=element_text(size = 7)\n",
    ") +\n",
    "\n",
    "theme(\n",
    "legend.title = element_text(size = 7),\n",
    "legend.text = element_text(size = 7)\n",
    ") +\n",
    "\n",
    "ylab(\"Number of cell lines\") +\n",
    "xlab(\"Fraction of DepMap guides affected\")\n",
    "\n",
    "#Export the figure\n",
    "setwd('../output')\n",
    "ggsave(\"figure_3b.pdf\", width = 4, height = 2)"
   ]
  },
  {
   "cell_type": "code",
   "execution_count": 14,
   "metadata": {
    "vscode": {
     "languageId": "r"
    }
   },
   "outputs": [],
   "source": [
    "#Also write the table\n",
    "df_for_export = df.for.distribution.plot %>%\n",
    "filter(unique_count >= 10)\n",
    "\n",
    "\n",
    "setwd(\"../output\")\n",
    "write.table(df_for_export, \"figure_3b_distribution_table.txt\", sep = \"\\t\", row.names = FALSE, quote = FALSE)"
   ]
  },
  {
   "cell_type": "code",
   "execution_count": null,
   "metadata": {
    "vscode": {
     "languageId": "r"
    }
   },
   "outputs": [],
   "source": []
  },
  {
   "cell_type": "code",
   "execution_count": null,
   "metadata": {
    "vscode": {
     "languageId": "r"
    }
   },
   "outputs": [],
   "source": []
  },
  {
   "cell_type": "code",
   "execution_count": null,
   "metadata": {
    "vscode": {
     "languageId": "r"
    }
   },
   "outputs": [],
   "source": []
  }
 ],
 "metadata": {
  "kernelspec": {
   "display_name": "R",
   "language": "R",
   "name": "ir"
  },
  "language_info": {
   "codemirror_mode": "r",
   "file_extension": ".r",
   "mimetype": "text/x-r-source",
   "name": "R",
   "pygments_lexer": "r",
   "version": "4.3.2"
  }
 },
 "nbformat": 4,
 "nbformat_minor": 2
}
