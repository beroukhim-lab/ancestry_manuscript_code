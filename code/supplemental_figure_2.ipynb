{
 "cells": [
  {
   "cell_type": "code",
   "execution_count": 9,
   "metadata": {
    "vscode": {
     "languageId": "r"
    }
   },
   "outputs": [
    {
     "name": "stderr",
     "output_type": "stream",
     "text": [
      "\n",
      "Attaching package: ‘data.table’\n",
      "\n",
      "\n",
      "The following objects are masked from ‘package:lubridate’:\n",
      "\n",
      "    hour, isoweek, mday, minute, month, quarter, second, wday, week,\n",
      "    yday, year\n",
      "\n",
      "\n",
      "The following objects are masked from ‘package:dplyr’:\n",
      "\n",
      "    between, first, last\n",
      "\n",
      "\n",
      "The following object is masked from ‘package:purrr’:\n",
      "\n",
      "    transpose\n",
      "\n",
      "\n",
      "The following objects are masked from ‘package:reshape2’:\n",
      "\n",
      "    dcast, melt\n",
      "\n",
      "\n"
     ]
    }
   ],
   "source": [
    "#Set up the environment\n",
    "library(reshape2)\n",
    "library(tidyverse)\n",
    "library(data.table)"
   ]
  },
  {
   "cell_type": "code",
   "execution_count": 10,
   "metadata": {
    "vscode": {
     "languageId": "r"
    }
   },
   "outputs": [],
   "source": [
    "#Load in the depmap expression data \n",
    "setwd(\"../data\")\n",
    "depmap.expression = fread(\"22q1_expression.csv\", sep = \",\", header = T, check.names = FALSE) %>%\n",
    "setNames(word(names(.), 1))"
   ]
  },
  {
   "cell_type": "code",
   "execution_count": 14,
   "metadata": {
    "vscode": {
     "languageId": "r"
    }
   },
   "outputs": [],
   "source": [
    "#Grab every gene that is on chr9 and test if expression of those genes is also associated with CDKN2B expression\n",
    "setwd(\"../data\")\n",
    "refgene = fread(\"hg38.refGene.gtf\", header = F, sep = \"\\t\") %>%\n",
    "select(V1, V3, V4, V5, 7, V9) %>%\n",
    "rename(\"chr\" = V1, \"type\" = V3, \"start\" = V4, \"end\" = V5, \"strand\" = V7, \"gene\" = V9) %>%\n",
    "filter(type %in% \"transcript\") %>%\n",
    "mutate(\"position\" = ifelse(strand %in% \"+\", start, end)) %>%\n",
    "mutate(gene = gsub(\";..*\", \"\", gene)) %>%\n",
    "mutate(gene = gsub(\"gene_id \", \"\", gene)) %>%\n",
    "select(chr, position, strand, gene) %>%\n",
    "distinct(gene, .keep_all = TRUE) %>%\n",
    "filter(chr %in% \"chr9\") \n",
    "\n",
    "genes.on.chr9 = refgene %>% pull(gene) %>%\n",
    "intersect(names(depmap.expression))"
   ]
  },
  {
   "cell_type": "code",
   "execution_count": 5,
   "metadata": {
    "vscode": {
     "languageId": "r"
    }
   },
   "outputs": [],
   "source": [
    "#Load in the SNP genotype matrix and format it\n",
    "#First, load in the sample names\n",
    "setwd(\"../data\")\n",
    "sample.names = read.table(\"ccle.vcf.sample.names.txt\", sep = \"\\t\") %>%\n",
    "pull(1) %>%\n",
    "c(\"snp\", .)\n",
    "\n",
    "#load in the filtered SNPS\n",
    "setwd(\"../data\")\n",
    "filtered.snps = read.table(\"extracted.snps\", sep = \"\\t\") \n",
    "\n",
    "#Now assemble the big matrix\n",
    "assembled.matrix = filtered.snps %>%\n",
    "select(-1, -2, -3, -4, -5, -6, -7, -8, -9) %>%\n",
    "apply(2, function(x){gsub(\":..*\", \"\", x)}) %>%\n",
    "apply(2, function(x){gsub(\"0\\\\|0\", \"0\", x)}) %>%\n",
    "apply(2, function(x){gsub(\"0\\\\|1\", \"1\", x)}) %>%\n",
    "apply(2, function(x){gsub(\"1\\\\|0\", \"1\", x)}) %>%\n",
    "apply(2, function(x){gsub(\"1\\\\|1\", \"2\", x)}) %>%\n",
    "data.frame() %>%\n",
    "mutate(\"snp\" = filtered.snps$V3, .before = 1) %>%\n",
    "rename_all(~sample.names)"
   ]
  },
  {
   "cell_type": "code",
   "execution_count": 6,
   "metadata": {
    "vscode": {
     "languageId": "r"
    }
   },
   "outputs": [],
   "source": [
    "#Get a list of samples with the snp and samples without the snp\n",
    "samples.with.snp = assembled.matrix %>% filter(snp %in% \"chr9:21986219:C:T\") %>%\n",
    "select_if(~max(.) >= 1) %>%\n",
    "colnames(.) %>%\n",
    ".[2:length(.)]\n",
    "\n",
    "samples.without.snp = assembled.matrix %>% filter(snp %in% \"chr9:21986219:C:T\") %>%\n",
    "select_if(~min(.) == 0) %>%\n",
    "colnames(.) %>%\n",
    ".[2:length(.)]\n"
   ]
  },
  {
   "cell_type": "code",
   "execution_count": 25,
   "metadata": {
    "vscode": {
     "languageId": "r"
    }
   },
   "outputs": [],
   "source": [
    "#Load in the gene-level CN data\n",
    "setwd(\"../data\")\n",
    "depmap.cn = fread(\"22q1_CCLE_gene_cn.csv\", sep = \",\", header = T, check.names = FALSE) %>%\n",
    "setNames(word(names(.), 1))"
   ]
  },
  {
   "cell_type": "code",
   "execution_count": 27,
   "metadata": {
    "vscode": {
     "languageId": "r"
    }
   },
   "outputs": [],
   "source": [
    "#Extract the CN information for just CDKN2B\n",
    "cdkn2b.cn = depmap.cn %>%\n",
    "rename(\"sample\" = 1) %>%\n",
    "select(sample, CDKN2B)\n",
    "\n",
    "#assemble a data frame that has the cell line name and the SNP call for our favorite SNP\n",
    "cdkn2b.snp = assembled.matrix %>% filter(snp %in% \"chr9:21986219:C:T\") %>%\n",
    "select(-snp) %>%\n",
    "t() %>%\n",
    "data.frame() %>%\n",
    "rename(\"snp.call\" = 1) %>%\n",
    "mutate(sample = row.names(.), .before = snp.call)\n",
    "\n",
    "#merge them both together\n",
    "merged.cn.snp = inner_join(cdkn2b.cn, cdkn2b.snp, by = \"sample\")"
   ]
  },
  {
   "cell_type": "code",
   "execution_count": 29,
   "metadata": {
    "vscode": {
     "languageId": "r"
    }
   },
   "outputs": [
    {
     "data": {
      "image/png": "[encoded data removed]",
      "text/plain": [
       "plot without title"
      ]
     },
     "metadata": {
      "image/png": {
       "height": 420,
       "width": 420
      }
     },
     "output_type": "display_data"
    }
   ],
   "source": [
    "#Now plot the copy number as a function of the SNP call\n",
    "merged.cn.snp %>%\n",
    "ggplot() +\n",
    "geom_boxplot(aes(x = snp.call, y = CDKN2B)) +\n",
    "theme_bw() +\n",
    "\n",
    "theme(\n",
    "panel.border = element_blank(), \n",
    "panel.grid.major = element_blank(),\n",
    "panel.grid.minor = element_blank(), \n",
    "axis.line = element_line(color = \"black\")\n",
    ") +\n",
    "\n",
    "theme(\n",
    "axis.text.x = element_text(face=\"bold\", size=14),\n",
    "axis.text.y = element_text(face=\"bold\", size=14)\n",
    ") +\n",
    "\n",
    "theme(\n",
    "panel.border = element_blank(), panel.grid.major = element_blank(),\n",
    "panel.grid.minor = element_blank(), axis.line = element_line(color = \"black\")\n",
    ") +\n",
    "\n",
    "theme(\n",
    "axis.title.x = element_text(color = \"black\", size = 20, face = \"bold\"),\n",
    "axis.title.y = element_text(color = \"black\", size = 20, face = \"bold\")\n",
    ") +\n",
    "\n",
    "theme(\n",
    "axis.text=element_text(size = 14, face = \"bold\"),\n",
    ") +\n",
    "\n",
    "theme(\n",
    "legend.title = element_text(size = 14, face = \"bold\"),\n",
    "legend.text = element_text(size = 10, face = \"bold\")\n",
    ") \n",
    "\n",
    "setwd('../output')\n",
    "ggsave(\"supplemental_figure_2.pdf\", width = 5, height = 3)"
   ]
  },
  {
   "cell_type": "code",
   "execution_count": 30,
   "metadata": {
    "vscode": {
     "languageId": "r"
    }
   },
   "outputs": [],
   "source": [
    "#Write the data to a file\n",
    "setwd(\"../data\")\n",
    "write.table(merged.cn.snp, \"supplemental_figure_2_merged_cn_snp.txt\", sep = \"\\t\", col.names = TRUE, row.names = F, quote = F)"
   ]
  },
  {
   "cell_type": "code",
   "execution_count": null,
   "metadata": {
    "vscode": {
     "languageId": "r"
    }
   },
   "outputs": [],
   "source": []
  },
  {
   "cell_type": "code",
   "execution_count": null,
   "metadata": {
    "vscode": {
     "languageId": "r"
    }
   },
   "outputs": [],
   "source": []
  },
  {
   "cell_type": "code",
   "execution_count": null,
   "metadata": {
    "vscode": {
     "languageId": "r"
    }
   },
   "outputs": [],
   "source": []
  }
 ],
 "metadata": {
  "kernelspec": {
   "display_name": "R",
   "language": "R",
   "name": "ir"
  },
  "language_info": {
   "codemirror_mode": "r",
   "file_extension": ".r",
   "mimetype": "text/x-r-source",
   "name": "R",
   "pygments_lexer": "r",
   "version": "4.3.2"
  }
 },
 "nbformat": 4,
 "nbformat_minor": 2
}
